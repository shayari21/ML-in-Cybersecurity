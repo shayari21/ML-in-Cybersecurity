{
  "nbformat": 4,
  "nbformat_minor": 0,
  "metadata": {
    "colab": {
      "name": "2021_11_12_Task_02_ESS_Workcopy.ipynb",
      "provenance": [],
      "collapsed_sections": []
    },
    "kernelspec": {
      "display_name": "Python 3 (ipykernel)",
      "language": "python",
      "name": "python3"
    },
    "language_info": {
      "codemirror_mode": {
        "name": "ipython",
        "version": 3
      },
      "file_extension": ".py",
      "mimetype": "text/x-python",
      "name": "python",
      "nbconvert_exporter": "python",
      "pygments_lexer": "ipython3",
      "version": "3.9.7"
    },
    "widgets": {
      "application/vnd.jupyter.widget-state+json": {
        "cd97f35c46e54cd8b923cddd734033ed": {
          "model_module": "@jupyter-widgets/controls",
          "model_name": "HBoxModel",
          "model_module_version": "1.5.0",
          "state": {
            "_view_name": "HBoxView",
            "_dom_classes": [],
            "_model_name": "HBoxModel",
            "_view_module": "@jupyter-widgets/controls",
            "_model_module_version": "1.5.0",
            "_view_count": null,
            "_view_module_version": "1.5.0",
            "box_style": "",
            "layout": "IPY_MODEL_7c307ddb05654d0787a25a6da6c6ee72",
            "_model_module": "@jupyter-widgets/controls",
            "children": [
              "IPY_MODEL_5acf495a0f10471b8df410e6a8c20e0b",
              "IPY_MODEL_4886d3bda4ac4eef9b9b3fdfbef80669",
              "IPY_MODEL_5db27bc1ad8b402d9481fb03054ca9dc"
            ]
          }
        },
        "7c307ddb05654d0787a25a6da6c6ee72": {
          "model_module": "@jupyter-widgets/base",
          "model_name": "LayoutModel",
          "model_module_version": "1.2.0",
          "state": {
            "_view_name": "LayoutView",
            "grid_template_rows": null,
            "right": null,
            "justify_content": null,
            "_view_module": "@jupyter-widgets/base",
            "overflow": null,
            "_model_module_version": "1.2.0",
            "_view_count": null,
            "flex_flow": null,
            "width": null,
            "min_width": null,
            "border": null,
            "align_items": null,
            "bottom": null,
            "_model_module": "@jupyter-widgets/base",
            "top": null,
            "grid_column": null,
            "overflow_y": null,
            "overflow_x": null,
            "grid_auto_flow": null,
            "grid_area": null,
            "grid_template_columns": null,
            "flex": null,
            "_model_name": "LayoutModel",
            "justify_items": null,
            "grid_row": null,
            "max_height": null,
            "align_content": null,
            "visibility": null,
            "align_self": null,
            "height": null,
            "min_height": null,
            "padding": null,
            "grid_auto_rows": null,
            "grid_gap": null,
            "max_width": null,
            "order": null,
            "_view_module_version": "1.2.0",
            "grid_template_areas": null,
            "object_position": null,
            "object_fit": null,
            "grid_auto_columns": null,
            "margin": null,
            "display": null,
            "left": null
          }
        },
        "5acf495a0f10471b8df410e6a8c20e0b": {
          "model_module": "@jupyter-widgets/controls",
          "model_name": "HTMLModel",
          "model_module_version": "1.5.0",
          "state": {
            "_view_name": "HTMLView",
            "style": "IPY_MODEL_6b7bb7058811458191545f1ebee69021",
            "_dom_classes": [],
            "description": "",
            "_model_name": "HTMLModel",
            "placeholder": "​",
            "_view_module": "@jupyter-widgets/controls",
            "_model_module_version": "1.5.0",
            "value": "",
            "_view_count": null,
            "_view_module_version": "1.5.0",
            "description_tooltip": null,
            "_model_module": "@jupyter-widgets/controls",
            "layout": "IPY_MODEL_701c2764345842e587bdd5ba92897fc1"
          }
        },
        "4886d3bda4ac4eef9b9b3fdfbef80669": {
          "model_module": "@jupyter-widgets/controls",
          "model_name": "FloatProgressModel",
          "model_module_version": "1.5.0",
          "state": {
            "_view_name": "ProgressView",
            "style": "IPY_MODEL_db832dfd41ce4e7385fc72b12e91a3eb",
            "_dom_classes": [],
            "description": "",
            "_model_name": "FloatProgressModel",
            "bar_style": "success",
            "max": 9912422,
            "_view_module": "@jupyter-widgets/controls",
            "_model_module_version": "1.5.0",
            "value": 9912422,
            "_view_count": null,
            "_view_module_version": "1.5.0",
            "orientation": "horizontal",
            "min": 0,
            "description_tooltip": null,
            "_model_module": "@jupyter-widgets/controls",
            "layout": "IPY_MODEL_34f8f8415ecd4d6491131f82a3031463"
          }
        },
        "5db27bc1ad8b402d9481fb03054ca9dc": {
          "model_module": "@jupyter-widgets/controls",
          "model_name": "HTMLModel",
          "model_module_version": "1.5.0",
          "state": {
            "_view_name": "HTMLView",
            "style": "IPY_MODEL_278878b3d4c04788a02f3c4a245e6f06",
            "_dom_classes": [],
            "description": "",
            "_model_name": "HTMLModel",
            "placeholder": "​",
            "_view_module": "@jupyter-widgets/controls",
            "_model_module_version": "1.5.0",
            "value": " 9913344/? [00:02&lt;00:00, 10382704.60it/s]",
            "_view_count": null,
            "_view_module_version": "1.5.0",
            "description_tooltip": null,
            "_model_module": "@jupyter-widgets/controls",
            "layout": "IPY_MODEL_42711c0422064308b8e36213298ab7d0"
          }
        },
        "6b7bb7058811458191545f1ebee69021": {
          "model_module": "@jupyter-widgets/controls",
          "model_name": "DescriptionStyleModel",
          "model_module_version": "1.5.0",
          "state": {
            "_view_name": "StyleView",
            "_model_name": "DescriptionStyleModel",
            "description_width": "",
            "_view_module": "@jupyter-widgets/base",
            "_model_module_version": "1.5.0",
            "_view_count": null,
            "_view_module_version": "1.2.0",
            "_model_module": "@jupyter-widgets/controls"
          }
        },
        "701c2764345842e587bdd5ba92897fc1": {
          "model_module": "@jupyter-widgets/base",
          "model_name": "LayoutModel",
          "model_module_version": "1.2.0",
          "state": {
            "_view_name": "LayoutView",
            "grid_template_rows": null,
            "right": null,
            "justify_content": null,
            "_view_module": "@jupyter-widgets/base",
            "overflow": null,
            "_model_module_version": "1.2.0",
            "_view_count": null,
            "flex_flow": null,
            "width": null,
            "min_width": null,
            "border": null,
            "align_items": null,
            "bottom": null,
            "_model_module": "@jupyter-widgets/base",
            "top": null,
            "grid_column": null,
            "overflow_y": null,
            "overflow_x": null,
            "grid_auto_flow": null,
            "grid_area": null,
            "grid_template_columns": null,
            "flex": null,
            "_model_name": "LayoutModel",
            "justify_items": null,
            "grid_row": null,
            "max_height": null,
            "align_content": null,
            "visibility": null,
            "align_self": null,
            "height": null,
            "min_height": null,
            "padding": null,
            "grid_auto_rows": null,
            "grid_gap": null,
            "max_width": null,
            "order": null,
            "_view_module_version": "1.2.0",
            "grid_template_areas": null,
            "object_position": null,
            "object_fit": null,
            "grid_auto_columns": null,
            "margin": null,
            "display": null,
            "left": null
          }
        },
        "db832dfd41ce4e7385fc72b12e91a3eb": {
          "model_module": "@jupyter-widgets/controls",
          "model_name": "ProgressStyleModel",
          "model_module_version": "1.5.0",
          "state": {
            "_view_name": "StyleView",
            "_model_name": "ProgressStyleModel",
            "description_width": "",
            "_view_module": "@jupyter-widgets/base",
            "_model_module_version": "1.5.0",
            "_view_count": null,
            "_view_module_version": "1.2.0",
            "bar_color": null,
            "_model_module": "@jupyter-widgets/controls"
          }
        },
        "34f8f8415ecd4d6491131f82a3031463": {
          "model_module": "@jupyter-widgets/base",
          "model_name": "LayoutModel",
          "model_module_version": "1.2.0",
          "state": {
            "_view_name": "LayoutView",
            "grid_template_rows": null,
            "right": null,
            "justify_content": null,
            "_view_module": "@jupyter-widgets/base",
            "overflow": null,
            "_model_module_version": "1.2.0",
            "_view_count": null,
            "flex_flow": null,
            "width": null,
            "min_width": null,
            "border": null,
            "align_items": null,
            "bottom": null,
            "_model_module": "@jupyter-widgets/base",
            "top": null,
            "grid_column": null,
            "overflow_y": null,
            "overflow_x": null,
            "grid_auto_flow": null,
            "grid_area": null,
            "grid_template_columns": null,
            "flex": null,
            "_model_name": "LayoutModel",
            "justify_items": null,
            "grid_row": null,
            "max_height": null,
            "align_content": null,
            "visibility": null,
            "align_self": null,
            "height": null,
            "min_height": null,
            "padding": null,
            "grid_auto_rows": null,
            "grid_gap": null,
            "max_width": null,
            "order": null,
            "_view_module_version": "1.2.0",
            "grid_template_areas": null,
            "object_position": null,
            "object_fit": null,
            "grid_auto_columns": null,
            "margin": null,
            "display": null,
            "left": null
          }
        },
        "278878b3d4c04788a02f3c4a245e6f06": {
          "model_module": "@jupyter-widgets/controls",
          "model_name": "DescriptionStyleModel",
          "model_module_version": "1.5.0",
          "state": {
            "_view_name": "StyleView",
            "_model_name": "DescriptionStyleModel",
            "description_width": "",
            "_view_module": "@jupyter-widgets/base",
            "_model_module_version": "1.5.0",
            "_view_count": null,
            "_view_module_version": "1.2.0",
            "_model_module": "@jupyter-widgets/controls"
          }
        },
        "42711c0422064308b8e36213298ab7d0": {
          "model_module": "@jupyter-widgets/base",
          "model_name": "LayoutModel",
          "model_module_version": "1.2.0",
          "state": {
            "_view_name": "LayoutView",
            "grid_template_rows": null,
            "right": null,
            "justify_content": null,
            "_view_module": "@jupyter-widgets/base",
            "overflow": null,
            "_model_module_version": "1.2.0",
            "_view_count": null,
            "flex_flow": null,
            "width": null,
            "min_width": null,
            "border": null,
            "align_items": null,
            "bottom": null,
            "_model_module": "@jupyter-widgets/base",
            "top": null,
            "grid_column": null,
            "overflow_y": null,
            "overflow_x": null,
            "grid_auto_flow": null,
            "grid_area": null,
            "grid_template_columns": null,
            "flex": null,
            "_model_name": "LayoutModel",
            "justify_items": null,
            "grid_row": null,
            "max_height": null,
            "align_content": null,
            "visibility": null,
            "align_self": null,
            "height": null,
            "min_height": null,
            "padding": null,
            "grid_auto_rows": null,
            "grid_gap": null,
            "max_width": null,
            "order": null,
            "_view_module_version": "1.2.0",
            "grid_template_areas": null,
            "object_position": null,
            "object_fit": null,
            "grid_auto_columns": null,
            "margin": null,
            "display": null,
            "left": null
          }
        },
        "3817e6251b2348c08e21bbc41a06024e": {
          "model_module": "@jupyter-widgets/controls",
          "model_name": "HBoxModel",
          "model_module_version": "1.5.0",
          "state": {
            "_view_name": "HBoxView",
            "_dom_classes": [],
            "_model_name": "HBoxModel",
            "_view_module": "@jupyter-widgets/controls",
            "_model_module_version": "1.5.0",
            "_view_count": null,
            "_view_module_version": "1.5.0",
            "box_style": "",
            "layout": "IPY_MODEL_e59b562da9094e6abf1732add0ed90e9",
            "_model_module": "@jupyter-widgets/controls",
            "children": [
              "IPY_MODEL_a436098c471b4944a2510f7c6cb1279a",
              "IPY_MODEL_ac534e5dfef34ebf89ece2ece7c86c78",
              "IPY_MODEL_93b2d2bf61254f2498f8e97ca91de19e"
            ]
          }
        },
        "e59b562da9094e6abf1732add0ed90e9": {
          "model_module": "@jupyter-widgets/base",
          "model_name": "LayoutModel",
          "model_module_version": "1.2.0",
          "state": {
            "_view_name": "LayoutView",
            "grid_template_rows": null,
            "right": null,
            "justify_content": null,
            "_view_module": "@jupyter-widgets/base",
            "overflow": null,
            "_model_module_version": "1.2.0",
            "_view_count": null,
            "flex_flow": null,
            "width": null,
            "min_width": null,
            "border": null,
            "align_items": null,
            "bottom": null,
            "_model_module": "@jupyter-widgets/base",
            "top": null,
            "grid_column": null,
            "overflow_y": null,
            "overflow_x": null,
            "grid_auto_flow": null,
            "grid_area": null,
            "grid_template_columns": null,
            "flex": null,
            "_model_name": "LayoutModel",
            "justify_items": null,
            "grid_row": null,
            "max_height": null,
            "align_content": null,
            "visibility": null,
            "align_self": null,
            "height": null,
            "min_height": null,
            "padding": null,
            "grid_auto_rows": null,
            "grid_gap": null,
            "max_width": null,
            "order": null,
            "_view_module_version": "1.2.0",
            "grid_template_areas": null,
            "object_position": null,
            "object_fit": null,
            "grid_auto_columns": null,
            "margin": null,
            "display": null,
            "left": null
          }
        },
        "a436098c471b4944a2510f7c6cb1279a": {
          "model_module": "@jupyter-widgets/controls",
          "model_name": "HTMLModel",
          "model_module_version": "1.5.0",
          "state": {
            "_view_name": "HTMLView",
            "style": "IPY_MODEL_f3947c69dd604aaa8ccb1f03441e0826",
            "_dom_classes": [],
            "description": "",
            "_model_name": "HTMLModel",
            "placeholder": "​",
            "_view_module": "@jupyter-widgets/controls",
            "_model_module_version": "1.5.0",
            "value": "",
            "_view_count": null,
            "_view_module_version": "1.5.0",
            "description_tooltip": null,
            "_model_module": "@jupyter-widgets/controls",
            "layout": "IPY_MODEL_788655973eb64cd88e747776dd5edcbb"
          }
        },
        "ac534e5dfef34ebf89ece2ece7c86c78": {
          "model_module": "@jupyter-widgets/controls",
          "model_name": "FloatProgressModel",
          "model_module_version": "1.5.0",
          "state": {
            "_view_name": "ProgressView",
            "style": "IPY_MODEL_d815b848ca964463b0411464e702a35e",
            "_dom_classes": [],
            "description": "",
            "_model_name": "FloatProgressModel",
            "bar_style": "success",
            "max": 28881,
            "_view_module": "@jupyter-widgets/controls",
            "_model_module_version": "1.5.0",
            "value": 28881,
            "_view_count": null,
            "_view_module_version": "1.5.0",
            "orientation": "horizontal",
            "min": 0,
            "description_tooltip": null,
            "_model_module": "@jupyter-widgets/controls",
            "layout": "IPY_MODEL_4a4b73cb5128444ebe500c9a8e9658ec"
          }
        },
        "93b2d2bf61254f2498f8e97ca91de19e": {
          "model_module": "@jupyter-widgets/controls",
          "model_name": "HTMLModel",
          "model_module_version": "1.5.0",
          "state": {
            "_view_name": "HTMLView",
            "style": "IPY_MODEL_1f659438d45f4b55b96fa88f9094da4b",
            "_dom_classes": [],
            "description": "",
            "_model_name": "HTMLModel",
            "placeholder": "​",
            "_view_module": "@jupyter-widgets/controls",
            "_model_module_version": "1.5.0",
            "value": " 29696/? [00:00&lt;00:00, 595915.33it/s]",
            "_view_count": null,
            "_view_module_version": "1.5.0",
            "description_tooltip": null,
            "_model_module": "@jupyter-widgets/controls",
            "layout": "IPY_MODEL_c6dc90e641ea426d9c032c088aa3f396"
          }
        },
        "f3947c69dd604aaa8ccb1f03441e0826": {
          "model_module": "@jupyter-widgets/controls",
          "model_name": "DescriptionStyleModel",
          "model_module_version": "1.5.0",
          "state": {
            "_view_name": "StyleView",
            "_model_name": "DescriptionStyleModel",
            "description_width": "",
            "_view_module": "@jupyter-widgets/base",
            "_model_module_version": "1.5.0",
            "_view_count": null,
            "_view_module_version": "1.2.0",
            "_model_module": "@jupyter-widgets/controls"
          }
        },
        "788655973eb64cd88e747776dd5edcbb": {
          "model_module": "@jupyter-widgets/base",
          "model_name": "LayoutModel",
          "model_module_version": "1.2.0",
          "state": {
            "_view_name": "LayoutView",
            "grid_template_rows": null,
            "right": null,
            "justify_content": null,
            "_view_module": "@jupyter-widgets/base",
            "overflow": null,
            "_model_module_version": "1.2.0",
            "_view_count": null,
            "flex_flow": null,
            "width": null,
            "min_width": null,
            "border": null,
            "align_items": null,
            "bottom": null,
            "_model_module": "@jupyter-widgets/base",
            "top": null,
            "grid_column": null,
            "overflow_y": null,
            "overflow_x": null,
            "grid_auto_flow": null,
            "grid_area": null,
            "grid_template_columns": null,
            "flex": null,
            "_model_name": "LayoutModel",
            "justify_items": null,
            "grid_row": null,
            "max_height": null,
            "align_content": null,
            "visibility": null,
            "align_self": null,
            "height": null,
            "min_height": null,
            "padding": null,
            "grid_auto_rows": null,
            "grid_gap": null,
            "max_width": null,
            "order": null,
            "_view_module_version": "1.2.0",
            "grid_template_areas": null,
            "object_position": null,
            "object_fit": null,
            "grid_auto_columns": null,
            "margin": null,
            "display": null,
            "left": null
          }
        },
        "d815b848ca964463b0411464e702a35e": {
          "model_module": "@jupyter-widgets/controls",
          "model_name": "ProgressStyleModel",
          "model_module_version": "1.5.0",
          "state": {
            "_view_name": "StyleView",
            "_model_name": "ProgressStyleModel",
            "description_width": "",
            "_view_module": "@jupyter-widgets/base",
            "_model_module_version": "1.5.0",
            "_view_count": null,
            "_view_module_version": "1.2.0",
            "bar_color": null,
            "_model_module": "@jupyter-widgets/controls"
          }
        },
        "4a4b73cb5128444ebe500c9a8e9658ec": {
          "model_module": "@jupyter-widgets/base",
          "model_name": "LayoutModel",
          "model_module_version": "1.2.0",
          "state": {
            "_view_name": "LayoutView",
            "grid_template_rows": null,
            "right": null,
            "justify_content": null,
            "_view_module": "@jupyter-widgets/base",
            "overflow": null,
            "_model_module_version": "1.2.0",
            "_view_count": null,
            "flex_flow": null,
            "width": null,
            "min_width": null,
            "border": null,
            "align_items": null,
            "bottom": null,
            "_model_module": "@jupyter-widgets/base",
            "top": null,
            "grid_column": null,
            "overflow_y": null,
            "overflow_x": null,
            "grid_auto_flow": null,
            "grid_area": null,
            "grid_template_columns": null,
            "flex": null,
            "_model_name": "LayoutModel",
            "justify_items": null,
            "grid_row": null,
            "max_height": null,
            "align_content": null,
            "visibility": null,
            "align_self": null,
            "height": null,
            "min_height": null,
            "padding": null,
            "grid_auto_rows": null,
            "grid_gap": null,
            "max_width": null,
            "order": null,
            "_view_module_version": "1.2.0",
            "grid_template_areas": null,
            "object_position": null,
            "object_fit": null,
            "grid_auto_columns": null,
            "margin": null,
            "display": null,
            "left": null
          }
        },
        "1f659438d45f4b55b96fa88f9094da4b": {
          "model_module": "@jupyter-widgets/controls",
          "model_name": "DescriptionStyleModel",
          "model_module_version": "1.5.0",
          "state": {
            "_view_name": "StyleView",
            "_model_name": "DescriptionStyleModel",
            "description_width": "",
            "_view_module": "@jupyter-widgets/base",
            "_model_module_version": "1.5.0",
            "_view_count": null,
            "_view_module_version": "1.2.0",
            "_model_module": "@jupyter-widgets/controls"
          }
        },
        "c6dc90e641ea426d9c032c088aa3f396": {
          "model_module": "@jupyter-widgets/base",
          "model_name": "LayoutModel",
          "model_module_version": "1.2.0",
          "state": {
            "_view_name": "LayoutView",
            "grid_template_rows": null,
            "right": null,
            "justify_content": null,
            "_view_module": "@jupyter-widgets/base",
            "overflow": null,
            "_model_module_version": "1.2.0",
            "_view_count": null,
            "flex_flow": null,
            "width": null,
            "min_width": null,
            "border": null,
            "align_items": null,
            "bottom": null,
            "_model_module": "@jupyter-widgets/base",
            "top": null,
            "grid_column": null,
            "overflow_y": null,
            "overflow_x": null,
            "grid_auto_flow": null,
            "grid_area": null,
            "grid_template_columns": null,
            "flex": null,
            "_model_name": "LayoutModel",
            "justify_items": null,
            "grid_row": null,
            "max_height": null,
            "align_content": null,
            "visibility": null,
            "align_self": null,
            "height": null,
            "min_height": null,
            "padding": null,
            "grid_auto_rows": null,
            "grid_gap": null,
            "max_width": null,
            "order": null,
            "_view_module_version": "1.2.0",
            "grid_template_areas": null,
            "object_position": null,
            "object_fit": null,
            "grid_auto_columns": null,
            "margin": null,
            "display": null,
            "left": null
          }
        },
        "ff6eb3e9779549eb8fd803fe5254d95d": {
          "model_module": "@jupyter-widgets/controls",
          "model_name": "HBoxModel",
          "model_module_version": "1.5.0",
          "state": {
            "_view_name": "HBoxView",
            "_dom_classes": [],
            "_model_name": "HBoxModel",
            "_view_module": "@jupyter-widgets/controls",
            "_model_module_version": "1.5.0",
            "_view_count": null,
            "_view_module_version": "1.5.0",
            "box_style": "",
            "layout": "IPY_MODEL_0d49b099c1394086b509b0efe72d4446",
            "_model_module": "@jupyter-widgets/controls",
            "children": [
              "IPY_MODEL_0e3c1beea4eb4efdb04718c75e94dcf5",
              "IPY_MODEL_f805ebbd6a8d40eb9a0a628fff3e6d95",
              "IPY_MODEL_e6e8cde394c248a6aecc54f5c3f1295b"
            ]
          }
        },
        "0d49b099c1394086b509b0efe72d4446": {
          "model_module": "@jupyter-widgets/base",
          "model_name": "LayoutModel",
          "model_module_version": "1.2.0",
          "state": {
            "_view_name": "LayoutView",
            "grid_template_rows": null,
            "right": null,
            "justify_content": null,
            "_view_module": "@jupyter-widgets/base",
            "overflow": null,
            "_model_module_version": "1.2.0",
            "_view_count": null,
            "flex_flow": null,
            "width": null,
            "min_width": null,
            "border": null,
            "align_items": null,
            "bottom": null,
            "_model_module": "@jupyter-widgets/base",
            "top": null,
            "grid_column": null,
            "overflow_y": null,
            "overflow_x": null,
            "grid_auto_flow": null,
            "grid_area": null,
            "grid_template_columns": null,
            "flex": null,
            "_model_name": "LayoutModel",
            "justify_items": null,
            "grid_row": null,
            "max_height": null,
            "align_content": null,
            "visibility": null,
            "align_self": null,
            "height": null,
            "min_height": null,
            "padding": null,
            "grid_auto_rows": null,
            "grid_gap": null,
            "max_width": null,
            "order": null,
            "_view_module_version": "1.2.0",
            "grid_template_areas": null,
            "object_position": null,
            "object_fit": null,
            "grid_auto_columns": null,
            "margin": null,
            "display": null,
            "left": null
          }
        },
        "0e3c1beea4eb4efdb04718c75e94dcf5": {
          "model_module": "@jupyter-widgets/controls",
          "model_name": "HTMLModel",
          "model_module_version": "1.5.0",
          "state": {
            "_view_name": "HTMLView",
            "style": "IPY_MODEL_f1a663f594e148778a9e8776294eae19",
            "_dom_classes": [],
            "description": "",
            "_model_name": "HTMLModel",
            "placeholder": "​",
            "_view_module": "@jupyter-widgets/controls",
            "_model_module_version": "1.5.0",
            "value": "",
            "_view_count": null,
            "_view_module_version": "1.5.0",
            "description_tooltip": null,
            "_model_module": "@jupyter-widgets/controls",
            "layout": "IPY_MODEL_d7cd3d381bb0477db423671eabc6f32f"
          }
        },
        "f805ebbd6a8d40eb9a0a628fff3e6d95": {
          "model_module": "@jupyter-widgets/controls",
          "model_name": "FloatProgressModel",
          "model_module_version": "1.5.0",
          "state": {
            "_view_name": "ProgressView",
            "style": "IPY_MODEL_d9ca73c066bb461eaafab0827c777dac",
            "_dom_classes": [],
            "description": "",
            "_model_name": "FloatProgressModel",
            "bar_style": "success",
            "max": 1648877,
            "_view_module": "@jupyter-widgets/controls",
            "_model_module_version": "1.5.0",
            "value": 1648877,
            "_view_count": null,
            "_view_module_version": "1.5.0",
            "orientation": "horizontal",
            "min": 0,
            "description_tooltip": null,
            "_model_module": "@jupyter-widgets/controls",
            "layout": "IPY_MODEL_264340d0f66246c995f91ac2c7befa6a"
          }
        },
        "e6e8cde394c248a6aecc54f5c3f1295b": {
          "model_module": "@jupyter-widgets/controls",
          "model_name": "HTMLModel",
          "model_module_version": "1.5.0",
          "state": {
            "_view_name": "HTMLView",
            "style": "IPY_MODEL_31050c113b5f4c3198f3873639989d97",
            "_dom_classes": [],
            "description": "",
            "_model_name": "HTMLModel",
            "placeholder": "​",
            "_view_module": "@jupyter-widgets/controls",
            "_model_module_version": "1.5.0",
            "value": " 1649664/? [00:00&lt;00:00, 4401024.33it/s]",
            "_view_count": null,
            "_view_module_version": "1.5.0",
            "description_tooltip": null,
            "_model_module": "@jupyter-widgets/controls",
            "layout": "IPY_MODEL_3d57af4b239143c9a0357e9038582886"
          }
        },
        "f1a663f594e148778a9e8776294eae19": {
          "model_module": "@jupyter-widgets/controls",
          "model_name": "DescriptionStyleModel",
          "model_module_version": "1.5.0",
          "state": {
            "_view_name": "StyleView",
            "_model_name": "DescriptionStyleModel",
            "description_width": "",
            "_view_module": "@jupyter-widgets/base",
            "_model_module_version": "1.5.0",
            "_view_count": null,
            "_view_module_version": "1.2.0",
            "_model_module": "@jupyter-widgets/controls"
          }
        },
        "d7cd3d381bb0477db423671eabc6f32f": {
          "model_module": "@jupyter-widgets/base",
          "model_name": "LayoutModel",
          "model_module_version": "1.2.0",
          "state": {
            "_view_name": "LayoutView",
            "grid_template_rows": null,
            "right": null,
            "justify_content": null,
            "_view_module": "@jupyter-widgets/base",
            "overflow": null,
            "_model_module_version": "1.2.0",
            "_view_count": null,
            "flex_flow": null,
            "width": null,
            "min_width": null,
            "border": null,
            "align_items": null,
            "bottom": null,
            "_model_module": "@jupyter-widgets/base",
            "top": null,
            "grid_column": null,
            "overflow_y": null,
            "overflow_x": null,
            "grid_auto_flow": null,
            "grid_area": null,
            "grid_template_columns": null,
            "flex": null,
            "_model_name": "LayoutModel",
            "justify_items": null,
            "grid_row": null,
            "max_height": null,
            "align_content": null,
            "visibility": null,
            "align_self": null,
            "height": null,
            "min_height": null,
            "padding": null,
            "grid_auto_rows": null,
            "grid_gap": null,
            "max_width": null,
            "order": null,
            "_view_module_version": "1.2.0",
            "grid_template_areas": null,
            "object_position": null,
            "object_fit": null,
            "grid_auto_columns": null,
            "margin": null,
            "display": null,
            "left": null
          }
        },
        "d9ca73c066bb461eaafab0827c777dac": {
          "model_module": "@jupyter-widgets/controls",
          "model_name": "ProgressStyleModel",
          "model_module_version": "1.5.0",
          "state": {
            "_view_name": "StyleView",
            "_model_name": "ProgressStyleModel",
            "description_width": "",
            "_view_module": "@jupyter-widgets/base",
            "_model_module_version": "1.5.0",
            "_view_count": null,
            "_view_module_version": "1.2.0",
            "bar_color": null,
            "_model_module": "@jupyter-widgets/controls"
          }
        },
        "264340d0f66246c995f91ac2c7befa6a": {
          "model_module": "@jupyter-widgets/base",
          "model_name": "LayoutModel",
          "model_module_version": "1.2.0",
          "state": {
            "_view_name": "LayoutView",
            "grid_template_rows": null,
            "right": null,
            "justify_content": null,
            "_view_module": "@jupyter-widgets/base",
            "overflow": null,
            "_model_module_version": "1.2.0",
            "_view_count": null,
            "flex_flow": null,
            "width": null,
            "min_width": null,
            "border": null,
            "align_items": null,
            "bottom": null,
            "_model_module": "@jupyter-widgets/base",
            "top": null,
            "grid_column": null,
            "overflow_y": null,
            "overflow_x": null,
            "grid_auto_flow": null,
            "grid_area": null,
            "grid_template_columns": null,
            "flex": null,
            "_model_name": "LayoutModel",
            "justify_items": null,
            "grid_row": null,
            "max_height": null,
            "align_content": null,
            "visibility": null,
            "align_self": null,
            "height": null,
            "min_height": null,
            "padding": null,
            "grid_auto_rows": null,
            "grid_gap": null,
            "max_width": null,
            "order": null,
            "_view_module_version": "1.2.0",
            "grid_template_areas": null,
            "object_position": null,
            "object_fit": null,
            "grid_auto_columns": null,
            "margin": null,
            "display": null,
            "left": null
          }
        },
        "31050c113b5f4c3198f3873639989d97": {
          "model_module": "@jupyter-widgets/controls",
          "model_name": "DescriptionStyleModel",
          "model_module_version": "1.5.0",
          "state": {
            "_view_name": "StyleView",
            "_model_name": "DescriptionStyleModel",
            "description_width": "",
            "_view_module": "@jupyter-widgets/base",
            "_model_module_version": "1.5.0",
            "_view_count": null,
            "_view_module_version": "1.2.0",
            "_model_module": "@jupyter-widgets/controls"
          }
        },
        "3d57af4b239143c9a0357e9038582886": {
          "model_module": "@jupyter-widgets/base",
          "model_name": "LayoutModel",
          "model_module_version": "1.2.0",
          "state": {
            "_view_name": "LayoutView",
            "grid_template_rows": null,
            "right": null,
            "justify_content": null,
            "_view_module": "@jupyter-widgets/base",
            "overflow": null,
            "_model_module_version": "1.2.0",
            "_view_count": null,
            "flex_flow": null,
            "width": null,
            "min_width": null,
            "border": null,
            "align_items": null,
            "bottom": null,
            "_model_module": "@jupyter-widgets/base",
            "top": null,
            "grid_column": null,
            "overflow_y": null,
            "overflow_x": null,
            "grid_auto_flow": null,
            "grid_area": null,
            "grid_template_columns": null,
            "flex": null,
            "_model_name": "LayoutModel",
            "justify_items": null,
            "grid_row": null,
            "max_height": null,
            "align_content": null,
            "visibility": null,
            "align_self": null,
            "height": null,
            "min_height": null,
            "padding": null,
            "grid_auto_rows": null,
            "grid_gap": null,
            "max_width": null,
            "order": null,
            "_view_module_version": "1.2.0",
            "grid_template_areas": null,
            "object_position": null,
            "object_fit": null,
            "grid_auto_columns": null,
            "margin": null,
            "display": null,
            "left": null
          }
        },
        "e49b63d98871447caab30bfe22b4c0b6": {
          "model_module": "@jupyter-widgets/controls",
          "model_name": "HBoxModel",
          "model_module_version": "1.5.0",
          "state": {
            "_view_name": "HBoxView",
            "_dom_classes": [],
            "_model_name": "HBoxModel",
            "_view_module": "@jupyter-widgets/controls",
            "_model_module_version": "1.5.0",
            "_view_count": null,
            "_view_module_version": "1.5.0",
            "box_style": "",
            "layout": "IPY_MODEL_ebaf8af4908649a4be7d0b4adda02637",
            "_model_module": "@jupyter-widgets/controls",
            "children": [
              "IPY_MODEL_5c03ab99c12846c287551c0b88082faf",
              "IPY_MODEL_79eeecfda0ee42b0b3e1da52114c28cc",
              "IPY_MODEL_39663f19f15c4df9890aa750a9ed095d"
            ]
          }
        },
        "ebaf8af4908649a4be7d0b4adda02637": {
          "model_module": "@jupyter-widgets/base",
          "model_name": "LayoutModel",
          "model_module_version": "1.2.0",
          "state": {
            "_view_name": "LayoutView",
            "grid_template_rows": null,
            "right": null,
            "justify_content": null,
            "_view_module": "@jupyter-widgets/base",
            "overflow": null,
            "_model_module_version": "1.2.0",
            "_view_count": null,
            "flex_flow": null,
            "width": null,
            "min_width": null,
            "border": null,
            "align_items": null,
            "bottom": null,
            "_model_module": "@jupyter-widgets/base",
            "top": null,
            "grid_column": null,
            "overflow_y": null,
            "overflow_x": null,
            "grid_auto_flow": null,
            "grid_area": null,
            "grid_template_columns": null,
            "flex": null,
            "_model_name": "LayoutModel",
            "justify_items": null,
            "grid_row": null,
            "max_height": null,
            "align_content": null,
            "visibility": null,
            "align_self": null,
            "height": null,
            "min_height": null,
            "padding": null,
            "grid_auto_rows": null,
            "grid_gap": null,
            "max_width": null,
            "order": null,
            "_view_module_version": "1.2.0",
            "grid_template_areas": null,
            "object_position": null,
            "object_fit": null,
            "grid_auto_columns": null,
            "margin": null,
            "display": null,
            "left": null
          }
        },
        "5c03ab99c12846c287551c0b88082faf": {
          "model_module": "@jupyter-widgets/controls",
          "model_name": "HTMLModel",
          "model_module_version": "1.5.0",
          "state": {
            "_view_name": "HTMLView",
            "style": "IPY_MODEL_21402a6e479646429819835858b9c38e",
            "_dom_classes": [],
            "description": "",
            "_model_name": "HTMLModel",
            "placeholder": "​",
            "_view_module": "@jupyter-widgets/controls",
            "_model_module_version": "1.5.0",
            "value": "",
            "_view_count": null,
            "_view_module_version": "1.5.0",
            "description_tooltip": null,
            "_model_module": "@jupyter-widgets/controls",
            "layout": "IPY_MODEL_05f82d0b28c34744a740daa60e1eda41"
          }
        },
        "79eeecfda0ee42b0b3e1da52114c28cc": {
          "model_module": "@jupyter-widgets/controls",
          "model_name": "FloatProgressModel",
          "model_module_version": "1.5.0",
          "state": {
            "_view_name": "ProgressView",
            "style": "IPY_MODEL_7cd14e23c2cc4e9789995ceb5de1018c",
            "_dom_classes": [],
            "description": "",
            "_model_name": "FloatProgressModel",
            "bar_style": "success",
            "max": 4542,
            "_view_module": "@jupyter-widgets/controls",
            "_model_module_version": "1.5.0",
            "value": 4542,
            "_view_count": null,
            "_view_module_version": "1.5.0",
            "orientation": "horizontal",
            "min": 0,
            "description_tooltip": null,
            "_model_module": "@jupyter-widgets/controls",
            "layout": "IPY_MODEL_9b131af133b84362ba12e4f03060b18c"
          }
        },
        "39663f19f15c4df9890aa750a9ed095d": {
          "model_module": "@jupyter-widgets/controls",
          "model_name": "HTMLModel",
          "model_module_version": "1.5.0",
          "state": {
            "_view_name": "HTMLView",
            "style": "IPY_MODEL_d879372100514104bca9dfb6f4996496",
            "_dom_classes": [],
            "description": "",
            "_model_name": "HTMLModel",
            "placeholder": "​",
            "_view_module": "@jupyter-widgets/controls",
            "_model_module_version": "1.5.0",
            "value": " 5120/? [00:00&lt;00:00, 89925.87it/s]",
            "_view_count": null,
            "_view_module_version": "1.5.0",
            "description_tooltip": null,
            "_model_module": "@jupyter-widgets/controls",
            "layout": "IPY_MODEL_339b01a2ea9146ae91cd762a4ad08109"
          }
        },
        "21402a6e479646429819835858b9c38e": {
          "model_module": "@jupyter-widgets/controls",
          "model_name": "DescriptionStyleModel",
          "model_module_version": "1.5.0",
          "state": {
            "_view_name": "StyleView",
            "_model_name": "DescriptionStyleModel",
            "description_width": "",
            "_view_module": "@jupyter-widgets/base",
            "_model_module_version": "1.5.0",
            "_view_count": null,
            "_view_module_version": "1.2.0",
            "_model_module": "@jupyter-widgets/controls"
          }
        },
        "05f82d0b28c34744a740daa60e1eda41": {
          "model_module": "@jupyter-widgets/base",
          "model_name": "LayoutModel",
          "model_module_version": "1.2.0",
          "state": {
            "_view_name": "LayoutView",
            "grid_template_rows": null,
            "right": null,
            "justify_content": null,
            "_view_module": "@jupyter-widgets/base",
            "overflow": null,
            "_model_module_version": "1.2.0",
            "_view_count": null,
            "flex_flow": null,
            "width": null,
            "min_width": null,
            "border": null,
            "align_items": null,
            "bottom": null,
            "_model_module": "@jupyter-widgets/base",
            "top": null,
            "grid_column": null,
            "overflow_y": null,
            "overflow_x": null,
            "grid_auto_flow": null,
            "grid_area": null,
            "grid_template_columns": null,
            "flex": null,
            "_model_name": "LayoutModel",
            "justify_items": null,
            "grid_row": null,
            "max_height": null,
            "align_content": null,
            "visibility": null,
            "align_self": null,
            "height": null,
            "min_height": null,
            "padding": null,
            "grid_auto_rows": null,
            "grid_gap": null,
            "max_width": null,
            "order": null,
            "_view_module_version": "1.2.0",
            "grid_template_areas": null,
            "object_position": null,
            "object_fit": null,
            "grid_auto_columns": null,
            "margin": null,
            "display": null,
            "left": null
          }
        },
        "7cd14e23c2cc4e9789995ceb5de1018c": {
          "model_module": "@jupyter-widgets/controls",
          "model_name": "ProgressStyleModel",
          "model_module_version": "1.5.0",
          "state": {
            "_view_name": "StyleView",
            "_model_name": "ProgressStyleModel",
            "description_width": "",
            "_view_module": "@jupyter-widgets/base",
            "_model_module_version": "1.5.0",
            "_view_count": null,
            "_view_module_version": "1.2.0",
            "bar_color": null,
            "_model_module": "@jupyter-widgets/controls"
          }
        },
        "9b131af133b84362ba12e4f03060b18c": {
          "model_module": "@jupyter-widgets/base",
          "model_name": "LayoutModel",
          "model_module_version": "1.2.0",
          "state": {
            "_view_name": "LayoutView",
            "grid_template_rows": null,
            "right": null,
            "justify_content": null,
            "_view_module": "@jupyter-widgets/base",
            "overflow": null,
            "_model_module_version": "1.2.0",
            "_view_count": null,
            "flex_flow": null,
            "width": null,
            "min_width": null,
            "border": null,
            "align_items": null,
            "bottom": null,
            "_model_module": "@jupyter-widgets/base",
            "top": null,
            "grid_column": null,
            "overflow_y": null,
            "overflow_x": null,
            "grid_auto_flow": null,
            "grid_area": null,
            "grid_template_columns": null,
            "flex": null,
            "_model_name": "LayoutModel",
            "justify_items": null,
            "grid_row": null,
            "max_height": null,
            "align_content": null,
            "visibility": null,
            "align_self": null,
            "height": null,
            "min_height": null,
            "padding": null,
            "grid_auto_rows": null,
            "grid_gap": null,
            "max_width": null,
            "order": null,
            "_view_module_version": "1.2.0",
            "grid_template_areas": null,
            "object_position": null,
            "object_fit": null,
            "grid_auto_columns": null,
            "margin": null,
            "display": null,
            "left": null
          }
        },
        "d879372100514104bca9dfb6f4996496": {
          "model_module": "@jupyter-widgets/controls",
          "model_name": "DescriptionStyleModel",
          "model_module_version": "1.5.0",
          "state": {
            "_view_name": "StyleView",
            "_model_name": "DescriptionStyleModel",
            "description_width": "",
            "_view_module": "@jupyter-widgets/base",
            "_model_module_version": "1.5.0",
            "_view_count": null,
            "_view_module_version": "1.2.0",
            "_model_module": "@jupyter-widgets/controls"
          }
        },
        "339b01a2ea9146ae91cd762a4ad08109": {
          "model_module": "@jupyter-widgets/base",
          "model_name": "LayoutModel",
          "model_module_version": "1.2.0",
          "state": {
            "_view_name": "LayoutView",
            "grid_template_rows": null,
            "right": null,
            "justify_content": null,
            "_view_module": "@jupyter-widgets/base",
            "overflow": null,
            "_model_module_version": "1.2.0",
            "_view_count": null,
            "flex_flow": null,
            "width": null,
            "min_width": null,
            "border": null,
            "align_items": null,
            "bottom": null,
            "_model_module": "@jupyter-widgets/base",
            "top": null,
            "grid_column": null,
            "overflow_y": null,
            "overflow_x": null,
            "grid_auto_flow": null,
            "grid_area": null,
            "grid_template_columns": null,
            "flex": null,
            "_model_name": "LayoutModel",
            "justify_items": null,
            "grid_row": null,
            "max_height": null,
            "align_content": null,
            "visibility": null,
            "align_self": null,
            "height": null,
            "min_height": null,
            "padding": null,
            "grid_auto_rows": null,
            "grid_gap": null,
            "max_width": null,
            "order": null,
            "_view_module_version": "1.2.0",
            "grid_template_areas": null,
            "object_position": null,
            "object_fit": null,
            "grid_auto_columns": null,
            "margin": null,
            "display": null,
            "left": null
          }
        }
      }
    }
  },
  "cells": [
    {
      "cell_type": "markdown",
      "metadata": {
        "id": "4NzyqehHjUlG"
      },
      "source": [
        "# ML in Cybersecurity: Task II\n",
        "\n",
        "## Team\n",
        "  * **Team name**:  ESS\n",
        "  * **Members**:  Eiram Mahera Sheikh (eish00001@stud.uni-saarland.de), Shravan Swaminathan(shsw00001@stud.uni-saarland.de), Shayari Bhattacharjee(shbh00002@stud.uni-saarland.de)\n",
        "\n",
        "\n",
        "## Logistics\n",
        "  * **Due date**: 25th Nov. 2021, 23:59:59 (email the completed notebook including outputs to mlcysec_ws2022_staff@lists.cispa.saarland)\n",
        "  * Email the completed notebook to mlcysec_ws2022_staff@lists.cispa.saarland \n",
        "  * Complete this in the previously established **teams of 3**\n",
        "  * Feel free to use the course forum to discuss.\n",
        "  \n",
        "  \n",
        "## About this Project\n",
        "In this project, we dive into the vulnerabilities of machine learning models and the difficulties of defending against them. To this end, we ask you to implement an evasion attack (craft adversarial examples) yourselves, and defend your own model.   \n",
        "\n",
        "\n",
        "## A Note on Grading\n",
        "The total number of points in this project is 100. We further provide the number of points achievable with each excercise. You should take particular care to document and visualize your results.\n",
        "\n",
        "Whenever possible, please use tools like tables or figures to compare the different findings\n",
        "\n",
        "\n",
        " \n",
        "## Filling-in the Notebook\n",
        "You'll be submitting this very notebook that is filled-in with (all) your code and analysis. Make sure you submit one that has been previously executed in-order. (So that results/graphs are already visible upon opening it). \n",
        "\n",
        "The notebook you submit **should compile** (or should be self-contained and sufficiently commented). Check tutorial 1 on how to set up the Python3 environment.\n",
        "\n",
        "It is extremely important that you **do not** re-order the existing sections. Apart from that, the code blocks that you need to fill-in are given by:\n",
        "```\n",
        "#\n",
        "#\n",
        "# ------- Your Code -------\n",
        "#\n",
        "#\n",
        "```\n",
        "Feel free to break this into multiple-cells. It's even better if you interleave explanations and code-blocks so that the entire notebook forms a readable \"story\".\n",
        "\n",
        "\n",
        "## Code of Honor\n",
        "We encourage discussing ideas and concepts with other students to help you learn and better understand the course content. However, the work you submit and present **must be original** and demonstrate your effort in solving the presented problems. **We will not tolerate** blatantly using existing solutions (such as from the internet), improper collaboration (e.g., sharing code or experimental data between groups) and plagiarism. If the honor code is not met, no points will be awarded.\n",
        "\n",
        " \n",
        "  ---"
      ]
    },
    {
      "cell_type": "code",
      "metadata": {
        "id": "3ewNwfFvbFaR"
      },
      "source": [
        "import time \n",
        " \n",
        "import numpy as np \n",
        "import matplotlib.pyplot as plt \n",
        "\n",
        "import json \n",
        "import time \n",
        "import pickle \n",
        "import sys \n",
        "import csv \n",
        "import os \n",
        "import os.path as osp \n",
        "import shutil \n",
        "\n",
        "import pandas as pd\n",
        "\n",
        "from IPython.display import display, HTML\n",
        " \n",
        "%matplotlib inline \n",
        "plt.rcParams['figure.figsize'] = (10.0, 8.0) # set default size of plots \n",
        "plt.rcParams['image.interpolation'] = 'nearest' \n",
        "plt.rcParams['image.cmap'] = 'gray' \n",
        " \n",
        "# for auto-reloading external modules \n",
        "# see http://stackoverflow.com/questions/1907993/autoreload-of-modules-in-ipython \n",
        "%load_ext autoreload\n",
        "%autoreload 2"
      ],
      "execution_count": null,
      "outputs": []
    },
    {
      "cell_type": "code",
      "metadata": {
        "id": "640GrzbOevr0"
      },
      "source": [
        "# Some suggestions of our libraries that might be helpful for this project\n",
        "from collections import Counter          # an even easier way to count\n",
        "from multiprocessing import Pool         # for multiprocessing\n",
        "from tqdm import tqdm                    # fancy progress bars\n",
        "\n",
        "# Load other libraries here.\n",
        "# Keep it minimal! We should be easily able to reproduce your code.\n",
        "# We only support sklearn and pytorch.\n",
        "import torchvision.datasets as datasets\n",
        "import torchvision.transforms as transforms\n",
        "import torch.utils.data as data\n",
        "import torchvision\n",
        "\n",
        "# We preload pytorch as an example\n",
        "import torch\n",
        "import torch.nn as nn\n",
        "import torch.nn.functional as F\n",
        "import torch.optim as optim\n",
        "from torch.utils.data import DataLoader, Dataset, TensorDataset\n",
        "from torch.utils.data.sampler import SubsetRandomSampler\n",
        "\n",
        "np.random.seed(200)"
      ],
      "execution_count": null,
      "outputs": []
    },
    {
      "cell_type": "code",
      "metadata": {
        "id": "GJZPEAWYMhYB"
      },
      "source": [
        "compute_mode = 'cpu'\n",
        "\n",
        "if compute_mode == 'cpu':\n",
        "    device = torch.device('cpu')\n",
        "elif compute_mode == 'gpu':\n",
        "    # If you are using pytorch on the GPU cluster, you have to manually specify which GPU device to use\n",
        "    # It is extremely important that you *do not* spawn multi-GPU jobs.\n",
        "    os.environ[\"CUDA_VISIBLE_DEVICES\"] = '0'    # Set device ID here\n",
        "    device = torch.device('cuda')\n",
        "else:\n",
        "    raise ValueError('Unrecognized compute mode')"
      ],
      "execution_count": null,
      "outputs": []
    },
    {
      "cell_type": "markdown",
      "metadata": {
        "id": "nxi-lLD0mKHD"
      },
      "source": [
        "#### Helpers\n",
        "\n",
        "In case you choose to have some methods you plan to reuse during the notebook, define them here. This will avoid clutter and keep rest of the notebook succinct."
      ]
    },
    {
      "cell_type": "code",
      "metadata": {
        "id": "VBbigqdEmKd8"
      },
      "source": [
        "undefended_model_path = \"undefended_model.pth\"\n",
        "defended_model_path = \"defended_model.pth\""
      ],
      "execution_count": null,
      "outputs": []
    },
    {
      "cell_type": "markdown",
      "metadata": {
        "id": "n1pcmKkyjT7y"
      },
      "source": [
        "# 1. Attacking an ML-model (30 points) \n",
        "\n",
        "In this section, we implement an attack ourselves. First, however, you need a model you can attack. Feel free to choose the DNN/ConvNN from task 1.\n",
        "\n"
      ]
    },
    {
      "cell_type": "markdown",
      "metadata": {
        "id": "QaJv_d_Dp7OM"
      },
      "source": [
        "## 1.1: Setting up the model and data (4 Points)\n",
        "\n",
        "Load the MNIST data, as done in task 1. \n",
        "\n",
        "Re-use the model from task 1 here and train it until it achieves reasonable accuracy (>92%).\n",
        "\n",
        "If you have the saved checkpoint from task 1, you can load it directly. But please compute here the test accuracy using this checkpoint.  \n",
        "\n",
        "**Hint:** In order to save computation time for the rest of exercise, you might consider having a relatively small model here.\n",
        "\n",
        "**Hint**: You might want to save the trained model to save time later."
      ]
    },
    {
      "cell_type": "code",
      "metadata": {
        "id": "zP2HyOT_SSq1"
      },
      "source": [
        "n_epochs = 3\n",
        "batch_size_train = 64\n",
        "batch_size_test = 1\n",
        "learning_rate_1 = 0.01\n",
        "learning_rate_2=  0.05\n",
        "momentum_1 = 0.5\n",
        "momentum_2 = 0.25\n",
        "\n",
        "log_interval = 10"
      ],
      "execution_count": null,
      "outputs": []
    },
    {
      "cell_type": "code",
      "metadata": {
        "id": "xlGa2kPy5FNa",
        "colab": {
          "base_uri": "https://localhost:8080/",
          "height": 417,
          "referenced_widgets": [
            "cd97f35c46e54cd8b923cddd734033ed",
            "7c307ddb05654d0787a25a6da6c6ee72",
            "5acf495a0f10471b8df410e6a8c20e0b",
            "4886d3bda4ac4eef9b9b3fdfbef80669",
            "5db27bc1ad8b402d9481fb03054ca9dc",
            "6b7bb7058811458191545f1ebee69021",
            "701c2764345842e587bdd5ba92897fc1",
            "db832dfd41ce4e7385fc72b12e91a3eb",
            "34f8f8415ecd4d6491131f82a3031463",
            "278878b3d4c04788a02f3c4a245e6f06",
            "42711c0422064308b8e36213298ab7d0",
            "3817e6251b2348c08e21bbc41a06024e",
            "e59b562da9094e6abf1732add0ed90e9",
            "a436098c471b4944a2510f7c6cb1279a",
            "ac534e5dfef34ebf89ece2ece7c86c78",
            "93b2d2bf61254f2498f8e97ca91de19e",
            "f3947c69dd604aaa8ccb1f03441e0826",
            "788655973eb64cd88e747776dd5edcbb",
            "d815b848ca964463b0411464e702a35e",
            "4a4b73cb5128444ebe500c9a8e9658ec",
            "1f659438d45f4b55b96fa88f9094da4b",
            "c6dc90e641ea426d9c032c088aa3f396",
            "ff6eb3e9779549eb8fd803fe5254d95d",
            "0d49b099c1394086b509b0efe72d4446",
            "0e3c1beea4eb4efdb04718c75e94dcf5",
            "f805ebbd6a8d40eb9a0a628fff3e6d95",
            "e6e8cde394c248a6aecc54f5c3f1295b",
            "f1a663f594e148778a9e8776294eae19",
            "d7cd3d381bb0477db423671eabc6f32f",
            "d9ca73c066bb461eaafab0827c777dac",
            "264340d0f66246c995f91ac2c7befa6a",
            "31050c113b5f4c3198f3873639989d97",
            "3d57af4b239143c9a0357e9038582886",
            "e49b63d98871447caab30bfe22b4c0b6",
            "ebaf8af4908649a4be7d0b4adda02637",
            "5c03ab99c12846c287551c0b88082faf",
            "79eeecfda0ee42b0b3e1da52114c28cc",
            "39663f19f15c4df9890aa750a9ed095d",
            "21402a6e479646429819835858b9c38e",
            "05f82d0b28c34744a740daa60e1eda41",
            "7cd14e23c2cc4e9789995ceb5de1018c",
            "9b131af133b84362ba12e4f03060b18c",
            "d879372100514104bca9dfb6f4996496",
            "339b01a2ea9146ae91cd762a4ad08109"
          ]
        },
        "outputId": "607f0ca3-0386-492e-ec31-05d287c1d48a"
      },
      "source": [
        "# (1)load data \n",
        "#torchvision dataloaders to download MNIST dataset.\n",
        "transform = transforms.Compose([transforms.ToTensor()])\n",
        "dataset = datasets.MNIST(root = './data', train = [True, False], transform = transform, download=True)\n",
        "trainSet, testSet = torch.utils.data.random_split(dataset, [50000, 10000])\n",
        "\n",
        "train_loader = data.DataLoader(trainSet, batch_size=batch_size_train, shuffle=True)\n",
        "test_loader  = data.DataLoader(testSet, batch_size=batch_size_test, shuffle=True)\n"
      ],
      "execution_count": null,
      "outputs": [
        {
          "output_type": "stream",
          "name": "stdout",
          "text": [
            "Downloading http://yann.lecun.com/exdb/mnist/train-images-idx3-ubyte.gz\n",
            "Downloading http://yann.lecun.com/exdb/mnist/train-images-idx3-ubyte.gz to ./data/MNIST/raw/train-images-idx3-ubyte.gz\n"
          ]
        },
        {
          "output_type": "display_data",
          "data": {
            "application/vnd.jupyter.widget-view+json": {
              "model_id": "cd97f35c46e54cd8b923cddd734033ed",
              "version_minor": 0,
              "version_major": 2
            },
            "text/plain": [
              "  0%|          | 0/9912422 [00:00<?, ?it/s]"
            ]
          },
          "metadata": {}
        },
        {
          "output_type": "stream",
          "name": "stdout",
          "text": [
            "Extracting ./data/MNIST/raw/train-images-idx3-ubyte.gz to ./data/MNIST/raw\n",
            "\n",
            "Downloading http://yann.lecun.com/exdb/mnist/train-labels-idx1-ubyte.gz\n",
            "Downloading http://yann.lecun.com/exdb/mnist/train-labels-idx1-ubyte.gz to ./data/MNIST/raw/train-labels-idx1-ubyte.gz\n"
          ]
        },
        {
          "output_type": "display_data",
          "data": {
            "application/vnd.jupyter.widget-view+json": {
              "model_id": "3817e6251b2348c08e21bbc41a06024e",
              "version_minor": 0,
              "version_major": 2
            },
            "text/plain": [
              "  0%|          | 0/28881 [00:00<?, ?it/s]"
            ]
          },
          "metadata": {}
        },
        {
          "output_type": "stream",
          "name": "stdout",
          "text": [
            "Extracting ./data/MNIST/raw/train-labels-idx1-ubyte.gz to ./data/MNIST/raw\n",
            "\n",
            "Downloading http://yann.lecun.com/exdb/mnist/t10k-images-idx3-ubyte.gz\n",
            "Downloading http://yann.lecun.com/exdb/mnist/t10k-images-idx3-ubyte.gz to ./data/MNIST/raw/t10k-images-idx3-ubyte.gz\n"
          ]
        },
        {
          "output_type": "display_data",
          "data": {
            "application/vnd.jupyter.widget-view+json": {
              "model_id": "ff6eb3e9779549eb8fd803fe5254d95d",
              "version_minor": 0,
              "version_major": 2
            },
            "text/plain": [
              "  0%|          | 0/1648877 [00:00<?, ?it/s]"
            ]
          },
          "metadata": {}
        },
        {
          "output_type": "stream",
          "name": "stdout",
          "text": [
            "Extracting ./data/MNIST/raw/t10k-images-idx3-ubyte.gz to ./data/MNIST/raw\n",
            "\n",
            "Downloading http://yann.lecun.com/exdb/mnist/t10k-labels-idx1-ubyte.gz\n",
            "Downloading http://yann.lecun.com/exdb/mnist/t10k-labels-idx1-ubyte.gz to ./data/MNIST/raw/t10k-labels-idx1-ubyte.gz\n"
          ]
        },
        {
          "output_type": "display_data",
          "data": {
            "application/vnd.jupyter.widget-view+json": {
              "model_id": "e49b63d98871447caab30bfe22b4c0b6",
              "version_minor": 0,
              "version_major": 2
            },
            "text/plain": [
              "  0%|          | 0/4542 [00:00<?, ?it/s]"
            ]
          },
          "metadata": {}
        },
        {
          "output_type": "stream",
          "name": "stdout",
          "text": [
            "Extracting ./data/MNIST/raw/t10k-labels-idx1-ubyte.gz to ./data/MNIST/raw\n",
            "\n"
          ]
        }
      ]
    },
    {
      "cell_type": "code",
      "metadata": {
        "id": "3Sozud1so8__"
      },
      "source": [
        "# (2)define model\n",
        "# Model with no dropout\n",
        "class Net(nn.Module):\n",
        "    def __init__(self):\n",
        "        super(Net, self).__init__()\n",
        "        self.conv1 = nn.Conv2d(1, 10, kernel_size=5)\n",
        "        self.conv2 = nn.Conv2d(10, 20, kernel_size=5)\n",
        "        self.conv2_drop = nn.Dropout2d()\n",
        "        self.fc1 = nn.Linear(320, 50)\n",
        "        self.fc2 = nn.Linear(50, 10)\n",
        "\n",
        "    def forward(self, x):\n",
        "        x = F.relu(F.max_pool2d(self.conv1(x), 2))\n",
        "        x = F.relu(F.max_pool2d(self.conv2_drop(self.conv2(x)), 2))\n",
        "        x = x.view(-1, 320)\n",
        "        x = F.relu(self.fc1(x))\n",
        "        x = F.dropout(x, training=self.training)\n",
        "        x = self.fc2(x)\n",
        "        return F.log_softmax(x)\n",
        "\n",
        "\n",
        "\n",
        "network = Net().to(device)\n",
        "optimizer4 = optim.SGD(network.parameters(), lr=learning_rate_2,momentum=momentum_2)"
      ],
      "execution_count": null,
      "outputs": []
    },
    {
      "cell_type": "code",
      "metadata": {
        "id": "ILz-yZ1fpFVx"
      },
      "source": [
        "#defining list to save training and testing loss for future evaluation.\n",
        "train_losses = []\n",
        "train_counter = []\n",
        "test_losses = []\n",
        "#test_counter_4 = [i*len(train_loader.dataset) for i in range(n_epochs + 1)] todo - clean up\n",
        "train_acc = []\n",
        "test_acc = []\n",
        "\n",
        "# (3)define loss, optimizer \n",
        "#Training function for all networks\n",
        "def train(epoch):\n",
        "  network.train()\n",
        "  correct = 0\n",
        "  for batch_idx, (data, target) in enumerate(train_loader):\n",
        "    optimizer4.zero_grad()\n",
        "    output = network(data)\n",
        "    loss = F.nll_loss(output, target)\n",
        "    loss.backward()\n",
        "    optimizer4.step()\n",
        "    pred = output.data.max(1, keepdim=True)[1]\n",
        "    correct += pred.eq(target.data.view_as(pred)).sum()\n",
        "    if batch_idx % log_interval == 0:\n",
        "      print('Network:Train Epoch: {} [{}/{} ({:.0f}%)]\\tLoss: {:.6f}'.format(\n",
        "        epoch, batch_idx * len(data), len(train_loader.dataset),\n",
        "        100. * batch_idx / len(train_loader), loss.item()))\n",
        "      train_losses.append(loss.item())\n",
        "      train_counter.append(\n",
        "        (batch_idx*64) + ((epoch-1)*len(train_loader.dataset)))\n",
        "      #torch.save(network.state_dict(), \"model.pth\")\n",
        "      #torch.save(optimizer4.state_dict(), \"model.pth\")\n",
        "      torch.save(network.state_dict(), undefended_model_path)\n",
        "  accuracy = 100 * correct / len(train_loader.dataset)\n",
        "  train_acc.append(accuracy)\n",
        "  print(\"Accuracy = {}\".format(accuracy))\n",
        "  \n",
        "\n",
        "def test():\n",
        "  network.eval()\n",
        "  test_loss = 0\n",
        "  correct = 0\n",
        "  with torch.no_grad():\n",
        "    for data, target in test_loader:\n",
        "      output = network(data)\n",
        "      test_loss += F.nll_loss(output, target, size_average=False).item()\n",
        "      pred = output.data.max(1, keepdim=True)[1]\n",
        "      correct += pred.eq(target.data.view_as(pred)).sum()\n",
        "  \n",
        "  accuracy= correct/len(test_loader.dataset)\n",
        "  test_acc.append(accuracy)\n",
        "  test_loss /= len(test_loader.dataset)\n",
        "  test_losses.append(test_loss)\n",
        "  print('\\n Network: Test set: Avg. loss: {:.4f}, Accuracy: {}/{} ({:.0f}%)\\n'.format(\n",
        "    test_loss, correct, len(test_loader.dataset),\n",
        "    100. * correct / len(test_loader.dataset)))\n"
      ],
      "execution_count": null,
      "outputs": []
    },
    {
      "cell_type": "code",
      "metadata": {
        "colab": {
          "base_uri": "https://localhost:8080/"
        },
        "id": "cPhICWtgpKar",
        "outputId": "8a83e87b-dbd4-4b01-cd03-bb4739f4bddc"
      },
      "source": [
        "# (4)train (You can re-use the trained model from project1)\n",
        "for epoch in range(1, n_epochs + 1):\n",
        "  train(epoch)\n",
        "  test()"
      ],
      "execution_count": null,
      "outputs": [
        {
          "output_type": "stream",
          "name": "stderr",
          "text": [
            "/usr/local/lib/python3.7/dist-packages/ipykernel_launcher.py:19: UserWarning: Implicit dimension choice for log_softmax has been deprecated. Change the call to include dim=X as an argument.\n"
          ]
        },
        {
          "output_type": "stream",
          "name": "stdout",
          "text": [
            "Network:Train Epoch: 1 [0/50000 (0%)]\tLoss: 2.316428\n",
            "Network:Train Epoch: 1 [640/50000 (1%)]\tLoss: 2.305497\n",
            "Network:Train Epoch: 1 [1280/50000 (3%)]\tLoss: 2.280816\n",
            "Network:Train Epoch: 1 [1920/50000 (4%)]\tLoss: 2.289466\n",
            "Network:Train Epoch: 1 [2560/50000 (5%)]\tLoss: 2.299625\n",
            "Network:Train Epoch: 1 [3200/50000 (6%)]\tLoss: 2.283566\n",
            "Network:Train Epoch: 1 [3840/50000 (8%)]\tLoss: 2.265514\n",
            "Network:Train Epoch: 1 [4480/50000 (9%)]\tLoss: 2.282890\n",
            "Network:Train Epoch: 1 [5120/50000 (10%)]\tLoss: 2.243161\n",
            "Network:Train Epoch: 1 [5760/50000 (12%)]\tLoss: 2.200317\n",
            "Network:Train Epoch: 1 [6400/50000 (13%)]\tLoss: 2.124317\n",
            "Network:Train Epoch: 1 [7040/50000 (14%)]\tLoss: 1.993416\n",
            "Network:Train Epoch: 1 [7680/50000 (15%)]\tLoss: 1.716087\n",
            "Network:Train Epoch: 1 [8320/50000 (17%)]\tLoss: 1.550713\n",
            "Network:Train Epoch: 1 [8960/50000 (18%)]\tLoss: 1.299339\n",
            "Network:Train Epoch: 1 [9600/50000 (19%)]\tLoss: 1.162595\n",
            "Network:Train Epoch: 1 [10240/50000 (20%)]\tLoss: 1.049349\n",
            "Network:Train Epoch: 1 [10880/50000 (22%)]\tLoss: 1.211611\n",
            "Network:Train Epoch: 1 [11520/50000 (23%)]\tLoss: 0.794986\n",
            "Network:Train Epoch: 1 [12160/50000 (24%)]\tLoss: 0.861148\n",
            "Network:Train Epoch: 1 [12800/50000 (26%)]\tLoss: 0.829074\n",
            "Network:Train Epoch: 1 [13440/50000 (27%)]\tLoss: 1.017786\n",
            "Network:Train Epoch: 1 [14080/50000 (28%)]\tLoss: 1.137387\n",
            "Network:Train Epoch: 1 [14720/50000 (29%)]\tLoss: 0.773757\n",
            "Network:Train Epoch: 1 [15360/50000 (31%)]\tLoss: 0.690925\n",
            "Network:Train Epoch: 1 [16000/50000 (32%)]\tLoss: 0.774672\n",
            "Network:Train Epoch: 1 [16640/50000 (33%)]\tLoss: 0.653334\n",
            "Network:Train Epoch: 1 [17280/50000 (35%)]\tLoss: 1.010384\n",
            "Network:Train Epoch: 1 [17920/50000 (36%)]\tLoss: 0.784451\n",
            "Network:Train Epoch: 1 [18560/50000 (37%)]\tLoss: 0.560742\n",
            "Network:Train Epoch: 1 [19200/50000 (38%)]\tLoss: 0.865899\n",
            "Network:Train Epoch: 1 [19840/50000 (40%)]\tLoss: 0.849939\n",
            "Network:Train Epoch: 1 [20480/50000 (41%)]\tLoss: 0.673608\n",
            "Network:Train Epoch: 1 [21120/50000 (42%)]\tLoss: 0.570666\n",
            "Network:Train Epoch: 1 [21760/50000 (43%)]\tLoss: 0.521236\n",
            "Network:Train Epoch: 1 [22400/50000 (45%)]\tLoss: 0.752225\n",
            "Network:Train Epoch: 1 [23040/50000 (46%)]\tLoss: 0.556226\n",
            "Network:Train Epoch: 1 [23680/50000 (47%)]\tLoss: 0.695105\n",
            "Network:Train Epoch: 1 [24320/50000 (49%)]\tLoss: 0.555393\n",
            "Network:Train Epoch: 1 [24960/50000 (50%)]\tLoss: 0.697744\n",
            "Network:Train Epoch: 1 [25600/50000 (51%)]\tLoss: 0.652101\n",
            "Network:Train Epoch: 1 [26240/50000 (52%)]\tLoss: 0.491858\n",
            "Network:Train Epoch: 1 [26880/50000 (54%)]\tLoss: 0.527701\n",
            "Network:Train Epoch: 1 [27520/50000 (55%)]\tLoss: 0.598283\n",
            "Network:Train Epoch: 1 [28160/50000 (56%)]\tLoss: 0.401578\n",
            "Network:Train Epoch: 1 [28800/50000 (58%)]\tLoss: 0.595716\n",
            "Network:Train Epoch: 1 [29440/50000 (59%)]\tLoss: 0.450645\n",
            "Network:Train Epoch: 1 [30080/50000 (60%)]\tLoss: 0.429678\n",
            "Network:Train Epoch: 1 [30720/50000 (61%)]\tLoss: 0.367375\n",
            "Network:Train Epoch: 1 [31360/50000 (63%)]\tLoss: 0.432695\n",
            "Network:Train Epoch: 1 [32000/50000 (64%)]\tLoss: 0.421144\n",
            "Network:Train Epoch: 1 [32640/50000 (65%)]\tLoss: 0.367894\n",
            "Network:Train Epoch: 1 [33280/50000 (66%)]\tLoss: 0.353704\n",
            "Network:Train Epoch: 1 [33920/50000 (68%)]\tLoss: 0.616602\n",
            "Network:Train Epoch: 1 [34560/50000 (69%)]\tLoss: 0.572783\n",
            "Network:Train Epoch: 1 [35200/50000 (70%)]\tLoss: 0.474121\n",
            "Network:Train Epoch: 1 [35840/50000 (72%)]\tLoss: 0.466177\n",
            "Network:Train Epoch: 1 [36480/50000 (73%)]\tLoss: 0.399100\n",
            "Network:Train Epoch: 1 [37120/50000 (74%)]\tLoss: 0.467797\n",
            "Network:Train Epoch: 1 [37760/50000 (75%)]\tLoss: 0.666309\n",
            "Network:Train Epoch: 1 [38400/50000 (77%)]\tLoss: 0.565254\n",
            "Network:Train Epoch: 1 [39040/50000 (78%)]\tLoss: 0.633413\n",
            "Network:Train Epoch: 1 [39680/50000 (79%)]\tLoss: 0.311926\n",
            "Network:Train Epoch: 1 [40320/50000 (81%)]\tLoss: 0.435264\n",
            "Network:Train Epoch: 1 [40960/50000 (82%)]\tLoss: 0.484836\n",
            "Network:Train Epoch: 1 [41600/50000 (83%)]\tLoss: 0.435352\n",
            "Network:Train Epoch: 1 [42240/50000 (84%)]\tLoss: 0.581791\n",
            "Network:Train Epoch: 1 [42880/50000 (86%)]\tLoss: 0.581085\n",
            "Network:Train Epoch: 1 [43520/50000 (87%)]\tLoss: 0.594074\n",
            "Network:Train Epoch: 1 [44160/50000 (88%)]\tLoss: 0.478724\n",
            "Network:Train Epoch: 1 [44800/50000 (90%)]\tLoss: 0.396637\n",
            "Network:Train Epoch: 1 [45440/50000 (91%)]\tLoss: 0.587538\n",
            "Network:Train Epoch: 1 [46080/50000 (92%)]\tLoss: 0.391976\n",
            "Network:Train Epoch: 1 [46720/50000 (93%)]\tLoss: 0.440312\n",
            "Network:Train Epoch: 1 [47360/50000 (95%)]\tLoss: 0.426933\n",
            "Network:Train Epoch: 1 [48000/50000 (96%)]\tLoss: 0.248962\n",
            "Network:Train Epoch: 1 [48640/50000 (97%)]\tLoss: 0.595022\n",
            "Network:Train Epoch: 1 [49280/50000 (98%)]\tLoss: 0.390301\n",
            "Network:Train Epoch: 1 [49920/50000 (100%)]\tLoss: 0.404725\n",
            "Accuracy = 70.35399627685547\n"
          ]
        },
        {
          "output_type": "stream",
          "name": "stderr",
          "text": [
            "/usr/local/lib/python3.7/dist-packages/torch/nn/_reduction.py:42: UserWarning: size_average and reduce args will be deprecated, please use reduction='sum' instead.\n",
            "  warnings.warn(warning.format(ret))\n"
          ]
        },
        {
          "output_type": "stream",
          "name": "stdout",
          "text": [
            "\n",
            " Network: Test set: Avg. loss: 0.1990, Accuracy: 9387/10000 (94%)\n",
            "\n",
            "Network:Train Epoch: 2 [0/50000 (0%)]\tLoss: 0.590047\n",
            "Network:Train Epoch: 2 [640/50000 (1%)]\tLoss: 0.388359\n",
            "Network:Train Epoch: 2 [1280/50000 (3%)]\tLoss: 0.291997\n",
            "Network:Train Epoch: 2 [1920/50000 (4%)]\tLoss: 0.511011\n",
            "Network:Train Epoch: 2 [2560/50000 (5%)]\tLoss: 0.334798\n",
            "Network:Train Epoch: 2 [3200/50000 (6%)]\tLoss: 0.441801\n",
            "Network:Train Epoch: 2 [3840/50000 (8%)]\tLoss: 0.530960\n",
            "Network:Train Epoch: 2 [4480/50000 (9%)]\tLoss: 0.270320\n",
            "Network:Train Epoch: 2 [5120/50000 (10%)]\tLoss: 0.344531\n",
            "Network:Train Epoch: 2 [5760/50000 (12%)]\tLoss: 0.455211\n",
            "Network:Train Epoch: 2 [6400/50000 (13%)]\tLoss: 0.826726\n",
            "Network:Train Epoch: 2 [7040/50000 (14%)]\tLoss: 0.494780\n",
            "Network:Train Epoch: 2 [7680/50000 (15%)]\tLoss: 0.466330\n",
            "Network:Train Epoch: 2 [8320/50000 (17%)]\tLoss: 0.329227\n",
            "Network:Train Epoch: 2 [8960/50000 (18%)]\tLoss: 0.474129\n",
            "Network:Train Epoch: 2 [9600/50000 (19%)]\tLoss: 0.242329\n",
            "Network:Train Epoch: 2 [10240/50000 (20%)]\tLoss: 0.306035\n",
            "Network:Train Epoch: 2 [10880/50000 (22%)]\tLoss: 0.541989\n",
            "Network:Train Epoch: 2 [11520/50000 (23%)]\tLoss: 0.340988\n",
            "Network:Train Epoch: 2 [12160/50000 (24%)]\tLoss: 0.406937\n",
            "Network:Train Epoch: 2 [12800/50000 (26%)]\tLoss: 0.409355\n",
            "Network:Train Epoch: 2 [13440/50000 (27%)]\tLoss: 0.445615\n",
            "Network:Train Epoch: 2 [14080/50000 (28%)]\tLoss: 0.369490\n",
            "Network:Train Epoch: 2 [14720/50000 (29%)]\tLoss: 0.410385\n",
            "Network:Train Epoch: 2 [15360/50000 (31%)]\tLoss: 0.563813\n",
            "Network:Train Epoch: 2 [16000/50000 (32%)]\tLoss: 0.359556\n",
            "Network:Train Epoch: 2 [16640/50000 (33%)]\tLoss: 0.409120\n",
            "Network:Train Epoch: 2 [17280/50000 (35%)]\tLoss: 0.427696\n",
            "Network:Train Epoch: 2 [17920/50000 (36%)]\tLoss: 0.283175\n",
            "Network:Train Epoch: 2 [18560/50000 (37%)]\tLoss: 0.520500\n",
            "Network:Train Epoch: 2 [19200/50000 (38%)]\tLoss: 0.440794\n",
            "Network:Train Epoch: 2 [19840/50000 (40%)]\tLoss: 0.444510\n",
            "Network:Train Epoch: 2 [20480/50000 (41%)]\tLoss: 0.221035\n",
            "Network:Train Epoch: 2 [21120/50000 (42%)]\tLoss: 0.230007\n",
            "Network:Train Epoch: 2 [21760/50000 (43%)]\tLoss: 0.270617\n",
            "Network:Train Epoch: 2 [22400/50000 (45%)]\tLoss: 0.285877\n",
            "Network:Train Epoch: 2 [23040/50000 (46%)]\tLoss: 0.557858\n",
            "Network:Train Epoch: 2 [23680/50000 (47%)]\tLoss: 0.456271\n",
            "Network:Train Epoch: 2 [24320/50000 (49%)]\tLoss: 0.294044\n",
            "Network:Train Epoch: 2 [24960/50000 (50%)]\tLoss: 0.351397\n",
            "Network:Train Epoch: 2 [25600/50000 (51%)]\tLoss: 0.269323\n",
            "Network:Train Epoch: 2 [26240/50000 (52%)]\tLoss: 0.547800\n",
            "Network:Train Epoch: 2 [26880/50000 (54%)]\tLoss: 0.453866\n",
            "Network:Train Epoch: 2 [27520/50000 (55%)]\tLoss: 0.367163\n",
            "Network:Train Epoch: 2 [28160/50000 (56%)]\tLoss: 0.347880\n",
            "Network:Train Epoch: 2 [28800/50000 (58%)]\tLoss: 0.395701\n",
            "Network:Train Epoch: 2 [29440/50000 (59%)]\tLoss: 0.486818\n",
            "Network:Train Epoch: 2 [30080/50000 (60%)]\tLoss: 0.356721\n",
            "Network:Train Epoch: 2 [30720/50000 (61%)]\tLoss: 0.283987\n",
            "Network:Train Epoch: 2 [31360/50000 (63%)]\tLoss: 0.310073\n",
            "Network:Train Epoch: 2 [32000/50000 (64%)]\tLoss: 0.450765\n",
            "Network:Train Epoch: 2 [32640/50000 (65%)]\tLoss: 0.331746\n",
            "Network:Train Epoch: 2 [33280/50000 (66%)]\tLoss: 0.309425\n",
            "Network:Train Epoch: 2 [33920/50000 (68%)]\tLoss: 0.276125\n",
            "Network:Train Epoch: 2 [34560/50000 (69%)]\tLoss: 0.458984\n",
            "Network:Train Epoch: 2 [35200/50000 (70%)]\tLoss: 0.199182\n",
            "Network:Train Epoch: 2 [35840/50000 (72%)]\tLoss: 0.558477\n",
            "Network:Train Epoch: 2 [36480/50000 (73%)]\tLoss: 0.411355\n",
            "Network:Train Epoch: 2 [37120/50000 (74%)]\tLoss: 0.299722\n",
            "Network:Train Epoch: 2 [37760/50000 (75%)]\tLoss: 0.239491\n",
            "Network:Train Epoch: 2 [38400/50000 (77%)]\tLoss: 0.389964\n",
            "Network:Train Epoch: 2 [39040/50000 (78%)]\tLoss: 0.261184\n",
            "Network:Train Epoch: 2 [39680/50000 (79%)]\tLoss: 0.223386\n",
            "Network:Train Epoch: 2 [40320/50000 (81%)]\tLoss: 0.430061\n",
            "Network:Train Epoch: 2 [40960/50000 (82%)]\tLoss: 0.273055\n",
            "Network:Train Epoch: 2 [41600/50000 (83%)]\tLoss: 0.206099\n",
            "Network:Train Epoch: 2 [42240/50000 (84%)]\tLoss: 0.267210\n",
            "Network:Train Epoch: 2 [42880/50000 (86%)]\tLoss: 0.151016\n",
            "Network:Train Epoch: 2 [43520/50000 (87%)]\tLoss: 0.300270\n",
            "Network:Train Epoch: 2 [44160/50000 (88%)]\tLoss: 0.255578\n",
            "Network:Train Epoch: 2 [44800/50000 (90%)]\tLoss: 0.196942\n",
            "Network:Train Epoch: 2 [45440/50000 (91%)]\tLoss: 0.407798\n",
            "Network:Train Epoch: 2 [46080/50000 (92%)]\tLoss: 0.313696\n",
            "Network:Train Epoch: 2 [46720/50000 (93%)]\tLoss: 0.231502\n",
            "Network:Train Epoch: 2 [47360/50000 (95%)]\tLoss: 0.392498\n",
            "Network:Train Epoch: 2 [48000/50000 (96%)]\tLoss: 0.155775\n",
            "Network:Train Epoch: 2 [48640/50000 (97%)]\tLoss: 0.243135\n",
            "Network:Train Epoch: 2 [49280/50000 (98%)]\tLoss: 0.279902\n",
            "Network:Train Epoch: 2 [49920/50000 (100%)]\tLoss: 0.246909\n",
            "Accuracy = 89.12000274658203\n",
            "\n",
            " Network: Test set: Avg. loss: 0.1251, Accuracy: 9592/10000 (96%)\n",
            "\n",
            "Network:Train Epoch: 3 [0/50000 (0%)]\tLoss: 0.303543\n",
            "Network:Train Epoch: 3 [640/50000 (1%)]\tLoss: 0.264776\n",
            "Network:Train Epoch: 3 [1280/50000 (3%)]\tLoss: 0.203908\n",
            "Network:Train Epoch: 3 [1920/50000 (4%)]\tLoss: 0.273314\n",
            "Network:Train Epoch: 3 [2560/50000 (5%)]\tLoss: 0.263109\n",
            "Network:Train Epoch: 3 [3200/50000 (6%)]\tLoss: 0.237229\n",
            "Network:Train Epoch: 3 [3840/50000 (8%)]\tLoss: 0.229049\n",
            "Network:Train Epoch: 3 [4480/50000 (9%)]\tLoss: 0.319572\n",
            "Network:Train Epoch: 3 [5120/50000 (10%)]\tLoss: 0.318650\n",
            "Network:Train Epoch: 3 [5760/50000 (12%)]\tLoss: 0.356065\n",
            "Network:Train Epoch: 3 [6400/50000 (13%)]\tLoss: 0.258927\n",
            "Network:Train Epoch: 3 [7040/50000 (14%)]\tLoss: 0.581867\n",
            "Network:Train Epoch: 3 [7680/50000 (15%)]\tLoss: 0.191229\n",
            "Network:Train Epoch: 3 [8320/50000 (17%)]\tLoss: 0.147680\n",
            "Network:Train Epoch: 3 [8960/50000 (18%)]\tLoss: 0.174324\n",
            "Network:Train Epoch: 3 [9600/50000 (19%)]\tLoss: 0.279860\n",
            "Network:Train Epoch: 3 [10240/50000 (20%)]\tLoss: 0.321148\n",
            "Network:Train Epoch: 3 [10880/50000 (22%)]\tLoss: 0.621257\n",
            "Network:Train Epoch: 3 [11520/50000 (23%)]\tLoss: 0.257951\n",
            "Network:Train Epoch: 3 [12160/50000 (24%)]\tLoss: 0.339351\n",
            "Network:Train Epoch: 3 [12800/50000 (26%)]\tLoss: 0.385205\n",
            "Network:Train Epoch: 3 [13440/50000 (27%)]\tLoss: 0.282159\n",
            "Network:Train Epoch: 3 [14080/50000 (28%)]\tLoss: 0.220255\n",
            "Network:Train Epoch: 3 [14720/50000 (29%)]\tLoss: 0.425259\n",
            "Network:Train Epoch: 3 [15360/50000 (31%)]\tLoss: 0.324343\n",
            "Network:Train Epoch: 3 [16000/50000 (32%)]\tLoss: 0.345122\n",
            "Network:Train Epoch: 3 [16640/50000 (33%)]\tLoss: 0.307003\n",
            "Network:Train Epoch: 3 [17280/50000 (35%)]\tLoss: 0.338134\n",
            "Network:Train Epoch: 3 [17920/50000 (36%)]\tLoss: 0.341433\n",
            "Network:Train Epoch: 3 [18560/50000 (37%)]\tLoss: 0.211711\n",
            "Network:Train Epoch: 3 [19200/50000 (38%)]\tLoss: 0.306253\n",
            "Network:Train Epoch: 3 [19840/50000 (40%)]\tLoss: 0.278886\n",
            "Network:Train Epoch: 3 [20480/50000 (41%)]\tLoss: 0.099658\n",
            "Network:Train Epoch: 3 [21120/50000 (42%)]\tLoss: 0.251426\n",
            "Network:Train Epoch: 3 [21760/50000 (43%)]\tLoss: 0.240123\n",
            "Network:Train Epoch: 3 [22400/50000 (45%)]\tLoss: 0.232665\n",
            "Network:Train Epoch: 3 [23040/50000 (46%)]\tLoss: 0.423272\n",
            "Network:Train Epoch: 3 [23680/50000 (47%)]\tLoss: 0.225072\n",
            "Network:Train Epoch: 3 [24320/50000 (49%)]\tLoss: 0.430122\n",
            "Network:Train Epoch: 3 [24960/50000 (50%)]\tLoss: 0.462448\n",
            "Network:Train Epoch: 3 [25600/50000 (51%)]\tLoss: 0.208380\n",
            "Network:Train Epoch: 3 [26240/50000 (52%)]\tLoss: 0.388461\n",
            "Network:Train Epoch: 3 [26880/50000 (54%)]\tLoss: 0.358811\n",
            "Network:Train Epoch: 3 [27520/50000 (55%)]\tLoss: 0.206544\n",
            "Network:Train Epoch: 3 [28160/50000 (56%)]\tLoss: 0.273191\n",
            "Network:Train Epoch: 3 [28800/50000 (58%)]\tLoss: 0.278959\n",
            "Network:Train Epoch: 3 [29440/50000 (59%)]\tLoss: 0.343782\n",
            "Network:Train Epoch: 3 [30080/50000 (60%)]\tLoss: 0.349240\n",
            "Network:Train Epoch: 3 [30720/50000 (61%)]\tLoss: 0.451534\n",
            "Network:Train Epoch: 3 [31360/50000 (63%)]\tLoss: 0.125591\n",
            "Network:Train Epoch: 3 [32000/50000 (64%)]\tLoss: 0.153596\n",
            "Network:Train Epoch: 3 [32640/50000 (65%)]\tLoss: 0.233473\n",
            "Network:Train Epoch: 3 [33280/50000 (66%)]\tLoss: 0.490518\n",
            "Network:Train Epoch: 3 [33920/50000 (68%)]\tLoss: 0.184491\n",
            "Network:Train Epoch: 3 [34560/50000 (69%)]\tLoss: 0.221586\n",
            "Network:Train Epoch: 3 [35200/50000 (70%)]\tLoss: 0.478163\n",
            "Network:Train Epoch: 3 [35840/50000 (72%)]\tLoss: 0.354835\n",
            "Network:Train Epoch: 3 [36480/50000 (73%)]\tLoss: 0.348007\n",
            "Network:Train Epoch: 3 [37120/50000 (74%)]\tLoss: 0.239723\n",
            "Network:Train Epoch: 3 [37760/50000 (75%)]\tLoss: 0.321534\n",
            "Network:Train Epoch: 3 [38400/50000 (77%)]\tLoss: 0.182322\n",
            "Network:Train Epoch: 3 [39040/50000 (78%)]\tLoss: 0.116555\n",
            "Network:Train Epoch: 3 [39680/50000 (79%)]\tLoss: 0.180902\n",
            "Network:Train Epoch: 3 [40320/50000 (81%)]\tLoss: 0.233508\n",
            "Network:Train Epoch: 3 [40960/50000 (82%)]\tLoss: 0.183094\n",
            "Network:Train Epoch: 3 [41600/50000 (83%)]\tLoss: 0.269055\n",
            "Network:Train Epoch: 3 [42240/50000 (84%)]\tLoss: 0.227335\n",
            "Network:Train Epoch: 3 [42880/50000 (86%)]\tLoss: 0.378540\n",
            "Network:Train Epoch: 3 [43520/50000 (87%)]\tLoss: 0.194472\n",
            "Network:Train Epoch: 3 [44160/50000 (88%)]\tLoss: 0.220938\n",
            "Network:Train Epoch: 3 [44800/50000 (90%)]\tLoss: 0.172719\n",
            "Network:Train Epoch: 3 [45440/50000 (91%)]\tLoss: 0.211687\n",
            "Network:Train Epoch: 3 [46080/50000 (92%)]\tLoss: 0.232527\n",
            "Network:Train Epoch: 3 [46720/50000 (93%)]\tLoss: 0.279555\n",
            "Network:Train Epoch: 3 [47360/50000 (95%)]\tLoss: 0.197995\n",
            "Network:Train Epoch: 3 [48000/50000 (96%)]\tLoss: 0.566661\n",
            "Network:Train Epoch: 3 [48640/50000 (97%)]\tLoss: 0.178182\n",
            "Network:Train Epoch: 3 [49280/50000 (98%)]\tLoss: 0.156278\n",
            "Network:Train Epoch: 3 [49920/50000 (100%)]\tLoss: 0.166076\n",
            "Accuracy = 91.53399658203125\n",
            "\n",
            " Network: Test set: Avg. loss: 0.1083, Accuracy: 9654/10000 (97%)\n",
            "\n"
          ]
        }
      ]
    },
    {
      "cell_type": "code",
      "metadata": {
        "colab": {
          "base_uri": "https://localhost:8080/"
        },
        "id": "4ASJvxLypS4X",
        "outputId": "cc955e81-89d4-404b-cca8-ffab3ea1fc10"
      },
      "source": [
        "# (5)evaluate\n",
        "for epoch in range(1, n_epochs + 1):  \n",
        "  print('Epoch %d, Train Accuracy: %f, Test Accuracy: %f' % (epoch, train_acc[epoch-1], test_acc[epoch-1]))"
      ],
      "execution_count": null,
      "outputs": [
        {
          "output_type": "stream",
          "name": "stdout",
          "text": [
            "Epoch 1, Train Accuracy: 70.353996, Test Accuracy: 0.938700\n",
            "Epoch 2, Train Accuracy: 89.120003, Test Accuracy: 0.959200\n",
            "Epoch 3, Train Accuracy: 91.533997, Test Accuracy: 0.965400\n"
          ]
        }
      ]
    },
    {
      "cell_type": "markdown",
      "metadata": {
        "id": "DEQrdyLHsUIu"
      },
      "source": [
        "## 1.2: Implementing the FGSM attack (7 Points)\n",
        "\n",
        "We now want to attack the model trained in the previous step. We will start with the FGSM attack as a simple example. \n",
        "\n",
        "Please implement the FGSM attack mentioned in the lecture. \n",
        "\n",
        "More details: https://arxiv.org/pdf/1412.6572.pdf\n"
      ]
    },
    {
      "cell_type": "markdown",
      "metadata": {
        "id": "rGdsBAsyslLt"
      },
      "source": [
        "**Note for Shravan**\n",
        "\n",
        "**def fgsm_attack(model, x, y, epsilon)**\n",
        "\n",
        "**The function must return a perturbed image** \n",
        "\n",
        "*Hints obtained from tutorial* - **Do not clean up**\n",
        "\n",
        "\n",
        "*   *Fast gradient sign method attack - optimised to have fast calculation*\n",
        "*   *Cross entropy loss - gradient of the function*\n",
        "*   *Computing the gradient of the loss function that we've used to train the model. Instead of computing the gradient wrt to the training paramters in order to reduce the loss.*\n",
        "*   *Epsilon is the perturbation budget. Degree to which you want to influence the image. *\n",
        "*   *Compute the epsilon times the signed gradient of the cost function and add it to the image.* \n",
        "*   *To preserve the range of the image in [0,1], the pixels need to be clipped (torch function available?)*\n",
        "*   *Computing gradient in pytorch is quite easy by enabling \"required gradient\".*\n",
        "*   *Normal forward path to compute the loss and then do backward automatic differentiation of the loss function to get the gradient of the image. *\n",
        "*   *1.2 shall have a function to compute the attack. This shall be called from 1.3*\n",
        "\n",
        "*Notes from paper*\n",
        "*η = Epsilon * sign (∇xJ(θ, x, y)).*\n",
        "\n",
        "\n",
        "\n"
      ]
    },
    {
      "cell_type": "code",
      "metadata": {
        "id": "gcVZnUNbRKOz"
      },
      "source": [
        "def fastGradSignAttack(epsilon, model, dataSet, dictPerturbedImage={}, dictRuntimeMeasurement={}):\n",
        "  dictPerturbedImage[epsilon] = []\n",
        "  dictRuntimeMeasurement[epsilon] = 0\n",
        "  for data, originalLabel in dataSet:\n",
        "    data, originalLabel = data.to(device), originalLabel.to(device) \n",
        "    data.requires_grad = True  #Enabling PyTorch gradient (hint from tutorial)\n",
        "    # Predicting before attacking image\n",
        "    output = model(data)\n",
        "    predBeforeAttack = output.max(1, keepdim=True)[1]\n",
        "    perturbedImage = data # Initializing perturbedImage to input image data in case initialial prediction fails. \n",
        "\n",
        "    # Establishing a point of reference. Evaluating prediction after attack makes sense only when the prediction before the attack is correct.\n",
        "    if predBeforeAttack.item() == originalLabel.item():\n",
        "      #---------------------------------------#\n",
        "      #Start of run-time measurement\n",
        "      start = time.perf_counter()\n",
        "      #---------------------------------------#\n",
        "      #Normal forward path to compute the loss and then do backward automatic differentiation of the loss function to get the gradient of the image. (hint from tutorial)\n",
        "      loss = F.nll_loss(output, originalLabel, size_average=False)\n",
        "      model.zero_grad()\n",
        "      loss.backward()\n",
        "      \n",
        "      #---------------------------------------#\n",
        "      #η = Epsilon * sign (∇xJ(θ, x, y)).\n",
        "\n",
        "      # sign (∇xJ(θ, x, y))      \n",
        "      \n",
        "      signedGradient = (data.grad.data).sign()\n",
        "\n",
        "      #η = Epsilon * sign (∇xJ(θ, x, y)).\n",
        "      perturbedImage = torch.clamp(data + epsilon*signedGradient, 0, 1) #clipping image additionally (hint from tutorial)\n",
        "      #---------------------------------------#\n",
        "      #End of run-time measurement\n",
        "      end = time.perf_counter()\n",
        "      #---------------------------------------#\n",
        "\n",
        "      \n",
        "      dictRuntimeMeasurement[epsilon] += end-start\n",
        "\n",
        "      dictPerturbedImage[epsilon].append((data, perturbedImage, originalLabel)) # perturbedImage.squeeze().detach().cpu().numpy()\n",
        "\n",
        "  dictRuntimeMeasurement[epsilon] = dictRuntimeMeasurement[epsilon]/ len(dictPerturbedImage[epsilon])\n",
        "\n",
        "  return perturbedImage #This return value makes sense only when dataSet is a single entry (used in case of I-FGSM)\n",
        "\n",
        "\n",
        "def fastGradSignAttackAccuracy(epsilon, model, perturbedImageSet, dictSuccessfulAttack, dictAfterAttackAccuracy):\n",
        "  positivePredCntr = 0\n",
        "  for originalImage, perturbedImage, originalLabel in perturbedImageSet[epsilon]:\n",
        "    # Predicting with the attacked image\n",
        "    predAfterAttack = model(perturbedImage)\n",
        "    predLabel = predAfterAttack.data.max(1, keepdim=True)[1]\n",
        "\n",
        "    if predLabel.item() != originalLabel.item():\n",
        "      dictSuccessfulAttack[epsilon].append((originalImage, perturbedImage.squeeze().detach().cpu().numpy(), originalLabel, predLabel))\n",
        "    else:\n",
        "      #prediction is correct despite attack\n",
        "      positivePredCntr += 1\n",
        "    #---------------------------------------#\n",
        "\n",
        "  #Attack accuracy measurement\n",
        "  accuracyAfterAttack = positivePredCntr/float(len(perturbedImageSet[epsilon]))\n",
        "  dictAfterAttackAccuracy[epsilon] = accuracyAfterAttack\n",
        "\n",
        "  print(\"Epsilon: {}\\tTest Accuracy = {}\".format(epsilon, accuracyAfterAttack*100))\n",
        "  \n",
        "  return \n",
        "\n"
      ],
      "execution_count": null,
      "outputs": []
    },
    {
      "cell_type": "markdown",
      "metadata": {
        "id": "RNpI3oUoO1wE"
      },
      "source": [
        "## 1.3: Adversarial sample set (7 Points)\n",
        "\n",
        "* Please generate a dataset containing at least 1,000 adversarial examples using FGSM.\n",
        "\n",
        "* Please vary the perturbation budget (3 variants) and generate 1,000 adversarial examples for each. \n",
        "    * **Hint**: you can choose epsilons within, e.g., = [.05, .1, .15, .2, .25, .3],  using MNIST pixel values in the interval       [0, 1]\n",
        "\n",
        "* Compute the accuracy of each attack set. "
      ]
    },
    {
      "cell_type": "code",
      "metadata": {
        "id": "EvYpo9p2O1wF"
      },
      "source": [
        "def initDictPerturbedImage(epsilon, dictArg):\n",
        "    dictArg[epsilon] = []"
      ],
      "execution_count": null,
      "outputs": []
    },
    {
      "cell_type": "code",
      "metadata": {
        "id": "139obP3_Z6M4"
      },
      "source": [
        "epsilons =  np.arange(0.05, 1, 0.05).tolist()\n",
        "epsilons = [round(epsilon, 2) for epsilon in epsilons]"
      ],
      "execution_count": null,
      "outputs": []
    },
    {
      "cell_type": "code",
      "metadata": {
        "colab": {
          "base_uri": "https://localhost:8080/"
        },
        "id": "MbLOIQUxwZIj",
        "outputId": "3042158b-0774-4f97-823d-e8bf6111bc89"
      },
      "source": [
        "dictPerturbedImage_org = {}\n",
        "dictAfterAttackAccuracy_org = {}\n",
        "dictRuntimeMeasurement_org = {}\n",
        "dictSuccessfulAttack_org = {}\n",
        "\n",
        "# load the undefended model\n",
        "undefendedModel = Net().to(device)\n",
        "undefendedModel.load_state_dict(torch.load(undefended_model_path))\n",
        "undefendedModel.eval()\n",
        "\n",
        "for eps in epsilons:\n",
        "  #initDictPerturbedImage(eps, dictPerturbedImage_org)\n",
        "  \n",
        "  fastGradSignAttack(eps, undefendedModel, test_loader, dictPerturbedImage_org, dictRuntimeMeasurement_org)"
      ],
      "execution_count": null,
      "outputs": [
        {
          "output_type": "stream",
          "name": "stderr",
          "text": [
            "/usr/local/lib/python3.7/dist-packages/ipykernel_launcher.py:19: UserWarning: Implicit dimension choice for log_softmax has been deprecated. Change the call to include dim=X as an argument.\n",
            "/usr/local/lib/python3.7/dist-packages/torch/nn/_reduction.py:42: UserWarning: size_average and reduce args will be deprecated, please use reduction='sum' instead.\n",
            "  warnings.warn(warning.format(ret))\n"
          ]
        }
      ]
    },
    {
      "cell_type": "code",
      "metadata": {
        "colab": {
          "base_uri": "https://localhost:8080/"
        },
        "id": "PdJT9gSDmtG5",
        "outputId": "347a1e01-7445-4c78-d1fe-7e76f4e278d0"
      },
      "source": [
        "for eps in epsilons:\n",
        "  initDictPerturbedImage(eps, dictSuccessfulAttack_org)\n",
        "  fastGradSignAttackAccuracy(eps, undefendedModel, dictPerturbedImage_org, dictSuccessfulAttack_org, dictAfterAttackAccuracy_org)"
      ],
      "execution_count": null,
      "outputs": [
        {
          "output_type": "stream",
          "name": "stderr",
          "text": [
            "/usr/local/lib/python3.7/dist-packages/ipykernel_launcher.py:19: UserWarning: Implicit dimension choice for log_softmax has been deprecated. Change the call to include dim=X as an argument.\n"
          ]
        },
        {
          "output_type": "stream",
          "name": "stdout",
          "text": [
            "Epsilon: 0.05\tTest Accuracy = 93.85301129884938\n",
            "Epsilon: 0.1\tTest Accuracy = 82.6578210842749\n",
            "Epsilon: 0.15\tTest Accuracy = 64.28941639888049\n",
            "Epsilon: 0.2\tTest Accuracy = 40.20939152068001\n",
            "Epsilon: 0.25\tTest Accuracy = 18.648284440758786\n",
            "Epsilon: 0.3\tTest Accuracy = 7.411630558722919\n",
            "Epsilon: 0.35\tTest Accuracy = 3.0786773090079818\n",
            "Epsilon: 0.4\tTest Accuracy = 1.6481807815901317\n",
            "Epsilon: 0.45\tTest Accuracy = 1.0987871877267545\n",
            "Epsilon: 0.5\tTest Accuracy = 0.8292733492277392\n",
            "Epsilon: 0.55\tTest Accuracy = 0.7670778480356587\n",
            "Epsilon: 0.6\tTest Accuracy = 0.798175598631699\n",
            "Epsilon: 0.65\tTest Accuracy = 0.9847621022079404\n",
            "Epsilon: 0.7\tTest Accuracy = 1.119519021457448\n",
            "Epsilon: 0.75\tTest Accuracy = 1.3475691924950761\n",
            "Epsilon: 0.8\tTest Accuracy = 1.5237897792059707\n",
            "Epsilon: 0.85\tTest Accuracy = 1.9487923706851868\n",
            "Epsilon: 0.9\tTest Accuracy = 2.363429045299057\n",
            "Epsilon: 0.95\tTest Accuracy = 2.757333886182233\n"
          ]
        }
      ]
    },
    {
      "cell_type": "code",
      "metadata": {
        "colab": {
          "base_uri": "https://localhost:8080/"
        },
        "id": "yFUSk8GnkZZS",
        "outputId": "1a809bb1-5d10-4cf4-f3c5-21cb24459390"
      },
      "source": [
        "for eps in epsilons:\n",
        "  print(\"Epsilon: {}\\t Run-time: {} ms\".format(eps, dictRuntimeMeasurement_org[eps]*1000))\n",
        "  "
      ],
      "execution_count": null,
      "outputs": [
        {
          "output_type": "stream",
          "name": "stdout",
          "text": [
            "Epsilon: 0.05\t Run-time: 1.0834377453000117 ms\n",
            "Epsilon: 0.1\t Run-time: 1.0856275581009867 ms\n",
            "Epsilon: 0.15\t Run-time: 1.0981591980999836 ms\n",
            "Epsilon: 0.2\t Run-time: 1.0859594478992676 ms\n",
            "Epsilon: 0.25\t Run-time: 1.0899853783009348 ms\n",
            "Epsilon: 0.3\t Run-time: 1.073570753900822 ms\n",
            "Epsilon: 0.35\t Run-time: 1.1018912854006886 ms\n",
            "Epsilon: 0.4\t Run-time: 1.1856669848992396 ms\n",
            "Epsilon: 0.45\t Run-time: 1.1362156922984694 ms\n",
            "Epsilon: 0.5\t Run-time: 1.1132098579010972 ms\n",
            "Epsilon: 0.55\t Run-time: 1.1079315486997756 ms\n",
            "Epsilon: 0.6\t Run-time: 1.1796200463991453 ms\n",
            "Epsilon: 0.65\t Run-time: 1.128939592999336 ms\n",
            "Epsilon: 0.7\t Run-time: 1.1105595716006746 ms\n",
            "Epsilon: 0.75\t Run-time: 1.1627599207996582 ms\n",
            "Epsilon: 0.8\t Run-time: 1.115660467098951 ms\n",
            "Epsilon: 0.85\t Run-time: 1.0863315136002256 ms\n",
            "Epsilon: 0.9\t Run-time: 1.084264512099776 ms\n",
            "Epsilon: 0.95\t Run-time: 1.1445245619028128 ms\n"
          ]
        }
      ]
    },
    {
      "cell_type": "code",
      "metadata": {
        "id": "EXOzOOqFDAbX"
      },
      "source": [
        "EPSILON_SMALL_BUDGET_IDX = 0\n",
        "EPSILON_MIDDLE_BUDGET_IDX = 1\n",
        "EPSILON_LARGE_BUDGET_IDX = 2\n",
        " \n",
        "epsilon3Fild = [0.10,0.15,0.20] #choosing at random 3 perturbation budgets at random with more than 1000 adversarial samples\n",
        "\n",
        "#1000 adversarial samples for each perturbation budget. More samples are generated however only 1000 are used below (question says atleast 1000 therefore this should be okay)\n",
        "advSampleSmallPertBudget = dictSuccessfulAttack_org[epsilon3Fild[EPSILON_SMALL_BUDGET_IDX]][:1000]\n",
        "advSampleMiddlePertBudget = dictSuccessfulAttack_org[epsilon3Fild[EPSILON_MIDDLE_BUDGET_IDX]][:1000]\n",
        "advSampleLargePertBudget = dictSuccessfulAttack_org[epsilon3Fild[EPSILON_LARGE_BUDGET_IDX]][:1000]\n"
      ],
      "execution_count": null,
      "outputs": []
    },
    {
      "cell_type": "markdown",
      "metadata": {
        "id": "Ex3qQp3JolD1"
      },
      "source": [
        "## 1.4: Visualizing the results (7 Points)\n",
        "\n",
        "* Please chose one sample for each class (for example the first when iterating the test data) and plot the (ten) adversarial examples as well as the predicted label (before and after the attack)\n",
        "\n",
        "* Please repeat the visualization for the three sets you have created "
      ]
    },
    {
      "cell_type": "code",
      "metadata": {
        "id": "eGkp0B0PO1wJ"
      },
      "source": [
        "\n",
        "def findNextLabelIdx(labelValue, searchTensor):\n",
        "  idxList = list(range(len(searchTensor)))\n",
        "  searchList = [x[2] for x in searchTensor]\n",
        "\n",
        "  for idx in idxList:\n",
        "    if searchList[idx] == labelValue:\n",
        "      return idx\n",
        "\n",
        "\n",
        "def plotForEpsilon(epsilon, advSampleList):\n",
        "  col_titles = ['Original Image','FGSM Perturbed Image'] \n",
        "  nsamples = 11\n",
        "  nrows = nsamples\n",
        "  ncols = len(col_titles)\n",
        "\n",
        "  fig, axes = plt.subplots(nrows,ncols,figsize=(10,15))  # create the figure with subplots\n",
        "  [ax.set_axis_off() for ax in axes.ravel()]  # remove the axis\n",
        "\n",
        "\n",
        "  for ax, col in zip(axes[0], col_titles): # set up the title for each column\n",
        "      ax.set_title(col,fontdict={'fontsize':18,'color':'b'})\n",
        "\n",
        "  for i in range(nsamples):\n",
        "    if(i != 0):\n",
        "      data_original, data_attacked, label_original, label_attacked = advSampleList[findNextLabelIdx(i-1, advSampleList)]\n",
        "      im_original = torchvision.utils.make_grid(data_original)\n",
        "      im_original = torch.clamp(im_original, 0, 1)\n",
        "\n",
        "      axes[i,0].imshow(np.transpose(im_original.numpy(), (1, 2, 0)))  \n",
        "      axes[i,1].imshow(data_attacked)\n",
        "\n",
        "      axes[i][0].title.set_text('Label - {}'.format(label_original.numpy()[0]))\n",
        "      axes[i][1].title.set_text('Pred. Label - {}'.format(label_attacked.numpy()[0][0]))\n",
        "\n",
        "  fig.suptitle(\"Epsilon - {}\".format(epsilon, fontdict={'fontsize':18,'color':'b'}))\n",
        "  fig.subplots_adjust(top=0.88)\n",
        "  fig.tight_layout()\n",
        "    \n"
      ],
      "execution_count": null,
      "outputs": []
    },
    {
      "cell_type": "code",
      "metadata": {
        "colab": {
          "base_uri": "https://localhost:8080/",
          "height": 1000
        },
        "id": "JZ-24QZtH1l_",
        "outputId": "1a920d41-6ea0-40dc-91cb-22ff881303a9"
      },
      "source": [
        "plotForEpsilon(epsilon3Fild[EPSILON_SMALL_BUDGET_IDX], advSampleSmallPertBudget)"
      ],
      "execution_count": null,
      "outputs": [
        {
          "output_type": "display_data",
          "data": {
            "image/png": "[encoded data removed]",
            "text/plain": [
              "<Figure size 720x1080 with 22 Axes>"
            ]
          },
          "metadata": {
            "needs_background": "light"
          }
        }
      ]
    },
    {
      "cell_type": "code",
      "metadata": {
        "colab": {
          "base_uri": "https://localhost:8080/",
          "height": 1000
        },
        "id": "d1K-fFVJIXge",
        "outputId": "3a7be1a9-4811-49d5-cd9e-97698d5ace20"
      },
      "source": [
        "plotForEpsilon(epsilon3Fild[EPSILON_MIDDLE_BUDGET_IDX], advSampleMiddlePertBudget)"
      ],
      "execution_count": null,
      "outputs": [
        {
          "output_type": "display_data",
          "data": {
            "image/png": "[encoded data removed]",
            "text/plain": [
              "<Figure size 720x1080 with 22 Axes>"
            ]
          },
          "metadata": {
            "needs_background": "light"
          }
        }
      ]
    },
    {
      "cell_type": "code",
      "metadata": {
        "colab": {
          "base_uri": "https://localhost:8080/",
          "height": 1000
        },
        "id": "HeOZ7Y1kIY6e",
        "outputId": "15b42dd6-e0e1-49b3-9aa6-5b8e57e24099"
      },
      "source": [
        "plotForEpsilon(epsilon3Fild[EPSILON_LARGE_BUDGET_IDX], advSampleLargePertBudget)"
      ],
      "execution_count": null,
      "outputs": [
        {
          "output_type": "display_data",
          "data": {
            "image/png": "[encoded data removed]",
            "text/plain": [
              "<Figure size 720x1080 with 22 Axes>"
            ]
          },
          "metadata": {
            "needs_background": "light"
          }
        }
      ]
    },
    {
      "cell_type": "markdown",
      "metadata": {
        "id": "52os4m6c42yk"
      },
      "source": [
        "## 1.5: Analyzing the results (5 Points)\n",
        "\n",
        "Please write a brief summary of your findings.  \n",
        "\n",
        "* Does the attack always succeed (the model makes wrong prediction on the adversarial sample)? What is the relationship between the attack success rate and the perturbation budget?\n",
        "* How about the computation cost of the attack? (you can report the time in second) \n",
        "* Does the attack require white-box access to the model?\n",
        "* Feel free to report your results via tables or figures, and mention any other interesting observations \n",
        "\n"
      ]
    },
    {
      "cell_type": "markdown",
      "metadata": {
        "id": "YPHxIR7p42yl"
      },
      "source": [
        "\n",
        "**ANSWERS**\n",
        "\n",
        "\n",
        "Q:  Does the attack always succeed (the model makes wrong prediction on the adversarial sample)? What is the relationship between the attack success rate and the perturbation budget?\n",
        "\n",
        "A: The attack doesn't always succeed from the stand point that there is a non-zero amount of image that the model classifies correctly for any given value of epsilon < 0.95. Even at Epsilon = 0.95, the model has a 5% accuracy which means the attack doesn't \"always\" succeed. The analysis was done for a wide range of perturbation budgets(Epsilon) and the success of the attack was greater for larger perturbation budgets as one might guess. For a value of Epsilon as small as 0.05, the model was still able to predict with about 90% accuracy however for slightly higher values of epsilon such as 0.25 or 0.35, the accuracy already drops to a staggering low 75% and 50% respectively. \n",
        "\n",
        "Below, you'll find 2 sets outputs of test accuracy\n",
        "\n",
        "*   Set 1 - The 3 chosen perturbation budgets and their accuracies\n",
        "*   Set 2 - The whole range of perturbation budgets explored and their accuracies\n",
        "\n",
        "\n",
        "\n",
        "\n",
        "\n"
      ]
    },
    {
      "cell_type": "code",
      "metadata": {
        "colab": {
          "base_uri": "https://localhost:8080/"
        },
        "id": "ecAHrcHrqXqZ",
        "outputId": "3cdd2278-e480-4a80-a844-0f84176e5867"
      },
      "source": [
        "for eps in epsilon3Fild:\n",
        "  print(\"Epsilon: {}\\tTest Accuracy = {}\".format(eps, dictAfterAttackAccuracy_org[eps]))"
      ],
      "execution_count": null,
      "outputs": [
        {
          "output_type": "stream",
          "name": "stdout",
          "text": [
            "Epsilon: 0.1\tTest Accuracy = 0.7974\n",
            "Epsilon: 0.15\tTest Accuracy = 0.6202\n",
            "Epsilon: 0.2\tTest Accuracy = 0.3879\n"
          ]
        }
      ]
    },
    {
      "cell_type": "code",
      "metadata": {
        "colab": {
          "base_uri": "https://localhost:8080/"
        },
        "id": "oyZgdGzG2VQM",
        "outputId": "333daf7f-ced1-43d3-b262-71c3997f9928"
      },
      "source": [
        "for eps in epsilons:\n",
        "  print(\"Epsilon: {}\\tTest Accuracy = {}\".format(eps, dictAfterAttackAccuracy_org[eps]*100))"
      ],
      "execution_count": null,
      "outputs": [
        {
          "output_type": "stream",
          "name": "stdout",
          "text": [
            "Epsilon: 0.05\tTest Accuracy = 90.53999999999999\n",
            "Epsilon: 0.1\tTest Accuracy = 79.74\n",
            "Epsilon: 0.15\tTest Accuracy = 62.019999999999996\n",
            "Epsilon: 0.2\tTest Accuracy = 38.79\n",
            "Epsilon: 0.25\tTest Accuracy = 17.990000000000002\n",
            "Epsilon: 0.3\tTest Accuracy = 7.1499999999999995\n",
            "Epsilon: 0.35\tTest Accuracy = 2.97\n",
            "Epsilon: 0.4\tTest Accuracy = 1.59\n",
            "Epsilon: 0.45\tTest Accuracy = 1.06\n",
            "Epsilon: 0.5\tTest Accuracy = 0.8\n",
            "Epsilon: 0.55\tTest Accuracy = 0.74\n",
            "Epsilon: 0.6\tTest Accuracy = 0.77\n",
            "Epsilon: 0.65\tTest Accuracy = 0.95\n",
            "Epsilon: 0.7\tTest Accuracy = 1.08\n",
            "Epsilon: 0.75\tTest Accuracy = 1.3\n",
            "Epsilon: 0.8\tTest Accuracy = 1.47\n",
            "Epsilon: 0.85\tTest Accuracy = 1.8800000000000001\n",
            "Epsilon: 0.9\tTest Accuracy = 2.2800000000000002\n",
            "Epsilon: 0.95\tTest Accuracy = 2.6599999999999997\n"
          ]
        }
      ]
    },
    {
      "cell_type": "code",
      "metadata": {
        "colab": {
          "base_uri": "https://localhost:8080/",
          "height": 279
        },
        "id": "0e9LwagPImpo",
        "outputId": "fcbbe4fe-3baf-4550-8020-d2ebcea64e36"
      },
      "source": [
        "lists = sorted(dictAfterAttackAccuracy_org.items()) \n",
        "x, y = zip(*lists)\n",
        "\n",
        "plt.plot(x,y)\n",
        "plt.xlabel(\"Epsilon\")\n",
        "plt.ylabel(\"Accuracy\")\n",
        "\n",
        "plt.show()"
      ],
      "execution_count": null,
      "outputs": [
        {
          "output_type": "display_data",
          "data": {
            "image/png": "[encoded data removed]",
            "text/plain": [
              "<Figure size 432x288 with 1 Axes>"
            ]
          },
          "metadata": {
            "needs_background": "light"
          }
        }
      ]
    },
    {
      "cell_type": "markdown",
      "metadata": {
        "id": "-px5bQSJrabe"
      },
      "source": [
        "Q: How about the computation cost of the attack? (you can report the time in second)\n",
        "\n",
        "A: The compuatation cost of the FGSM is about 1.05ms per image. The name already does indicate that this is a fast method and the inexpensive computation proves it. The below output is the averaged measured run-time for different values of epsilon. Epsilon by itself doesn't play a role in the computation cost however. \n"
      ]
    },
    {
      "cell_type": "code",
      "metadata": {
        "colab": {
          "base_uri": "https://localhost:8080/",
          "height": 602
        },
        "id": "wBT_tWwdtiMA",
        "outputId": "95d9cdf6-7055-4558-f268-b95f2d9a1f43"
      },
      "source": [
        "for eps in epsilons:\n",
        "  print(\"Epsilon: {}\\t Run-time: {} ms\".format(eps, dictRuntimeMeasurement_org[eps]*1000))\n",
        "\n",
        "lists = sorted(dictRuntimeMeasurement_org.items()) \n",
        "x, y = zip(*lists)\n",
        "y1 = [element * 1000 for element in y]\n",
        "\n",
        "plt.plot(x,y1)\n",
        "plt.xlabel(\"Epsilon\")\n",
        "plt.ylabel(\"Runtime (ms)\")\n",
        "\n",
        "plt.show()"
      ],
      "execution_count": null,
      "outputs": [
        {
          "output_type": "stream",
          "name": "stdout",
          "text": [
            "Epsilon: 0.05\t Run-time: 1.0834377453000117 ms\n",
            "Epsilon: 0.1\t Run-time: 1.0856275581009867 ms\n",
            "Epsilon: 0.15\t Run-time: 1.0981591980999836 ms\n",
            "Epsilon: 0.2\t Run-time: 1.0859594478992676 ms\n",
            "Epsilon: 0.25\t Run-time: 1.0899853783009348 ms\n",
            "Epsilon: 0.3\t Run-time: 1.073570753900822 ms\n",
            "Epsilon: 0.35\t Run-time: 1.1018912854006886 ms\n",
            "Epsilon: 0.4\t Run-time: 1.1856669848992396 ms\n",
            "Epsilon: 0.45\t Run-time: 1.1362156922984694 ms\n",
            "Epsilon: 0.5\t Run-time: 1.1132098579010972 ms\n",
            "Epsilon: 0.55\t Run-time: 1.1079315486997756 ms\n",
            "Epsilon: 0.6\t Run-time: 1.1796200463991453 ms\n",
            "Epsilon: 0.65\t Run-time: 1.128939592999336 ms\n",
            "Epsilon: 0.7\t Run-time: 1.1105595716006746 ms\n",
            "Epsilon: 0.75\t Run-time: 1.1627599207996582 ms\n",
            "Epsilon: 0.8\t Run-time: 1.115660467098951 ms\n",
            "Epsilon: 0.85\t Run-time: 1.0863315136002256 ms\n",
            "Epsilon: 0.9\t Run-time: 1.084264512099776 ms\n",
            "Epsilon: 0.95\t Run-time: 1.1445245619028128 ms\n"
          ]
        },
        {
          "output_type": "display_data",
          "data": {
            "image/png": "[encoded data removed]",
            "text/plain": [
              "<Figure size 432x288 with 1 Axes>"
            ]
          },
          "metadata": {
            "needs_background": "light"
          }
        }
      ]
    },
    {
      "cell_type": "markdown",
      "metadata": {
        "id": "2OEvjkydt6Fj"
      },
      "source": [
        "Q: Does the attack require white-box access to the model?\n",
        "\n",
        "A: Yes, the FGSM attack requires white-box access to the model. FGSM attack computes the gradient of the loss function and aims at maximizing the loss function. To be able to compute the gradient of the loss functions, a white box access to the model or more percisely the loss function is required. Typically while training a model one would do the opposite by computing the gradient with respect to the training parameters and aim at reducing the loss. \n"
      ]
    },
    {
      "cell_type": "markdown",
      "metadata": {
        "id": "KJUmrv5Bymij"
      },
      "source": [
        "# 2. Defending an ML model (35 points) \n",
        "\n",
        "So far, we have focused on attacking an ML model. In this section, we want you to defend your model. \n"
      ]
    },
    {
      "cell_type": "markdown",
      "metadata": {
        "id": "0gHUFK6Mymik"
      },
      "source": [
        "## 2.1: Implementing the adversarial training defense (20 Points)\n",
        "\n",
        "* We would like to ask you to implement the adversarial training defense (https://arxiv.org/pdf/1412.6572.pdf) mentioned in the lecture. \n",
        "\n",
        "* You can use the **FGSM adversarial training** method (i.e., train on FGSM examples). \n",
        "\n",
        "* You can also check the adversarial training implementation in other papers, e.g., http://proceedings.mlr.press/v97/pang19a/pang19a.pdf \n",
        "\n",
        "* Choose a certain **maximum perturbation budget** during training that is in the middle of the range you have experimented with before. \n",
        "\n",
        "* We do not require the defense to work perfectly - but what we want you to understand is why it works or why it does not work.\n",
        "\n",
        "**Hint:** You can save the checkpoint of the defended model as we would need it to for the third part of this exercise.\n"
      ]
    },
    {
      "cell_type": "code",
      "metadata": {
        "id": "eB2dm2WlW5iL"
      },
      "source": [
        "defendedModel = Net().to(device)\n",
        "optimizer = optim.SGD(network.parameters(), lr=learning_rate_2,momentum=momentum_2)"
      ],
      "execution_count": null,
      "outputs": []
    },
    {
      "cell_type": "markdown",
      "metadata": {
        "id": "4G7bhdEU5sdq"
      },
      "source": [
        "Training the defense model with the Epsilon value of 0.15 (middle budget)"
      ]
    },
    {
      "cell_type": "code",
      "metadata": {
        "id": "DD0UalSeymim"
      },
      "source": [
        "adv_train_acc_1=[]\n",
        "adv_train_losses_1=[]\n",
        "adv_train_counter_1=[]\n",
        "adv_test_counter_1=[]\n",
        "dictPerturbedImage_adv = {}\n",
        "\n",
        "def adv_training_1(epoch):\n",
        "\n",
        "  network.train()\n",
        "  correct = 0\n",
        "  for batch_idx, (data, target) in enumerate(train_loader):\n",
        "    optimizer.zero_grad()\n",
        "\n",
        "    #Newly computing perturbations and adding them to training data before training the model\n",
        "    delta = torch.zeros_like(data, requires_grad=True)\n",
        "    loss =  F.nll_loss(network(data + delta), target)\n",
        "    loss.backward()\n",
        "    perturbation= epsilon3Fild[EPSILON_MIDDLE_BUDGET_IDX]*delta.grad.detach().sign()    #Epsilon chosen for middle budget\n",
        "    adv_train_perturbed_data= data + perturbation\n",
        "  \n",
        "    \n",
        "    #training the network using the pertubated data and computing the loss using negative log-likelihood and\n",
        "    #computing the training accuracy at the end.\n",
        "    adv_train_output = network(adv_train_perturbed_data)\n",
        "    adv_train_loss = F.nll_loss(adv_train_output, target)\n",
        "    adv_train_loss.backward()\n",
        "    optimizer.step()\n",
        "    pred = adv_train_output.data.max(1, keepdim=True)[1]\n",
        "    correct += pred.eq(target.data.view_as(pred)).sum()\n",
        "    \n",
        "    if batch_idx % log_interval == 0:\n",
        "      adv_train_losses_1.append(adv_train_loss.item())\n",
        "      adv_train_counter_1.append(\n",
        "        (batch_idx*64) + ((epoch-1)*len(train_loader.dataset)))\n",
        "      #torch.save(network.state_dict(), \"adv_train_model_1.pth\")\n",
        "      #torch.save(optimizer.state_dict(), \"adv_train_model_1.pth\")\n",
        "      torch.save(network.state_dict(), defended_model_path)\n",
        "      torch.save(optimizer.state_dict(), defended_model_path)\n",
        "  accuracy = 100 * correct / len(train_loader.dataset)\n",
        "  acc_FGSM_1= accuracy\n",
        "  adv_train_acc_1.append(accuracy)\n",
        "  print('Epoch %d, Train Accuracy: %f' % (epoch, accuracy))"
      ],
      "execution_count": null,
      "outputs": []
    },
    {
      "cell_type": "code",
      "metadata": {
        "colab": {
          "base_uri": "https://localhost:8080/"
        },
        "id": "7tI-VG3ultpO",
        "outputId": "07d91481-d8bd-4520-ef94-cd2d60cc4ece"
      },
      "source": [
        "#initDictPerturbedImage(epsilon3Fild[EPSILON_MIDDLE_BUDGET_IDX], dictPerturbedImage_1)\n",
        "\n",
        "for epoch in range(0, 3):\n",
        "  adv_training_1(epoch)"
      ],
      "execution_count": null,
      "outputs": [
        {
          "output_type": "stream",
          "name": "stderr",
          "text": [
            "/usr/local/lib/python3.7/dist-packages/ipykernel_launcher.py:19: UserWarning: Implicit dimension choice for log_softmax has been deprecated. Change the call to include dim=X as an argument.\n"
          ]
        },
        {
          "output_type": "stream",
          "name": "stdout",
          "text": [
            "Epoch 0, Train Accuracy: 84.444000\n",
            "Epoch 1, Train Accuracy: 85.391998\n",
            "Epoch 2, Train Accuracy: 85.956001\n"
          ]
        }
      ]
    },
    {
      "cell_type": "markdown",
      "metadata": {
        "id": "chg29fTx42ym"
      },
      "source": [
        "## 2.2: Evaluation (10 Points)\n",
        "\n",
        "* Craft adversarial examples using the **defended** model. This entails at least 1,000 examples crafted via FGSM. \n",
        "    * Create one set using a budget that is **less than (within)** the one used in training.\n",
        "    * Create another set using a budget that is **higher than** the one used in training. \n",
        "    * You can use two values of epsilons from question 1.3 \n",
        "    \n",
        "* Evaluate the **defended** model on these two adversarial examples sets. \n"
      ]
    },
    {
      "cell_type": "code",
      "metadata": {
        "colab": {
          "base_uri": "https://localhost:8080/"
        },
        "id": "84TNSTgLlpDj",
        "outputId": "b5aadb33-167f-456d-cf60-50af4ac47254"
      },
      "source": [
        "\n",
        "dictPerturbedImage_1 = {}\n",
        "dictAfterAttackAccuracy_1 = {}\n",
        "dictRuntimeMeasurement_1 = {}\n",
        "dictSuccessfulAttack_1 = {}\n",
        "\n",
        "\n",
        "for eps in epsilons:\n",
        "  fastGradSignAttack(eps, network, test_loader, dictPerturbedImage_1, dictRuntimeMeasurement_1)\n",
        "\n"
      ],
      "execution_count": null,
      "outputs": [
        {
          "output_type": "stream",
          "name": "stderr",
          "text": [
            "/usr/local/lib/python3.7/dist-packages/ipykernel_launcher.py:19: UserWarning: Implicit dimension choice for log_softmax has been deprecated. Change the call to include dim=X as an argument.\n",
            "/usr/local/lib/python3.7/dist-packages/torch/nn/_reduction.py:42: UserWarning: size_average and reduce args will be deprecated, please use reduction='sum' instead.\n",
            "  warnings.warn(warning.format(ret))\n"
          ]
        }
      ]
    },
    {
      "cell_type": "markdown",
      "metadata": {
        "id": "swXswmcI4aWZ"
      },
      "source": [
        "At this point, the dictPerturbedImage_1 would have more than 1000 samples for each value of Epsilon. Though the question asks only for 2 values of Epsilon, we've included all values of epsilon because of the very informative plot that we wanted to have in the bottom to compare the accuracy for the whole range of epsilons in the defended and the undefended models.\n",
        "\n",
        "In our case the 2 values of Epsilon in the neighbourhood of the defended epsilon value is 0.1 and 0.2.\n",
        "\n",
        "From the below accuracy computation, we see that the accuracy is about 92.4% for defended model with epsilon 0.1 and 85% for the defended model with epsilon 0.2. However the undefended model had 82.6% and 40.2% respectively. "
      ]
    },
    {
      "cell_type": "code",
      "metadata": {
        "id": "LBFWXbSLirjy",
        "colab": {
          "base_uri": "https://localhost:8080/"
        },
        "outputId": "99a14f22-dab6-4f0d-c380-a83b09e938c3"
      },
      "source": [
        "for eps in epsilons:\n",
        "  initDictPerturbedImage(eps, dictSuccessfulAttack_1)\n",
        "  fastGradSignAttackAccuracy(eps, network, dictPerturbedImage_1, dictSuccessfulAttack_1, dictAfterAttackAccuracy_1)"
      ],
      "execution_count": null,
      "outputs": [
        {
          "output_type": "stream",
          "name": "stderr",
          "text": [
            "/usr/local/lib/python3.7/dist-packages/ipykernel_launcher.py:19: UserWarning: Implicit dimension choice for log_softmax has been deprecated. Change the call to include dim=X as an argument.\n"
          ]
        },
        {
          "output_type": "stream",
          "name": "stdout",
          "text": [
            "Epsilon: 0.05\tTest Accuracy = 94.85520313991725\n",
            "Epsilon: 0.1\tTest Accuracy = 92.47448979591837\n",
            "Epsilon: 0.15\tTest Accuracy = 89.10460428601739\n",
            "Epsilon: 0.2\tTest Accuracy = 85.19579751671442\n",
            "Epsilon: 0.25\tTest Accuracy = 79.85978330146591\n",
            "Epsilon: 0.3\tTest Accuracy = 70.76662071890574\n",
            "Epsilon: 0.35\tTest Accuracy = 58.57158040174302\n",
            "Epsilon: 0.4\tTest Accuracy = 46.10223642172524\n",
            "Epsilon: 0.45\tTest Accuracy = 36.05282777718607\n",
            "Epsilon: 0.5\tTest Accuracy = 26.537561183230473\n",
            "Epsilon: 0.55\tTest Accuracy = 22.144373673036092\n",
            "Epsilon: 0.6\tTest Accuracy = 18.35456475583864\n",
            "Epsilon: 0.65\tTest Accuracy = 14.60101867572156\n",
            "Epsilon: 0.7\tTest Accuracy = 12.74896155075088\n",
            "Epsilon: 0.75\tTest Accuracy = 10.982474774296335\n",
            "Epsilon: 0.8\tTest Accuracy = 10.535828194769296\n",
            "Epsilon: 0.85\tTest Accuracy = 9.75816716164616\n",
            "Epsilon: 0.9\tTest Accuracy = 9.427359490986214\n",
            "Epsilon: 0.95\tTest Accuracy = 9.233875252364253\n"
          ]
        }
      ]
    },
    {
      "cell_type": "code",
      "metadata": {
        "colab": {
          "base_uri": "https://localhost:8080/",
          "height": 279
        },
        "id": "L5QsyegOlRzw",
        "outputId": "95e3d1c8-f15c-44e8-f348-eaba565a2f67"
      },
      "source": [
        "lists1 = sorted(dictAfterAttackAccuracy_org.items()) \n",
        "x1, y1 = zip(*lists1)\n",
        "\n",
        "lists2 = sorted(dictAfterAttackAccuracy_1.items()) \n",
        "x2, y2 = zip(*lists2)\n",
        "\n",
        "plt.plot(x1,y1, label=\"Original Model\")\n",
        "plt.plot(x2,y2, label=\"FGSM Defense Model\")\n",
        "plt.xlabel(\"Epsilon\")\n",
        "plt.ylabel(\"Accuracy\")\n",
        "plt.legend()\n",
        "plt.show()"
      ],
      "execution_count": null,
      "outputs": [
        {
          "output_type": "display_data",
          "data": {
            "image/png": "[encoded data removed]",
            "text/plain": [
              "<Figure size 432x288 with 1 Axes>"
            ]
          },
          "metadata": {
            "needs_background": "light"
          }
        }
      ]
    },
    {
      "cell_type": "code",
      "metadata": {
        "colab": {
          "base_uri": "https://localhost:8080/"
        },
        "id": "z0-Cuplm42yn",
        "outputId": "6e0ab8eb-2a4e-45c5-ace8-a9b7a952b4f9"
      },
      "source": [
        "acc_FGSM1 = dictAfterAttackAccuracy_org[epsilon3Fild[EPSILON_SMALL_BUDGET_IDX]]\n",
        "acc_FGSM2 = dictAfterAttackAccuracy_org[epsilon3Fild[EPSILON_LARGE_BUDGET_IDX]]\n",
        "\n",
        "acc_FGSM_defend1=dictAfterAttackAccuracy_1[epsilon3Fild[EPSILON_SMALL_BUDGET_IDX]]\n",
        "acc_FGSM_defend2=dictAfterAttackAccuracy_1[epsilon3Fild[EPSILON_LARGE_BUDGET_IDX]]\n",
        "\n",
        "print('Accuracy on the lower-budget adversarial samples (FGSM) %.2f'%acc_FGSM1)\n",
        "print('Accuracy on the lower-budget adversarial samples (FGSM) after defense %.2f'%acc_FGSM_defend1)\n",
        "\n",
        "print('Accuracy on the higher-budget adversarial samples (FGSM) %.2f'%acc_FGSM2)\n",
        "print('Accuracy on the higher-budget adversarial samples (FGSM) after defense %.2f'%acc_FGSM_defend2)"
      ],
      "execution_count": null,
      "outputs": [
        {
          "output_type": "stream",
          "name": "stdout",
          "text": [
            "Accuracy on the lower-budget adversarial samples (FGSM) 0.83\n",
            "Accuracy on the lower-budget adversarial samples (FGSM) after defense 0.92\n",
            "Accuracy on the higher-budget adversarial samples (FGSM) 0.40\n",
            "Accuracy on the higher-budget adversarial samples (FGSM) after defense 0.85\n"
          ]
        }
      ]
    },
    {
      "cell_type": "markdown",
      "metadata": {
        "id": "OkXv6wmC42yn"
      },
      "source": [
        "## 2.3 Discussion (5 points)\n",
        "\n",
        "* How successful was the defense against the attack compared to the undefended model? How do you interpret the difference?\n",
        "* How did the two sets differ?"
      ]
    },
    {
      "cell_type": "markdown",
      "metadata": {
        "id": "z5GaQvs-42yn"
      },
      "source": [
        "**Answers**\n",
        "\n",
        "**Q1**\n",
        "\n",
        "The adversarial training was done using ϵ=0.15.\n",
        "\n",
        "The defense was more successful against the attack in comparison to the undefended model when the perturbation budget was greater than the perturbation budget of the model on which training was performed $(0.2>0.15>0.01)$. \n",
        "\n",
        "We can see a average jump of 45% in the accuracy of model after defense in comparison to the undefended model for perturbation greater than the perturbation budget of the training model. Whereas for the perturbation budget less than the perturbation budget of the model $(0.1<0.15)$ it performed slightly better than the undefended model.\n",
        "\n",
        "  The results can be summarised as below:\n",
        "\n",
        "Budget | Undefended Model  | Defended Model \n",
        "-------|-------------------|------------------\n",
        "0.1    |       0.83        |      0.92\n",
        "0.2    |       0.40        |      0.85\n",
        "\n",
        "\n",
        "\n",
        "\n",
        "The improvement in the result is due to the adversarial training which   involves training on the perturbations/noise (which basically is result of gradient descent on the input data) which makes the model more aware of the types of attack on the data possible and learns to optimise it accordingly in the training. This training thus helps to improve accuracy during the testing.\n",
        "\n",
        "\n",
        "**Q2**\n",
        "\n",
        "The two sets differ to each other in terms of the epsilon(ϵ) which also refers to the percentage of perturbations/noise allowed to be added to the input data image.\n",
        "\n",
        "It can be oberved that when the noise is less (ϵ=0.1) than perturbation of the trained model(ϵ=0.15) the accuracy of the undefended model and defended model are close due to less amount of noise added and for noise percentage higher than trained model(ϵ=0.2), it has better accuracy as now the defended model is aware of the kind of noise and optimises itself to provide better classification test result.\n",
        "\n"
      ]
    },
    {
      "cell_type": "markdown",
      "metadata": {
        "id": "K7Mifk5Z42yn"
      },
      "source": [
        "# 3: I-FGSM attack (35 points) \n",
        "\n",
        "* FGSM is one of the simplest and earliest attacks. Since then, many more advanced attacks have been proposed. \n",
        "* One of them is the Iterative-FGSM (https://arxiv.org/pdf/1607.02533.pdf), where the attack is repeated multiple times.\n",
        "* In this part, we ask you to please implement the iterative FGSM attack. \n",
        "\n"
      ]
    },
    {
      "cell_type": "markdown",
      "metadata": {
        "id": "LLw9pdVJ42yo"
      },
      "source": [
        "## 3.1: Implementing the I-FGSM attack (10 Points)\n",
        "\n",
        "**Hints**: \n",
        "\n",
        "* Your code should have an attack loop. At each step, the FGSM attack that you have implemented before is computed using a small step.\n",
        "* After each step, you should perform a per-pixel clipping to make sure the image is in the allowed range, and that the perturbation is within budget.\n"
      ]
    },
    {
      "cell_type": "code",
      "metadata": {
        "id": "3caNhMky42yo"
      },
      "source": [
        "# This function implements the iterative fgsm attack\n",
        "def i_fgsm_attack(model, x, y, epsilon, alpha, iteration):\n",
        "  x_adv = x.detach().clone()\n",
        "  for step in range(iteration):\n",
        "\n",
        "    # apply fgsm on the image\n",
        "    x_adv = fgsm_attack(model, x_adv, y, alpha)\n",
        "\n",
        "    # clip pixel values of intermediate results after each step to ensure that they are in an epsilon-neighbourhood of the original image\n",
        "    x_adv = torch.clamp(x_adv, min=max(x-epsilon, 0), max=min(x+epsilon, 1))\n",
        "\n",
        "  # return the adversarial image\n",
        "  return x_adv\n"
      ],
      "execution_count": null,
      "outputs": []
    },
    {
      "cell_type": "markdown",
      "metadata": {
        "id": "y4WLVCO942yo"
      },
      "source": [
        "## 3.2: Attack the undefended model (5 Points)\n",
        "\n",
        "* We will first attack the **undefended model** (i.e., without adversarial training).\n",
        "\n",
        "* Choose one perturbation budget from Question **1.3** for comparison. \n",
        "\n",
        "    * Hint: A simple way to choose the small step is to divide the total budget by the number of steps (e.g., 10).\n",
        "\n",
        "* Please generate 1000 adversarial examples using the **undefended** model and the **I-FGSM** you implemented. \n",
        "\n",
        "* Please compute the accuracy of the adversarial set on the **undefended** model. "
      ]
    },
    {
      "cell_type": "code",
      "metadata": {
        "id": "rLftsm43yu8i"
      },
      "source": [
        "# this function generates 10000 adversarial examples using the model and i-fgsm attack\n",
        "def generate_adversarial_samples(model, epsilon, alpha, iteration):\n",
        "    adversarial_samples = []\n",
        "    for x, y in test_loader:\n",
        "        x_adv = i_fgsm_attack(model=model, x=x, y=y, epsilon=epsilon, alpha=alpha, iteration=iteration).to(device)\n",
        "        adversarial_samples.append((x_adv, y)) \n",
        "        if len(adversarial_samples) == 10000:\n",
        "          break\n",
        "    return adversarial_samples\n",
        "\n",
        "\n",
        "# compute accuracy of the adversarial set on the  model\n",
        "def compute_accuracy(model, adversarial_set):\n",
        "    correct = 0\n",
        "    for x_adv, y in adversarial_set:\n",
        "        output = model(x_adv)\n",
        "        y_pred = output.data.max(1, keepdim=True)[1]\n",
        "      \n",
        "        if y_pred.item() == y.item():\n",
        "            correct += 1\n",
        "\n",
        "    accuracy = correct / 100\n",
        "    return accuracy\n",
        "   "
      ],
      "execution_count": null,
      "outputs": []
    },
    {
      "cell_type": "code",
      "metadata": {
        "colab": {
          "base_uri": "https://localhost:8080/",
          "height": 362
        },
        "id": "xF5RVCh342yo",
        "outputId": "bc650808-f3a3-4e8f-90d1-928fa45e151c"
      },
      "source": [
        "epsilon = 0.2\n",
        "alpha = 1                                             # from the paper\n",
        "iteration =  int(min(epsilon + 4, 1.25 * epsilon))    # from the paper\n",
        "\n",
        "# load the undefended model\n",
        "undefended_model = Net().to(device)\n",
        "undefended_model.load_state_dict(torch.load(undefended_model_path))\n",
        "undefended_model.eval()\n"
      ],
      "execution_count": null,
      "outputs": [
        {
          "ename": "FileNotFoundError",
          "evalue": "ignored",
          "output_type": "error",
          "traceback": [
            "\u001b[0;31m---------------------------------------------------------------------------\u001b[0m",
            "\u001b[0;31mFileNotFoundError\u001b[0m                         Traceback (most recent call last)",
            "\u001b[0;32m<ipython-input-16-9ac6231eeaf7>\u001b[0m in \u001b[0;36m<module>\u001b[0;34m()\u001b[0m\n\u001b[1;32m      5\u001b[0m \u001b[0;31m# load the undefended model\u001b[0m\u001b[0;34m\u001b[0m\u001b[0;34m\u001b[0m\u001b[0;34m\u001b[0m\u001b[0m\n\u001b[1;32m      6\u001b[0m \u001b[0mundefended_model\u001b[0m \u001b[0;34m=\u001b[0m \u001b[0mNet\u001b[0m\u001b[0;34m(\u001b[0m\u001b[0;34m)\u001b[0m\u001b[0;34m.\u001b[0m\u001b[0mto\u001b[0m\u001b[0;34m(\u001b[0m\u001b[0mdevice\u001b[0m\u001b[0;34m)\u001b[0m\u001b[0;34m\u001b[0m\u001b[0;34m\u001b[0m\u001b[0m\n\u001b[0;32m----> 7\u001b[0;31m \u001b[0mundefended_model\u001b[0m\u001b[0;34m.\u001b[0m\u001b[0mload_state_dict\u001b[0m\u001b[0;34m(\u001b[0m\u001b[0mtorch\u001b[0m\u001b[0;34m.\u001b[0m\u001b[0mload\u001b[0m\u001b[0;34m(\u001b[0m\u001b[0mundefended_model_path\u001b[0m\u001b[0;34m)\u001b[0m\u001b[0;34m)\u001b[0m\u001b[0;34m\u001b[0m\u001b[0;34m\u001b[0m\u001b[0m\n\u001b[0m\u001b[1;32m      8\u001b[0m \u001b[0mundefended_model\u001b[0m\u001b[0;34m.\u001b[0m\u001b[0meval\u001b[0m\u001b[0;34m(\u001b[0m\u001b[0;34m)\u001b[0m\u001b[0;34m\u001b[0m\u001b[0;34m\u001b[0m\u001b[0m\n",
            "\u001b[0;32m/usr/local/lib/python3.7/dist-packages/torch/serialization.py\u001b[0m in \u001b[0;36mload\u001b[0;34m(f, map_location, pickle_module, **pickle_load_args)\u001b[0m\n\u001b[1;32m    592\u001b[0m         \u001b[0mpickle_load_args\u001b[0m\u001b[0;34m[\u001b[0m\u001b[0;34m'encoding'\u001b[0m\u001b[0;34m]\u001b[0m \u001b[0;34m=\u001b[0m \u001b[0;34m'utf-8'\u001b[0m\u001b[0;34m\u001b[0m\u001b[0;34m\u001b[0m\u001b[0m\n\u001b[1;32m    593\u001b[0m \u001b[0;34m\u001b[0m\u001b[0m\n\u001b[0;32m--> 594\u001b[0;31m     \u001b[0;32mwith\u001b[0m \u001b[0m_open_file_like\u001b[0m\u001b[0;34m(\u001b[0m\u001b[0mf\u001b[0m\u001b[0;34m,\u001b[0m \u001b[0;34m'rb'\u001b[0m\u001b[0;34m)\u001b[0m \u001b[0;32mas\u001b[0m \u001b[0mopened_file\u001b[0m\u001b[0;34m:\u001b[0m\u001b[0;34m\u001b[0m\u001b[0;34m\u001b[0m\u001b[0m\n\u001b[0m\u001b[1;32m    595\u001b[0m         \u001b[0;32mif\u001b[0m \u001b[0m_is_zipfile\u001b[0m\u001b[0;34m(\u001b[0m\u001b[0mopened_file\u001b[0m\u001b[0;34m)\u001b[0m\u001b[0;34m:\u001b[0m\u001b[0;34m\u001b[0m\u001b[0;34m\u001b[0m\u001b[0m\n\u001b[1;32m    596\u001b[0m             \u001b[0;31m# The zipfile reader is going to advance the current file position.\u001b[0m\u001b[0;34m\u001b[0m\u001b[0;34m\u001b[0m\u001b[0;34m\u001b[0m\u001b[0m\n",
            "\u001b[0;32m/usr/local/lib/python3.7/dist-packages/torch/serialization.py\u001b[0m in \u001b[0;36m_open_file_like\u001b[0;34m(name_or_buffer, mode)\u001b[0m\n\u001b[1;32m    228\u001b[0m \u001b[0;32mdef\u001b[0m \u001b[0m_open_file_like\u001b[0m\u001b[0;34m(\u001b[0m\u001b[0mname_or_buffer\u001b[0m\u001b[0;34m,\u001b[0m \u001b[0mmode\u001b[0m\u001b[0;34m)\u001b[0m\u001b[0;34m:\u001b[0m\u001b[0;34m\u001b[0m\u001b[0;34m\u001b[0m\u001b[0m\n\u001b[1;32m    229\u001b[0m     \u001b[0;32mif\u001b[0m \u001b[0m_is_path\u001b[0m\u001b[0;34m(\u001b[0m\u001b[0mname_or_buffer\u001b[0m\u001b[0;34m)\u001b[0m\u001b[0;34m:\u001b[0m\u001b[0;34m\u001b[0m\u001b[0;34m\u001b[0m\u001b[0m\n\u001b[0;32m--> 230\u001b[0;31m         \u001b[0;32mreturn\u001b[0m \u001b[0m_open_file\u001b[0m\u001b[0;34m(\u001b[0m\u001b[0mname_or_buffer\u001b[0m\u001b[0;34m,\u001b[0m \u001b[0mmode\u001b[0m\u001b[0;34m)\u001b[0m\u001b[0;34m\u001b[0m\u001b[0;34m\u001b[0m\u001b[0m\n\u001b[0m\u001b[1;32m    231\u001b[0m     \u001b[0;32melse\u001b[0m\u001b[0;34m:\u001b[0m\u001b[0;34m\u001b[0m\u001b[0;34m\u001b[0m\u001b[0m\n\u001b[1;32m    232\u001b[0m         \u001b[0;32mif\u001b[0m \u001b[0;34m'w'\u001b[0m \u001b[0;32min\u001b[0m \u001b[0mmode\u001b[0m\u001b[0;34m:\u001b[0m\u001b[0;34m\u001b[0m\u001b[0;34m\u001b[0m\u001b[0m\n",
            "\u001b[0;32m/usr/local/lib/python3.7/dist-packages/torch/serialization.py\u001b[0m in \u001b[0;36m__init__\u001b[0;34m(self, name, mode)\u001b[0m\n\u001b[1;32m    209\u001b[0m \u001b[0;32mclass\u001b[0m \u001b[0m_open_file\u001b[0m\u001b[0;34m(\u001b[0m\u001b[0m_opener\u001b[0m\u001b[0;34m)\u001b[0m\u001b[0;34m:\u001b[0m\u001b[0;34m\u001b[0m\u001b[0;34m\u001b[0m\u001b[0m\n\u001b[1;32m    210\u001b[0m     \u001b[0;32mdef\u001b[0m \u001b[0m__init__\u001b[0m\u001b[0;34m(\u001b[0m\u001b[0mself\u001b[0m\u001b[0;34m,\u001b[0m \u001b[0mname\u001b[0m\u001b[0;34m,\u001b[0m \u001b[0mmode\u001b[0m\u001b[0;34m)\u001b[0m\u001b[0;34m:\u001b[0m\u001b[0;34m\u001b[0m\u001b[0;34m\u001b[0m\u001b[0m\n\u001b[0;32m--> 211\u001b[0;31m         \u001b[0msuper\u001b[0m\u001b[0;34m(\u001b[0m\u001b[0m_open_file\u001b[0m\u001b[0;34m,\u001b[0m \u001b[0mself\u001b[0m\u001b[0;34m)\u001b[0m\u001b[0;34m.\u001b[0m\u001b[0m__init__\u001b[0m\u001b[0;34m(\u001b[0m\u001b[0mopen\u001b[0m\u001b[0;34m(\u001b[0m\u001b[0mname\u001b[0m\u001b[0;34m,\u001b[0m \u001b[0mmode\u001b[0m\u001b[0;34m)\u001b[0m\u001b[0;34m)\u001b[0m\u001b[0;34m\u001b[0m\u001b[0;34m\u001b[0m\u001b[0m\n\u001b[0m\u001b[1;32m    212\u001b[0m \u001b[0;34m\u001b[0m\u001b[0m\n\u001b[1;32m    213\u001b[0m     \u001b[0;32mdef\u001b[0m \u001b[0m__exit__\u001b[0m\u001b[0;34m(\u001b[0m\u001b[0mself\u001b[0m\u001b[0;34m,\u001b[0m \u001b[0;34m*\u001b[0m\u001b[0margs\u001b[0m\u001b[0;34m)\u001b[0m\u001b[0;34m:\u001b[0m\u001b[0;34m\u001b[0m\u001b[0;34m\u001b[0m\u001b[0m\n",
            "\u001b[0;31mFileNotFoundError\u001b[0m: [Errno 2] No such file or directory: 'undefended_model.pth'"
          ]
        }
      ]
    },
    {
      "cell_type": "code",
      "metadata": {
        "colab": {
          "base_uri": "https://localhost:8080/"
        },
        "id": "xO6sVV-19An8",
        "outputId": "c0b976b5-0205-49c1-b02a-2e9adb43927e"
      },
      "source": [
        "# attack the undefended model and compute its accuracy\n",
        "adversarial_samples = generate_adversarial_samples(model=undefended_model, epsilon=epsilon, alpha=alpha, iteration=iteration)\n",
        "undefended_model_accuracy = compute_accuracy(undefended_model, adversarial_samples)\n",
        "print(\"Accuracy of the adversarial set on the undefended model is {}%\".format(undefended_model_accuracy))"
      ],
      "execution_count": null,
      "outputs": [
        {
          "name": "stderr",
          "output_type": "stream",
          "text": [
            "/usr/local/lib/python3.7/dist-packages/ipykernel_launcher.py:19: UserWarning: Implicit dimension choice for log_softmax has been deprecated. Change the call to include dim=X as an argument.\n"
          ]
        },
        {
          "name": "stdout",
          "output_type": "stream",
          "text": [
            "Accuracy of the adversarial set on the undefended model is 96.63%\n"
          ]
        }
      ]
    },
    {
      "cell_type": "markdown",
      "metadata": {
        "id": "fxh4aiSy42yp"
      },
      "source": [
        "### 3.2.1: Findings and comparison with FGSM (8 points)\n",
        "\n",
        "* Please report your findings. How successful was the attack? \n",
        "\n",
        "* What do you expect when increasing the number of steps? (you can experiment with different parameters of the attack and report your findings) \n",
        "\n",
        "* Compare with the basic FGSM. Using the same perturbation budget and using the same model, which attack is more successful? Why do you think this is the case? What about the computation time?\n",
        "\n",
        "* Feel free to report any interesting observations. "
      ]
    },
    {
      "cell_type": "markdown",
      "metadata": {
        "id": "IJdOBDLw42yp"
      },
      "source": [
        "**Your answers go here**"
      ]
    },
    {
      "cell_type": "markdown",
      "metadata": {
        "id": "mX3TboBL42yp"
      },
      "source": [
        "## 3.3: Attack the defended model (5 poinst) \n",
        "\n",
        "* In the previous question, we attacked the **undefended model**. \n",
        "\n",
        "* Now, we want to explore how successful the previous implemented defense (FGSM adversarial training) is againts this new attack. (we will not implement a new defense here, we will be reusing your previous checkpoint of the **defended model**)\n",
        "\n",
        "\n",
        "* Use the **defended model** to create one set of adversarial examples. Use a perturbation budget from Question **2.2** for comparison.  "
      ]
    },
    {
      "cell_type": "code",
      "metadata": {
        "colab": {
          "base_uri": "https://localhost:8080/"
        },
        "id": "Ux_6hHN842yp",
        "outputId": "8844e9bc-712a-4bb2-8766-268295fa21b4"
      },
      "source": [
        "# load the defended model\n",
        "defended_model = Net().to(device)\n",
        "defended_model.load_state_dict(torch.load(defended_model_path))\n",
        "defended_model.eval()\n",
        "\n",
        "# attack the defended model\n",
        "adversarial_samples = generate_adversarial_samples(model=defended_model, epsilon=epsilon, alpha=alpha, iteration=iteration)\n",
        "\n",
        "# compute how good was the attack\n",
        "defended_model_accuracy = compute_accuracy(defended_model, adversarial_samples)\n",
        "print(\"Accuracy of the adversarial set on the defended model is {}%\".format(defended_model_accuracy))"
      ],
      "execution_count": null,
      "outputs": [
        {
          "name": "stderr",
          "output_type": "stream",
          "text": [
            "/usr/local/lib/python3.7/dist-packages/ipykernel_launcher.py:19: UserWarning: Implicit dimension choice for log_softmax has been deprecated. Change the call to include dim=X as an argument.\n"
          ]
        },
        {
          "name": "stdout",
          "output_type": "stream",
          "text": [
            "Accuracy of the adversarial set on the defended model is 97.15%\n"
          ]
        }
      ]
    },
    {
      "cell_type": "markdown",
      "metadata": {
        "id": "V8870GKl42yq"
      },
      "source": [
        "### 3.3.1: Discussion (7 points) \n",
        "* Please report your results. How successful was the attack on the defended model? \n",
        "* Compare it with the success of the FGSM attack on the defended model. What do you observe? How do you interpret the difference? \n",
        "* How do you think you can improve the defense against I-FGSM attack?\n",
        "\n",
        "\n",
        "* Feel free to state any interesting findings you encountered during this project."
      ]
    },
    {
      "cell_type": "markdown",
      "metadata": {
        "id": "Y1mG5JEv42yq"
      },
      "source": [
        "**Your answers go here**"
      ]
    }
  ]
}
