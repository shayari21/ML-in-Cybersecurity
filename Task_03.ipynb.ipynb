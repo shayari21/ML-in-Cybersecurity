{
  "nbformat": 4,
  "nbformat_minor": 0,
  "metadata": {
    "kernelspec": {
      "name": "python3",
      "display_name": "Python 3"
    },
    "colab": {
      "name": "Task_3.ipynb",
      "provenance": [],
      "collapsed_sections": []
    },
    "language_info": {
      "name": "python"
    }
  },
  "cells": [
    {
      "cell_type": "markdown",
      "metadata": {
        "id": "qKo3S_fOsMim"
      },
      "source": [
        "# ML in Cybersecurity: Task 3\n",
        "\n",
        "## Team\n",
        "  * **Team name**:  *fill this in*\n",
        "  * **Members**:  *fill this in. format: name1 (email1), name2 (email2), name3 (email3),*\n",
        "\n",
        "\n",
        "## Logistics\n",
        "  * **Due date**: 9th December 2021, 23:59:59\n",
        "  * Email the completed notebook to: `mlcysec_ws2022_staff@lists.cispa.saarland`\n",
        "  * Complete this in **teams of 3**\n",
        "  * Feel free to use the forum to discuss.\n",
        "  \n",
        "## Timeline\n",
        "  * 26-Nov-2021: hand-out\n",
        "  * **09-Dec-2021**: Email completed notebook\n",
        "  \n",
        "  \n",
        "## About this Project\n",
        "In this project, you will explore an application of ML to a popular task in cybersecurity: malware classification.\n",
        "You will be presented with precomputed behaviour analysis reports of thousands of program binaries, many of which are malwares.\n",
        "Your goal is to train a malware detector using this behavioural reports.\n",
        "\n",
        "\n",
        "## A Note on Grading\n",
        "The grading for this project will depend on:\n",
        " 1. Vectorizing Inputs\n",
        "   * Obtaining a reasonable vectorized representations of the input data (a file containing a sequence of system calls)\n",
        "   * Understanding the influence these representations have on your model\n",
        " 1. Classification Model  \n",
        "   * Following a clear ML pipeline\n",
        "   * Obtaining reasonable performances (>60\\%) on held-out test set\n",
        "   * Choice of evaluation metric\n",
        "   * Visualizing loss/accuracy curves\n",
        " 1. Analysis\n",
        "   * Which methods (input representations/ML models) work better than the rest and why?\n",
        "   * Which hyper-parameters and design-choices were important in each of your methods?\n",
        "   * Quantifying influence of these hyper-parameters on loss and/or validation accuracies\n",
        "   * Trade-offs between methods, hyper-parameters, design-choices\n",
        "   * Anything else you find interesting (this part is open-ended)\n",
        "\n",
        "\n",
        "## Grading Details\n",
        " * 40 points: Vectorizing input data (each input = behaviour analysis file in our case)\n",
        " * 40 points: Training a classification model\n",
        " * 15 points: Analysis/Discussion\n",
        " * 5 points: Clean code\n",
        " \n",
        "## Filling-in the Notebook\n",
        "You'll be submitting this very notebook that is filled-in with your code and analysis. Make sure you submit one that has been previously executed in-order. (So that results/graphs are already visible upon opening it). \n",
        "\n",
        "The notebook you submit **should compile** (or should be self-contained and sufficiently commented). Check tutorial 1 on how to set up the Python3 environment.\n",
        "\n",
        "\n",
        "**The notebook is your project report. So, to make the report readable, omit code for techniques/models/things that did not work. You can use the final summary to provide a report about these.**\n",
        "\n",
        "It is extremely important that you **do not** re-order the existing sections. Apart from that, the code blocks that you need to fill-in are given by:\n",
        "```\n",
        "#\n",
        "#\n",
        "# ------- Your Code -------\n",
        "#\n",
        "#\n",
        "```\n",
        "Feel free to break this into multiple-cells. It's even better if you interleave explanations and code-blocks so that the entire notebook forms a readable \"story\".\n",
        "\n",
        "\n",
        "## Code of Honor\n",
        "We encourage discussing ideas and concepts with other students to help you learn and better understand the course content. However, the work you submit and present **must be original** and demonstrate your effort in solving the presented problems. **We will not tolerate** blatantly using existing solutions (such as from the internet), improper collaboration (e.g., sharing code or experimental data between groups) and plagiarism. If the honor code is not met, no points will be awarded.\n",
        "\n",
        " \n",
        " ## Versions\n",
        "  * v1.1: Updated deadline\n",
        "  * v1.0: Initial notebook\n",
        "  \n",
        "  ---"
      ]
    },
    {
      "cell_type": "code",
      "metadata": {
        "collapsed": true,
        "id": "uyCiLbXbsMiq"
      },
      "source": [
        "import time \n",
        " \n",
        "import numpy as np \n",
        "import matplotlib.pyplot as plt \n",
        "\n",
        "import json \n",
        "import time \n",
        "import pickle \n",
        "import sys \n",
        "import csv \n",
        "import os \n",
        "import os.path as osp \n",
        "import shutil \n",
        "import pathlib\n",
        "from pathlib import Path\n",
        "\n",
        "from IPython.display import display, HTML\n",
        " \n",
        "%matplotlib inline \n",
        "plt.rcParams['figure.figsize'] = (10.0, 8.0) # set default size of plots \n",
        "plt.rcParams['image.interpolation'] = 'nearest' \n",
        "plt.rcParams['image.cmap'] = 'gray' \n",
        " \n",
        "# for auto-reloading external modules \n",
        "# see http://stackoverflow.com/questions/1907993/autoreload-of-modules-in-ipython \n",
        "%load_ext autoreload\n",
        "%autoreload 2"
      ],
      "execution_count": null,
      "outputs": []
    },
    {
      "cell_type": "code",
      "metadata": {
        "collapsed": true,
        "id": "7dHogdxRsMis"
      },
      "source": [
        "# Some suggestions of our libraries that might be helpful for this project\n",
        "from collections import Counter          # an even easier way to count\n",
        "from multiprocessing import Pool         # for multiprocessing\n",
        "from tqdm import tqdm                    # fancy progress bars\n",
        "\n",
        "# Load other libraries here.\n",
        "# Keep it minimal! We should be easily able to reproduce your code.\n",
        "\n",
        "# We preload pytorch as an example\n",
        "import torch\n",
        "import torch.nn as nn\n",
        "import torch.nn.functional as F\n",
        "import torch.optim as optim\n",
        "from torch.utils.data import DataLoader, Dataset, TensorDataset"
      ],
      "execution_count": null,
      "outputs": []
    },
    {
      "cell_type": "markdown",
      "metadata": {
        "id": "oJWkh3GUsMit"
      },
      "source": [
        "# Setup\n",
        "\n",
        "  * Download the datasets: [train](https://nextcloud.mpi-klsb.mpg.de/index.php/s/pJrRGzm2So2PMZm) (128M) and [test](https://nextcloud.mpi-klsb.mpg.de/index.php/s/zN3yeWzQB3i5WqE) (92M)\n",
        "  * Unpack them under `./data/train` and `./data/test`\n",
        "  * Hint: you can execute shell scripts from notebooks using the `!` prefix, e.g., `! wget <url>`"
      ]
    },
    {
      "cell_type": "code",
      "metadata": {
        "id": "wlhs4w44sMit"
      },
      "source": [
        "# Check that you are prepared with the data\n",
        "! printf '# train examples (Should be 13682) : '; ls data/train | wc -l\n",
        "! printf '# test  examples (Should be 10000) : '; ls data/test | wc -l"
      ],
      "execution_count": null,
      "outputs": []
    },
    {
      "cell_type": "markdown",
      "metadata": {
        "id": "Zh1-JHNIsMiv"
      },
      "source": [
        "Now that you're set, let's briefly look at the data you have been handed.\n",
        "Each file encodes the behavior report of a program (potentially a malware), using an encoding scheme called \"The Malware Instruction Set\" (MIST for short).\n",
        "At this point, we highly recommend you briefly read-up Sec. 2 of the [MIST](http://www.mlsec.org/malheur/docs/mist-tr.pdf) documentation.\n",
        "\n",
        "You will find each file named as `filename.<malwarename>`:\n",
        "```\n",
        "» ls data/train | head\n",
        "00005ecc06ae3e489042e979717bb1455f17ac9d.NothingFound\n",
        "0008e3d188483aeae0de62d8d3a1479bd63ed8c9.Basun\n",
        "000d2eea77ee037b7ef99586eb2f1433991baca9.Patched\n",
        "000d996fa8f3c83c1c5568687bb3883a543ec874.Basun\n",
        "0010f78d3ffee61101068a0722e09a98959a5f2c.Basun\n",
        "0013cd0a8febd88bfc4333e20486bd1a9816fcbf.Basun\n",
        "0014aca72eb88a7f20fce5a4e000c1f7fff4958a.Texel\n",
        "001ffc75f24a0ae63a7033a01b8152ba371f6154.Texel\n",
        "0022d6ba67d556b931e3ab26abcd7490393703c4.Basun\n",
        "0028c307a125cf0fdc97d7a1ffce118c6e560a70.Swizzor\n",
        "...\n",
        "```\n",
        "and within each file, you will see a sequence of individual systems calls monitored duing the run-time of the binary - a malware named 'Basun' in the case:\n",
        "```\n",
        "» head data/train/000d996fa8f3c83c1c5568687bb3883a543ec874.Basun\n",
        "# process 000006c8 0000066a 022c82f4 00000000 thread 0001 #\n",
        "02 01 | 000006c8 0000066a 00015000\n",
        "02 02 | 00006b2c 047c8042 000b9000\n",
        "02 02 | 00006b2c 047c8042 00108000\n",
        "02 02 | 00006b2c 047c8042 00153000\n",
        "02 02 | 00006b2c 047c8042 00091000\n",
        "02 02 | 00006b2c 047c8042 00049000\n",
        "02 02 | 00006b2c 047c8042 000aa000\n",
        "02 02 | 00006b2c 047c8042 00092000\n",
        "02 02 | 00006b2c 047c8042 00011000\n",
        "...\n",
        "```\n",
        "(**Note**: Please ignore the first line that begins with `# process ...`.)\n",
        "\n",
        "Your task in this project is to train a malware detector, which given the sequence of system calls (in the MIST-formatted file like above), predicts one of 10 classes: `{ Agent, Allaple, AutoIt, Basun, NothingFound, Patched, Swizzor, Texel, VB, Virut }`, where `NothingFound` roughly represents no malware is present.\n",
        "In terms of machine learning terminology, your malware detector $F: X \\rightarrow Y$ should learn a mapping from the MIST-encoded behaviour report (the input $x \\in X$) to the malware class $y \\in Y$.\n",
        "\n",
        "Consequently, you will primarily tackle two challenges in this project:\n",
        "  1. \"Vectorizing\" the input data i.e., representing each input (file) as a tensor\n",
        "  1. Training an ML model\n",
        "  \n",
        "\n",
        "### Some tips:\n",
        "  * Begin with an extremely simple representation/ML model and get above chance-level classification performance\n",
        "  * Choose your evaluation metric wisely\n",
        "  * Save intermediate computations (e.g., a token to index mapping). This will avoid you parsing the entire dataset for every experiment\n",
        "  * Try using `multiprocessing.Pool` to parallelize your `for` loops"
      ]
    },
    {
      "cell_type": "markdown",
      "metadata": {
        "id": "p8xloR8dsMiv"
      },
      "source": [
        "---"
      ]
    },
    {
      "cell_type": "markdown",
      "metadata": {
        "id": "vXnyDAdbsMiw"
      },
      "source": [
        "# 1. Vectorize Data"
      ]
    },
    {
      "cell_type": "markdown",
      "metadata": {
        "id": "Ia-xFIQtsMiw"
      },
      "source": [
        "## 1.a. Load Raw Data"
      ]
    },
    {
      "cell_type": "code",
      "metadata": {
        "collapsed": true,
        "id": "ZScY-C2IsMiw"
      },
      "source": [
        "def load_content(filepath):\n",
        "    '''Given a filepath, returns (content, classname), where content = [list of lines in file]'''\n",
        "    #\n",
        "    #\n",
        "    # ------- Your Code -------\n",
        "    #\n",
        "    #\n",
        "    return lines, label\n",
        "\n",
        "\n",
        "def load_data(data_path, nworkers=10):\n",
        "    '''Returns each data sample as a tuple (x, y), x = sequence of strings (i.e., syscalls), y = malware program class'''\n",
        "    raw_data_samples = []\n",
        "    #\n",
        "    #\n",
        "    # ------- Your Code -------\n",
        "    #\n",
        "    #\n",
        "    return raw_data_samples"
      ],
      "execution_count": null,
      "outputs": []
    },
    {
      "cell_type": "code",
      "metadata": {
        "scrolled": true,
        "id": "7BSUdq_-sMiw"
      },
      "source": [
        "print('=> Loading training data ... ')\n",
        "train_raw_samples = load_data(Path('./data/train'))"
      ],
      "execution_count": null,
      "outputs": []
    },
    {
      "cell_type": "code",
      "metadata": {
        "collapsed": true,
        "id": "GG6tcSNJsMiw"
      },
      "source": [
        "project_mode = 'trainval'    # trainval, traintest, debug\n",
        "np.random.seed(123)          # To perform the same split across multiple runs\n",
        "\n",
        "if project_mode == 'trainval':\n",
        "    # Split data into train and validation set\n",
        "    pass\n",
        "elif project_mode == 'traintest':\n",
        "    # Load train and test data\n",
        "    pass\n",
        "elif project_mode == 'debug':\n",
        "    # Optional, use a small subset of the training and validation data for fast debugging\n",
        "    pass\n",
        "else:\n",
        "    raise ValueError('Unrecognized mode')\n",
        "    \n",
        "print('=> # Train samples = ', len(train_raw_samples))\n",
        "print('=> # Test  samples = ', len(test_raw_samples))"
      ],
      "execution_count": null,
      "outputs": []
    },
    {
      "cell_type": "markdown",
      "metadata": {
        "id": "GjiNiOVHsMiy"
      },
      "source": [
        "## 1.b. Vectorize: Setup\n",
        "\n",
        "Make one pass over the inputs to identify relevant features/tokens.\n",
        "\n",
        "Suggestion:\n",
        "  - identify tokens (e.g., unigrams, bigrams)\n",
        "  - create a token -> index (int) mapping. Note that you might have a >10K unique tokens. So, you will have to choose a suitable \"vocabulary\" size."
      ]
    },
    {
      "cell_type": "code",
      "metadata": {
        "collapsed": true,
        "id": "DAtmzL6PsMiy"
      },
      "source": [
        "# Feel free to edit anything in this block\n",
        "\n",
        "def get_key_idx_map(counter, vocab_size, ukn_token='_ukn_'):\n",
        "    # counter is a mapping: token -> count\n",
        "    # build vectorizer using vocab_size most common elements\n",
        "    key_to_idx, idx_to_key = dict(), dict()\n",
        "    return key_to_idx, idx_to_key\n",
        "\n",
        "def helper1():\n",
        "    pass\n",
        "\n",
        "def helper2():\n",
        "    pass"
      ],
      "execution_count": null,
      "outputs": []
    },
    {
      "cell_type": "code",
      "metadata": {
        "collapsed": true,
        "id": "LSMEAcgvsMiy"
      },
      "source": [
        "# Feel free to edit anything in this block\n",
        "\n",
        "MAX_VOCAB_SIZE = ...\n",
        "\n",
        "token_to_idx, idx_to_token = get_key_idx_map(token_counter, MAX_VOCAB_SIZE)\n",
        "\n",
        "# Save vocab to file\n",
        "out_path = 'application_vocab_{}.pkl'.format(MAX_VOCAB_SIZE)\n",
        "with open(out_path, 'wb') as wf:\n",
        "    dct = {'token_to_idx': token_to_idx,\n",
        "          'idx_to_token': idx_to_token}\n",
        "    pickle.dump(dct, wf)"
      ],
      "execution_count": null,
      "outputs": []
    },
    {
      "cell_type": "markdown",
      "metadata": {
        "id": "QUefzVjFsMiy"
      },
      "source": [
        "## 1.c. Vectorize Data\n",
        "\n",
        "Use the (token $\\rightarrow$ index) mapping you created before to vectorize your data"
      ]
    },
    {
      "cell_type": "code",
      "metadata": {
        "collapsed": true,
        "id": "ffJJ0XOvsMiz"
      },
      "source": [
        "#\n",
        "#\n",
        "# ------- Your Code -------\n",
        "#\n",
        "#"
      ],
      "execution_count": null,
      "outputs": []
    },
    {
      "cell_type": "code",
      "metadata": {
        "collapsed": true,
        "id": "CD5IqJmXsMiz"
      },
      "source": [
        "def vectorize_raw_samples(raw_samples, nworkers=10):\n",
        "    vectorized_samples = []\n",
        "    #\n",
        "    #\n",
        "    # ------- Your Code -------\n",
        "    #\n",
        "    #\n",
        "    return vectorized_samples"
      ],
      "execution_count": null,
      "outputs": []
    },
    {
      "cell_type": "code",
      "metadata": {
        "collapsed": true,
        "scrolled": true,
        "id": "BtS10ASbsMi0"
      },
      "source": [
        "print('=> Processing: Train')\n",
        "train_data = vectorize_raw_samples(train_raw_samples)\n",
        "print()\n",
        "print('=> Processing: Test')\n",
        "test_data = vectorize_raw_samples(test_raw_samples)"
      ],
      "execution_count": null,
      "outputs": []
    },
    {
      "cell_type": "code",
      "metadata": {
        "collapsed": true,
        "id": "0XOHr24usMi0"
      },
      "source": [
        "#\n",
        "#\n",
        "# ------- Your Code -------\n",
        "#\n",
        "#\n",
        "# Suggestions: \n",
        "#\n",
        "# (a) You can use torch.utils.data.TensorDataset to represent the tensors you created previously\n",
        "# trainset = TensorDataset(train_x, train_y)\n",
        "# testset = TensorDataset(test_x, test_y)\n",
        "#\n",
        "# (b) Store your datasets to disk so that you do not need to precompute it every time"
      ],
      "execution_count": null,
      "outputs": []
    },
    {
      "cell_type": "markdown",
      "metadata": {
        "id": "_l0tLsEVsMi0"
      },
      "source": [
        "# 2. Train Model\n",
        "\n",
        "You will now train an ML model on the vectorized datasets you created previously.\n",
        "\n",
        "_Note_: Although we often refer to each input as a 'vector' for simplicity, each of your inputs can also be higher dimensional tensors."
      ]
    },
    {
      "cell_type": "markdown",
      "metadata": {
        "id": "UInY1YzksMi0"
      },
      "source": [
        "## 2.a. Helpers"
      ]
    },
    {
      "cell_type": "code",
      "metadata": {
        "collapsed": true,
        "id": "VnSv0J75sMi0"
      },
      "source": [
        "# Feel free to edit anything in this block\n",
        "\n",
        "def evaluate_preds(y_gt, y_pred):\n",
        "    pass\n",
        "\n",
        "\n",
        "def another_helper(question):\n",
        "    return 42\n",
        "\n",
        "\n",
        "def save_model(model, out_path):\n",
        "    pass\n",
        "\n",
        "\n",
        "def save_data(eval_data, out_path):\n",
        "    with open(out_path, 'wb') as wf:\n",
        "        pickle.dump(eval_data, out_path)"
      ],
      "execution_count": null,
      "outputs": []
    },
    {
      "cell_type": "markdown",
      "metadata": {
        "id": "PhbVzVLDsMi1"
      },
      "source": [
        "## 2.b. Define Model"
      ]
    },
    {
      "cell_type": "markdown",
      "metadata": {
        "id": "jrUKCNRgsMi1"
      },
      "source": [
        "Describe your model here."
      ]
    },
    {
      "cell_type": "code",
      "metadata": {
        "collapsed": true,
        "id": "ILB2fBRWsMi1"
      },
      "source": [
        "# Feel free to edit anything in this block\n",
        "\n",
        "class NetTemplate(nn.Module):\n",
        "    def __init__(self, input_dim, output_dim):\n",
        "        super(NetTemplate, self).__init__()\n",
        "        # Layer definitions\n",
        "\n",
        "    def forward(self, x):\n",
        "        # Forward pass\n",
        "        return x"
      ],
      "execution_count": null,
      "outputs": []
    },
    {
      "cell_type": "markdown",
      "metadata": {
        "id": "QO1yPx7YsMi1"
      },
      "source": [
        "## 2.c. Set Hyperparameters"
      ]
    },
    {
      "cell_type": "code",
      "metadata": {
        "collapsed": true,
        "id": "0k0jLX5ksMi1"
      },
      "source": [
        "# Define your hyperparameters here\n",
        "\n",
        "in_dims = trainset[0][0].shape[0]\n",
        "out_dims = len(class_to_idx)\n",
        "...\n",
        "\n",
        "# Optimization\n",
        "n_epochs = ...\n",
        "batch_size = ...\n",
        "lr = ...\n",
        "..."
      ],
      "execution_count": null,
      "outputs": []
    },
    {
      "cell_type": "markdown",
      "metadata": {
        "id": "NtpgVAO1sMi2"
      },
      "source": [
        "## 2.d. Train your Model"
      ]
    },
    {
      "cell_type": "code",
      "metadata": {
        "collapsed": true,
        "id": "Co0W2ifGsMi2"
      },
      "source": [
        "# Feel free to edit anything in this block\n",
        "\n",
        "# model = SomeModel(...)\n",
        "# model.train()\n",
        "\n",
        "# Optimizer\n",
        "# optimizer = None\n",
        "\n",
        "# Data Loaders\n",
        "# trainloader = DataLoader(trainset, batch_size=batch_size, shuffle=True)\n",
        "# testloader = DataLoader(testset, batch_size=batch_size, shuffle=False)\n",
        "\n",
        "# Etc."
      ],
      "execution_count": null,
      "outputs": []
    },
    {
      "cell_type": "code",
      "metadata": {
        "collapsed": true,
        "id": "3afVBWVKsMi2"
      },
      "source": [
        "#\n",
        "#\n",
        "# ------- Your Code -------\n",
        "#\n",
        "# Example:\n",
        "# for epoch in range(n_epochs):\n",
        "#     ... train ...\n",
        "#     ... validate ..."
      ],
      "execution_count": null,
      "outputs": []
    },
    {
      "cell_type": "markdown",
      "metadata": {
        "id": "Z5w-7O5jsMi2"
      },
      "source": [
        "## 2.e. Evaluate model"
      ]
    },
    {
      "cell_type": "code",
      "metadata": {
        "collapsed": true,
        "id": "CMbzX1h4sMi2"
      },
      "source": [
        "#\n",
        "#\n",
        "# ------- Your Code -------\n",
        "#\n",
        "# "
      ],
      "execution_count": null,
      "outputs": []
    },
    {
      "cell_type": "markdown",
      "metadata": {
        "id": "U_GE1BQjsMi3"
      },
      "source": [
        "## 2.f. Save Model + Data"
      ]
    },
    {
      "cell_type": "code",
      "metadata": {
        "collapsed": true,
        "id": "4Xvo--GIsMi3"
      },
      "source": [
        "#\n",
        "#\n",
        "# ------- Your Code -------\n",
        "#\n",
        "# "
      ],
      "execution_count": null,
      "outputs": []
    },
    {
      "cell_type": "markdown",
      "metadata": {
        "id": "W-UQbfCrsMi3"
      },
      "source": [
        "---"
      ]
    },
    {
      "cell_type": "markdown",
      "metadata": {
        "id": "uLD6dur1sMi3"
      },
      "source": [
        "# 3. Analysis"
      ]
    },
    {
      "cell_type": "markdown",
      "metadata": {
        "id": "1QRKxLsPsMi3"
      },
      "source": [
        "## 3.a. Summary: Main Results\n",
        "\n",
        "Summarize your approach and results here"
      ]
    },
    {
      "cell_type": "markdown",
      "metadata": {
        "collapsed": true,
        "id": "dNKqJAoasMi4"
      },
      "source": [
        "## 3.b. Discussion\n",
        "\n",
        "Enter your final summary here.\n",
        "\n",
        "For instance, you can address:\n",
        "- What was the performance you obtained with the simplest approach?\n",
        "- Which vectorized input representations helped more than the others?\n",
        "- Which malwares are difficult to detect and why?\n",
        "- Which approach do you recommend to perform malware classification?"
      ]
    },
    {
      "cell_type": "code",
      "metadata": {
        "collapsed": true,
        "id": "xYGR9ID1sMi4"
      },
      "source": [
        ""
      ],
      "execution_count": null,
      "outputs": []
    }
  ]
}