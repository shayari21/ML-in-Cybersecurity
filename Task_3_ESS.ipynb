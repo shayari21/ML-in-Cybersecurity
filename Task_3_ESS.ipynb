{
  "nbformat": 4,
  "nbformat_minor": 0,
  "metadata": {
    "kernelspec": {
      "name": "python3",
      "display_name": "Python 3"
    },
    "colab": {
      "name": "Task_3.ipynb",
      "provenance": [],
      "collapsed_sections": []
    },
    "language_info": {
      "name": "python"
    },
    "accelerator": "GPU"
  },
  "cells": [
    {
      "cell_type": "markdown",
      "metadata": {
        "id": "qKo3S_fOsMim"
      },
      "source": [
        "# ML in Cybersecurity: Task 3\n",
        "\n",
        "## Team\n",
        "  * **Team name**: ESS\n",
        "  * **Members**: Eiram Mahera Sheikh (eish00001@stud.uni-saarland.de), Shravan Swaminathan(shsw00001@stud.uni-saarland.de), Shayari Bhattacharjee(shbh00002@stud.uni-saarland.de)\n",
        "\n",
        "\n",
        "## Logistics\n",
        "  * **Due date**: 9th December 2021, 23:59:59\n",
        "  * Email the completed notebook to: `mlcysec_ws2022_staff@lists.cispa.saarland`\n",
        "  * Complete this in **teams of 3**\n",
        "  * Feel free to use the forum to discuss.\n",
        "  \n",
        "## Timeline\n",
        "  * 26-Nov-2021: hand-out\n",
        "  * **09-Dec-2021**: Email completed notebook\n",
        "  \n",
        "  \n",
        "## About this Project\n",
        "In this project, you will explore an application of ML to a popular task in cybersecurity: malware classification.\n",
        "You will be presented with precomputed behaviour analysis reports of thousands of program binaries, many of which are malwares.\n",
        "Your goal is to train a malware detector using this behavioural reports.\n",
        "\n",
        "\n",
        "## A Note on Grading\n",
        "The grading for this project will depend on:\n",
        " 1. Vectorizing Inputs\n",
        "   * Obtaining a reasonable vectorized representations of the input data (a file containing a sequence of system calls)\n",
        "   * Understanding the influence these representations have on your model\n",
        " 1. Classification Model  \n",
        "   * Following a clear ML pipeline\n",
        "   * Obtaining reasonable performances (>60\\%) on held-out test set\n",
        "   * Choice of evaluation metric\n",
        "   * Visualizing loss/accuracy curves\n",
        " 1. Analysis\n",
        "   * Which methods (input representations/ML models) work better than the rest and why?\n",
        "   * Which hyper-parameters and design-choices were important in each of your methods?\n",
        "   * Quantifying influence of these hyper-parameters on loss and/or validation accuracies\n",
        "   * Trade-offs between methods, hyper-parameters, design-choices\n",
        "   * Anything else you find interesting (this part is open-ended)\n",
        "\n",
        "\n",
        "## Grading Details\n",
        " * 40 points: Vectorizing input data (each input = behaviour analysis file in our case)\n",
        " * 40 points: Training a classification model\n",
        " * 15 points: Analysis/Discussion\n",
        " * 5 points: Clean code\n",
        " \n",
        "## Filling-in the Notebook\n",
        "You'll be submitting this very notebook that is filled-in with your code and analysis. Make sure you submit one that has been previously executed in-order. (So that results/graphs are already visible upon opening it). \n",
        "\n",
        "The notebook you submit **should compile** (or should be self-contained and sufficiently commented). Check tutorial 1 on how to set up the Python3 environment.\n",
        "\n",
        "\n",
        "**The notebook is your project report. So, to make the report readable, omit code for techniques/models/things that did not work. You can use the final summary to provide a report about these.**\n",
        "\n",
        "It is extremely important that you **do not** re-order the existing sections. Apart from that, the code blocks that you need to fill-in are given by:\n",
        "```\n",
        "#\n",
        "#\n",
        "# ------- Your Code -------\n",
        "#\n",
        "#\n",
        "```\n",
        "Feel free to break this into multiple-cells. It's even better if you interleave explanations and code-blocks so that the entire notebook forms a readable \"story\".\n",
        "\n",
        "\n",
        "## Code of Honor\n",
        "We encourage discussing ideas and concepts with other students to help you learn and better understand the course content. However, the work you submit and present **must be original** and demonstrate your effort in solving the presented problems. **We will not tolerate** blatantly using existing solutions (such as from the internet), improper collaboration (e.g., sharing code or experimental data between groups) and plagiarism. If the honor code is not met, no points will be awarded.\n",
        "\n",
        " \n",
        " ## Versions\n",
        "  * v1.1: Updated deadline\n",
        "  * v1.0: Initial notebook\n",
        "  \n",
        "  ---"
      ]
    },
    {
      "cell_type": "code",
      "source": [
        "# !pip install numpy\n",
        "# !pip install matplotlib\n",
        "# !pip install json\n",
        "# !pip install tqdm\n",
        "# !pip install torch\n",
        "# !pip install pandas\n",
        "# !pip install keras\n",
        "# !pip install nltk\n",
        "# !pip install tensorflow\n"
      ],
      "metadata": {
        "id": "2924tdH9QYWs"
      },
      "execution_count": null,
      "outputs": []
    },
    {
      "cell_type": "code",
      "metadata": {
        "collapsed": true,
        "id": "uyCiLbXbsMiq"
      },
      "source": [
        "import time \n",
        "import gc\n",
        " \n",
        "import numpy as np \n",
        "import matplotlib.pyplot as plt \n",
        "\n",
        "import json \n",
        "import time \n",
        "import pickle \n",
        "import sys \n",
        "import csv \n",
        "import os \n",
        "import os.path as osp \n",
        "import shutil \n",
        "import pathlib\n",
        "from pathlib import Path\n",
        "\n",
        "from IPython.display import display, HTML\n",
        " \n",
        "%matplotlib inline \n",
        "plt.rcParams['figure.figsize'] = (10.0, 8.0) # set default size of plots \n",
        "plt.rcParams['image.interpolation'] = 'nearest' \n",
        "plt.rcParams['image.cmap'] = 'gray' \n",
        " \n",
        "# for auto-reloading external modules \n",
        "# see http://stackoverflow.com/questions/1907993/autoreload-of-modules-in-ipython \n",
        "%load_ext autoreload\n",
        "%autoreload 2"
      ],
      "execution_count": null,
      "outputs": []
    },
    {
      "cell_type": "code",
      "metadata": {
        "collapsed": true,
        "id": "7dHogdxRsMis"
      },
      "source": [
        "# Some suggestions of our libraries that might be helpful for this project\n",
        "from collections import Counter          # an even easier way to count\n",
        "from multiprocessing import Pool         # for multiprocessing\n",
        "from tqdm import tqdm                    # fancy progress bars\n",
        "\n",
        "# Load other libraries here.\n",
        "# Keep it minimal! We should be easily able to reproduce your code.\n",
        "\n",
        "# We preload pytorch as an example\n",
        "import torch\n",
        "import torch.nn as nn\n",
        "import pandas\n",
        "import torch.nn.functional as F\n",
        "import torch.optim as optim\n",
        "from torch.utils.data import DataLoader, Dataset, TensorDataset\n",
        "\n",
        "from keras.preprocessing.text import text_to_word_sequence\n",
        "from nltk import ngrams"
      ],
      "execution_count": null,
      "outputs": []
    },
    {
      "cell_type": "markdown",
      "metadata": {
        "id": "oJWkh3GUsMit"
      },
      "source": [
        "# Setup\n",
        "\n",
        "  * Download the datasets: [train](https://nextcloud.mpi-klsb.mpg.de/index.php/s/pJrRGzm2So2PMZm) (128M) and [test](https://nextcloud.mpi-klsb.mpg.de/index.php/s/zN3yeWzQB3i5WqE) (92M)\n",
        "  * Unpack them under `./data/train` and `./data/test`\n",
        "  * Hint: you can execute shell scripts from notebooks using the `!` prefix, e.g., `! wget <url>`"
      ]
    },
    {
      "cell_type": "code",
      "source": [
        "# !pip install google.colab"
      ],
      "metadata": {
        "id": "qBNy6nZPT73e"
      },
      "execution_count": null,
      "outputs": []
    },
    {
      "cell_type": "code",
      "metadata": {
        "id": "KlmVxND76Hgo",
        "colab": {
          "base_uri": "https://localhost:8080/"
        },
        "outputId": "e4c774b9-e8e5-43b6-e797-c96ce4ad921e"
      },
      "source": [
        "# We have stored the data on google drive for persistence.\n",
        "# Mount the drive\n",
        "\n",
        "from google.colab import drive\n",
        "drive.mount('/content/drive', force_remount=True)"
      ],
      "execution_count": null,
      "outputs": [
        {
          "output_type": "stream",
          "name": "stdout",
          "text": [
            "Mounted at /content/drive\n"
          ]
        }
      ]
    },
    {
      "cell_type": "code",
      "metadata": {
        "id": "ezhb2E_RTq1O"
      },
      "source": [
        "train_path = \"drive/MyDrive/data/data/train\"\n",
        "test_path = \"drive/MyDrive/data/data/test\""
      ],
      "execution_count": null,
      "outputs": []
    },
    {
      "cell_type": "code",
      "metadata": {
        "id": "wlhs4w44sMit",
        "colab": {
          "base_uri": "https://localhost:8080/"
        },
        "outputId": "b14676d6-0e6b-42fa-ee98-687839f715b8"
      },
      "source": [
        "# Check that you are prepared with the data\n",
        "! printf '# train examples (Should be 13682) : '; ls {train_path} | wc -l\n",
        "! printf '# test  examples (Should be 10000) : '; ls {test_path} | wc -l"
      ],
      "execution_count": null,
      "outputs": [
        {
          "output_type": "stream",
          "name": "stdout",
          "text": [
            "# train examples (Should be 13682) : 13692\n",
            "# test  examples (Should be 10000) : 10020\n"
          ]
        }
      ]
    },
    {
      "cell_type": "markdown",
      "metadata": {
        "id": "Zh1-JHNIsMiv"
      },
      "source": [
        "Now that you're set, let's briefly look at the data you have been handed.\n",
        "Each file encodes the behavior report of a program (potentially a malware), using an encoding scheme called \"The Malware Instruction Set\" (MIST for short).\n",
        "At this point, we highly recommend you briefly read-up Sec. 2 of the [MIST](http://www.mlsec.org/malheur/docs/mist-tr.pdf) documentation.\n",
        "\n",
        "You will find each file named as `filename.<malwarename>`:\n",
        "```\n",
        "» ls data/train | head\n",
        "00005ecc06ae3e489042e979717bb1455f17ac9d.NothingFound\n",
        "0008e3d188483aeae0de62d8d3a1479bd63ed8c9.Basun\n",
        "000d2eea77ee037b7ef99586eb2f1433991baca9.Patched\n",
        "000d996fa8f3c83c1c5568687bb3883a543ec874.Basun\n",
        "0010f78d3ffee61101068a0722e09a98959a5f2c.Basun\n",
        "0013cd0a8febd88bfc4333e20486bd1a9816fcbf.Basun\n",
        "0014aca72eb88a7f20fce5a4e000c1f7fff4958a.Texel\n",
        "001ffc75f24a0ae63a7033a01b8152ba371f6154.Texel\n",
        "0022d6ba67d556b931e3ab26abcd7490393703c4.Basun\n",
        "0028c307a125cf0fdc97d7a1ffce118c6e560a70.Swizzor\n",
        "...\n",
        "```\n",
        "and within each file, you will see a sequence of individual systems calls monitored duing the run-time of the binary - a malware named 'Basun' in the case:\n",
        "```\n",
        "» head data/train/000d996fa8f3c83c1c5568687bb3883a543ec874.Basun\n",
        "# process 000006c8 0000066a 022c82f4 00000000 thread 0001 #\n",
        "02 01 | 000006c8 0000066a 00015000\n",
        "02 02 | 00006b2c 047c8042 000b9000\n",
        "02 02 | 00006b2c 047c8042 00108000\n",
        "02 02 | 00006b2c 047c8042 00153000\n",
        "02 02 | 00006b2c 047c8042 00091000\n",
        "02 02 | 00006b2c 047c8042 00049000\n",
        "02 02 | 00006b2c 047c8042 000aa000\n",
        "02 02 | 00006b2c 047c8042 00092000\n",
        "02 02 | 00006b2c 047c8042 00011000\n",
        "...\n",
        "```\n",
        "(**Note**: Please ignore the first line that begins with `# process ...`.)\n",
        "\n",
        "Your task in this project is to train a malware detector, which given the sequence of system calls (in the MIST-formatted file like above), predicts one of 10 classes: `{ Agent, Allaple, AutoIt, Basun, NothingFound, Patched, Swizzor, Texel, VB, Virut }`, where `NothingFound` roughly represents no malware is present.\n",
        "In terms of machine learning terminology, your malware detector $F: X \\rightarrow Y$ should learn a mapping from the MIST-encoded behaviour report (the input $x \\in X$) to the malware class $y \\in Y$.\n",
        "\n",
        "Consequently, you will primarily tackle two challenges in this project:\n",
        "  1. \"Vectorizing\" the input data i.e., representing each input (file) as a tensor\n",
        "  1. Training an ML model\n",
        "  \n",
        "\n",
        "### Some tips:\n",
        "  * Begin with an extremely simple representation/ML model and get above chance-level classification performance\n",
        "  * Choose your evaluation metric wisely\n",
        "  * Save intermediate computations (e.g., a token to index mapping). This will avoid you parsing the entire dataset for every experiment\n",
        "  * Try using `multiprocessing.Pool` to parallelize your `for` loops"
      ]
    },
    {
      "cell_type": "markdown",
      "metadata": {
        "id": "p8xloR8dsMiv"
      },
      "source": [
        "---"
      ]
    },
    {
      "cell_type": "markdown",
      "metadata": {
        "id": "vXnyDAdbsMiw"
      },
      "source": [
        "# 1. Vectorize Data"
      ]
    },
    {
      "cell_type": "markdown",
      "metadata": {
        "id": "Ia-xFIQtsMiw"
      },
      "source": [
        "## 1.a. Load Raw Data"
      ]
    },
    {
      "cell_type": "code",
      "metadata": {
        "collapsed": true,
        "id": "ZScY-C2IsMiw"
      },
      "source": [
        "def load_content(filepath):\n",
        "    '''Given a filepath, returns (content, classname), where content = [list of lines in file]'''\n",
        "    label = filepath.split('.')[-1]\n",
        "    \n",
        "    # open the file within a context manager and read all the lines\n",
        "    with open(filepath, \"r\") as fh:\n",
        "      lines = fh.readlines()\n",
        "    \n",
        "    return lines, label\n",
        "\n",
        "\n",
        "def load_data(data_path, nworkers=10):\n",
        "    '''Returns each data sample as a tuple (x, y), x = sequence of strings (i.e., syscalls), y = malware program class'''\n",
        "    raw_data_samples = []\n",
        "    \n",
        "    # get a list of all files in the training data\n",
        "    files = os.listdir(data_path)\n",
        "\n",
        "    # load the content of each file\n",
        "    for file in tqdm(files):\n",
        "        lines, label = load_content(os.path.join(data_path, file))\n",
        "        raw_data_samples.append((lines, label))\n",
        "\n",
        "    return raw_data_samples"
      ],
      "execution_count": null,
      "outputs": []
    },
    {
      "cell_type": "code",
      "metadata": {
        "scrolled": true,
        "id": "7BSUdq_-sMiw",
        "colab": {
          "base_uri": "https://localhost:8080/"
        },
        "outputId": "8c5ce0df-8477-4369-bfb3-e3b9b079c6d7"
      },
      "source": [
        "print('=> Loading training data ... ')\n",
        "train_raw_samples = load_data(Path(train_path))"
      ],
      "execution_count": null,
      "outputs": [
        {
          "output_type": "stream",
          "name": "stdout",
          "text": [
            "=> Loading training data ... \n"
          ]
        },
        {
          "output_type": "stream",
          "name": "stderr",
          "text": [
            "  3%|▎         | 399/13692 [01:43<57:24,  3.86it/s]\n"
          ]
        }
      ]
    },
    {
      "cell_type": "code",
      "metadata": {
        "collapsed": true,
        "id": "GG6tcSNJsMiw",
        "colab": {
          "base_uri": "https://localhost:8080/"
        },
        "outputId": "5185baa7-c73a-4a7d-f410-01463c4a22d1"
      },
      "source": [
        "project_mode = 'trainval'    # trainval, traintest, debug\n",
        "np.random.seed(123)          # To perform the same split across multiple runs\n",
        "\n",
        "if project_mode == 'trainval':\n",
        "    # Split data into train and validation set\n",
        "    train_size = int(len(train_raw_samples) * 0.9)\n",
        "    np.random.shuffle(train_raw_samples)\n",
        "    train_raw_samples, test_raw_samples = train_raw_samples[:train_size], train_raw_samples[train_size:]\n",
        "\n",
        "elif project_mode == 'traintest':\n",
        "    # Load train and test data\n",
        "    test_raw_samples = load_data(Path(test_path))\n",
        "\n",
        "elif project_mode == 'debug':\n",
        "    np.random.shuffle(train_raw_samples)\n",
        "    train_raw_samples, test_raw_samples = train_raw_samples[:1000], train_raw_samples[1001:1250]\n",
        "\n",
        "else:\n",
        "    raise ValueError('Unrecognized mode')\n",
        "    \n",
        "print('=> # Train samples = ', len(train_raw_samples))\n",
        "print('=> # Test  samples = ', len(test_raw_samples))"
      ],
      "execution_count": null,
      "outputs": [
        {
          "output_type": "stream",
          "name": "stdout",
          "text": [
            "=> # Train samples =  360\n",
            "=> # Test  samples =  40\n"
          ]
        }
      ]
    },
    {
      "cell_type": "markdown",
      "metadata": {
        "id": "GjiNiOVHsMiy"
      },
      "source": [
        "## 1.b. Vectorize: Setup\n",
        "\n",
        "Make one pass over the inputs to identify relevant features/tokens.\n",
        "\n",
        "Suggestion:\n",
        "  - identify tokens (e.g., unigrams, bigrams)\n",
        "  - create a token -> index (int) mapping. Note that you might have a >10K unique tokens. So, you will have to choose a suitable \"vocabulary\" size."
      ]
    },
    {
      "cell_type": "code",
      "metadata": {
        "collapsed": true,
        "id": "DAtmzL6PsMiy"
      },
      "source": [
        "class_to_idx = {\n",
        "    'Agent':0, \n",
        "    'Allaple':1, \n",
        "    'AutoIt':2, \n",
        "    'Basun':3, \n",
        "    'NothingFound':4, \n",
        "    'Patched':5, \n",
        "    'Swizzor':6, \n",
        "    'Texel':7, \n",
        "    'VB':8, \n",
        "    'Virut':9\n",
        "    }\n",
        "\n",
        "   \n",
        "def get_key_idx_map(counter, vocab_size, ukn_token='_ukn_'):\n",
        "    key_to_idx, idx_to_key = dict(), dict()\n",
        "    word_count = list(counter.most_common(vocab_size))\n",
        "    counter = 0\n",
        "    \n",
        "    for word, count in word_count:\n",
        "        key_to_idx[word] = counter\n",
        "        idx_to_key[counter] = word\n",
        "        counter += 1\n",
        "\n",
        "    return key_to_idx, idx_to_key\n",
        "\n",
        "\n",
        "def helper1_tokenize(raw_data):\n",
        "    tokenized_data = []\n",
        "    for content, label in raw_data:\n",
        "        tokens = []\n",
        "        for line in content[1: -1]:\n",
        "            tokens.extend(text_to_word_sequence(line))\n",
        "        tokenized_data.append(tokens)\n",
        "\n",
        "    return tokenized_data\n",
        "\n",
        "\n",
        "def helper2_ngrams(tokens, n):\n",
        "    n_grams = []\n",
        "    for token_set in tokens:\n",
        "        n_grams.append(list(ngrams(token_set, n)))\n",
        "\n",
        "    return n_grams\n",
        "\n",
        "\n",
        "def helper3_get_class_to_idx_map(raw_data):\n",
        "    labels_y = list()\n",
        "    for counter, labels in raw_data:\n",
        "        labels_y.append(class_to_idx[labels])\n",
        "\n",
        "    return np.array(labels_y)\n"
      ],
      "execution_count": null,
      "outputs": []
    },
    {
      "cell_type": "code",
      "metadata": {
        "collapsed": true,
        "id": "LSMEAcgvsMiy"
      },
      "source": [
        "gc.collect()\n",
        "\n",
        "tokens = helper1_tokenize(train_raw_samples)\n",
        "\n",
        "#unigrams = helper2_ngrams(tokens, 1) #for choosing models of unigram-bigrams or trigrams\n",
        "bigrams = helper2_ngrams(tokens, 2)\n",
        "#trigrams = helper2_ngrams(tokens, 3)\n",
        "\n",
        "tokens = []\n",
        "\n",
        "MAX_VOCAB_SIZE = 300\n",
        "\n",
        "ngram_tokens = []\n",
        "for ngram_set in bigrams:\n",
        "    ngram_tokens.extend(ngram_set)\n",
        "\n",
        "token_to_idx, idx_to_token = get_key_idx_map(Counter(ngram_tokens), MAX_VOCAB_SIZE)\n",
        "ngram_tokens = []\n",
        "train_y = helper3_get_class_to_idx_map(train_raw_samples)\n",
        "test_y = helper3_get_class_to_idx_map(test_raw_samples)\n",
        "\n",
        "# Save vocab to file\n",
        "out_path = 'application_vocab_{}.pkl'.format(MAX_VOCAB_SIZE)\n",
        "with open(out_path, 'wb') as wf:\n",
        "    dct = {\n",
        "        'token_to_idx': token_to_idx,\n",
        "        'idx_to_token': idx_to_token\n",
        "        }\n",
        "    pickle.dump(dct, wf)\n",
        "\n"
      ],
      "execution_count": null,
      "outputs": []
    },
    {
      "cell_type": "markdown",
      "metadata": {
        "id": "QUefzVjFsMiy"
      },
      "source": [
        "## 1.c. Vectorize Data\n",
        "\n",
        "Use the (token $\\rightarrow$ index) mapping you created before to vectorize your data"
      ]
    },
    {
      "cell_type": "code",
      "metadata": {
        "collapsed": true,
        "id": "ffJJ0XOvsMiz"
      },
      "source": [
        "gc.collect()\n",
        "\n",
        "def BinaryVectorizer(tokens):\n",
        "    vectorized = []\n",
        "\n",
        "    for token in tokens:\n",
        "        vector = np.zeros(MAX_VOCAB_SIZE)\n",
        "        for word in token:\n",
        "            if word in token_to_idx:\n",
        "                vector[token_to_idx[word]] = 1\n",
        "        vectorized.append(np.array(vector, dtype='float32'))\n",
        "\n",
        "    return np.array(vectorized, dtype='float32')\n",
        "\n",
        "\n",
        "def CountVectorizer(ngrams):\n",
        "    vectorized = []\n",
        "\n",
        "    for ng in ngrams:\n",
        "        vector = np.zeros(MAX_VOCAB_SIZE)\n",
        "        token_counter = dict(Counter(ng))\n",
        "        unique_tokens = list(token_counter.keys())\n",
        "        for token in unique_tokens:\n",
        "            if token in token_to_idx:\n",
        "                vector[token_to_idx[token]] = token_counter[token]\n",
        "        vectorized.append(np.array(vector, dtype='float32'))\n",
        "\n",
        "    return np.array(vectorized, dtype='float32')"
      ],
      "execution_count": null,
      "outputs": []
    },
    {
      "cell_type": "code",
      "metadata": {
        "collapsed": true,
        "id": "CD5IqJmXsMiz"
      },
      "source": [
        "def vectorize_raw_samples(raw_samples, nworkers=10):\n",
        "    vectorized_samples = []\n",
        "    \n",
        "    tokens = helper1_tokenize(raw_samples)\n",
        "    ngram_data = helper2_ngrams(tokens, 2)\n",
        "    vectorized_samples = BinaryVectorizer(ngram_data)\n",
        "    #vectorized_samples = CountVectorizer(ngram_data) #for models utilising count vectorizer\n",
        "\n",
        "    return vectorized_samples"
      ],
      "execution_count": null,
      "outputs": []
    },
    {
      "cell_type": "code",
      "metadata": {
        "collapsed": true,
        "scrolled": true,
        "id": "BtS10ASbsMi0",
        "colab": {
          "base_uri": "https://localhost:8080/"
        },
        "outputId": "5d9cf6b6-0ab1-4307-e63e-e5e9cc79aea6"
      },
      "source": [
        "print('=> Processing: Train')\n",
        "train_data = vectorize_raw_samples(train_raw_samples)\n",
        "print()\n",
        "print('=> Processing: Test')\n",
        "test_data = vectorize_raw_samples(test_raw_samples)"
      ],
      "execution_count": null,
      "outputs": [
        {
          "output_type": "stream",
          "name": "stdout",
          "text": [
            "=> Processing: Train\n",
            "\n",
            "=> Processing: Test\n"
          ]
        }
      ]
    },
    {
      "cell_type": "code",
      "metadata": {
        "id": "LDtbwCthNM4V"
      },
      "source": [
        "train_x = torch.from_numpy(train_data).float()\n",
        "test_x = torch.from_numpy(test_data).float()\n",
        "\n",
        "train_y = torch.tensor(train_y, dtype=torch.long)\n",
        "test_y = torch.tensor(test_y, dtype=torch.long)\n",
        "\n",
        "trainset = TensorDataset(train_x, train_y)\n",
        "testset = TensorDataset(test_x, test_y)\n",
        "\n",
        "torch.save(trainset, 'trainset.pt')\n",
        "torch.save(testset, 'testset.pt')"
      ],
      "execution_count": null,
      "outputs": []
    },
    {
      "cell_type": "markdown",
      "metadata": {
        "id": "_l0tLsEVsMi0"
      },
      "source": [
        "# 2. Train Model\n",
        "\n",
        "You will now train an ML model on the vectorized datasets you created previously.\n",
        "\n",
        "_Note_: Although we often refer to each input as a 'vector' for simplicity, each of your inputs can also be higher dimensional tensors."
      ]
    },
    {
      "cell_type": "markdown",
      "metadata": {
        "id": "UInY1YzksMi0"
      },
      "source": [
        "## 2.a. Helpers"
      ]
    },
    {
      "cell_type": "code",
      "metadata": {
        "collapsed": true,
        "id": "VnSv0J75sMi0"
      },
      "source": [
        "def evaluate_preds(y_predicted,y_true):\n",
        "    precision = {0:0,1:0,2:0,3:0,4:0,5:0,6:0,7:0,8:0,9:0}\n",
        "    recall = {0:0,1:0,2:0,3:0,4:0,5:0,6:0,7:0,8:0,9:0}\n",
        "    positive = {0:0,1:0,2:0,3:0,4:0,5:0,6:0,7:0,8:0,9:0}\n",
        "    true_positive = {0:0,1:0,2:0,3:0,4:0,5:0,6:0,7:0,8:0,9:0}\n",
        "    f1 = {0:0,1:0,2:0,3:0,4:0,5:0,6:0,7:0,8:0,9:0} \n",
        "    classes = {0:0,1:0,2:0,3:0,4:0,5:0,6:0,7:0,8:0,9:0}\n",
        "    \n",
        "    true_samples = generate_true_labels(y_true)\n",
        "    for out_idx in range(len(y_predicted)):\n",
        "        for inner_idx in range(len(y_predicted[out_idx])):\n",
        "            if y_predicted[out_idx][inner_idx] == y_true[out_idx][inner_idx]:\n",
        "                true_positive[y_predicted[out_idx][inner_idx]] += 1\n",
        "            positive[y_predicted[out_idx][inner_idx]] += 1\n",
        "            classes[y_predicted[out_idx][inner_idx]] += 1\n",
        "    \n",
        "    for key, vals in classes.items():\n",
        "        if positive[key] <= 0.0:\n",
        "            precision[key] = 0.0\n",
        "        else:\n",
        "            precision[key] = (true_positive[key]/positive[key]) * 100\n",
        "        if true_samples[key] <= 0.0:\n",
        "            recall[key] = 0.0\n",
        "        else:\n",
        "            recall[key] = (true_positive[key]/true_samples[key]) * 100\n",
        "    \n",
        "    for key, vals in classes.items():\n",
        "        if recall[key] <= 0.0:\n",
        "            f1[key] = 0.0\n",
        "        else:\n",
        "            f1[key] = 2*((precision[key]*recall[key])/(precision[key]+recall[key]))\n",
        "    return precision, recall, f1\n",
        "    pass\n",
        "\n",
        "\n",
        "def generate_true_labels(y_true):\n",
        "    true_labels = {0:0,1:0,2:0,3:0,4:0,5:0,6:0,7:0,8:0,9:0}\n",
        "    for labels in y_true:\n",
        "        for val in labels:\n",
        "            true_labels[val] += 1\n",
        "    return true_labels\n",
        "\n",
        "def visualize_evaluation(classes, precision, recall, f1):\n",
        "    data = {'Labels/Malwares': list(classes.keys()), 'Precision': list(precision.values()), 'Recall': list(recall.values()), 'F1 Score': list(f1.values())}\n",
        "    dataframe = pandas.DataFrame(data=data)\n",
        "    print(dataframe)\n",
        "\n",
        "\n",
        "def save_model(model, path):\n",
        "    checkpoint = {'epoch': epoch,'state_dict': model.state_dict(),'optimizer' : optimizer.state_dict(),'loss': loss_function}\n",
        "    torch.save(checkpoint, path)\n",
        "    pass\n",
        "\n",
        "\n",
        "def save_data(eval_data, path):\n",
        "    with open(path, 'wb') as wf:\n",
        "        pickle.dump(eval_data, wf)\n"
      ],
      "execution_count": null,
      "outputs": []
    },
    {
      "cell_type": "markdown",
      "metadata": {
        "id": "PhbVzVLDsMi1"
      },
      "source": [
        "## 2.b. Define Model"
      ]
    },
    {
      "cell_type": "markdown",
      "metadata": {
        "id": "jrUKCNRgsMi1"
      },
      "source": [
        "Describe your model here."
      ]
    },
    {
      "cell_type": "code",
      "metadata": {
        "collapsed": true,
        "id": "ILB2fBRWsMi1"
      },
      "source": [
        "class NetTemplate1(nn.Module):\n",
        "    def __init__(self, input_dim, h1, h2, h3, output_dim):\n",
        "        super(NetTemplate1, self).__init__()\n",
        "        self.fc1 = nn.Linear(input_dim, h1)\n",
        "        self.fc2 = nn.Linear(h1, h2)\n",
        "        self.fc3 = nn.Linear(h2, h3)\n",
        "        self.fc4 = nn.Linear(h3, output_dim)\n",
        "\n",
        "    def forward(self, x):\n",
        "        # Forward pass\n",
        "        x = F.relu(self.fc1(x))\n",
        "        x = F.relu(self.fc2(x))\n",
        "        x = F.relu(self.fc3(x))\n",
        "        x = self.fc4(x)\n",
        "        return F.log_softmax(x)\n"
      ],
      "execution_count": null,
      "outputs": []
    },
    {
      "cell_type": "markdown",
      "metadata": {
        "id": "QO1yPx7YsMi1"
      },
      "source": [
        "## 2.c. Set Hyperparameters"
      ]
    },
    {
      "cell_type": "code",
      "metadata": {
        "collapsed": true,
        "id": "0k0jLX5ksMi1"
      },
      "source": [
        "# Define your hyperparameters here\n",
        "\n",
        "in_dims = trainset[0][0].shape[0]\n",
        "out_dims = len(class_to_idx)\n",
        "h1, h2, h3 = 128, 128, 64\n",
        "out_dims = len(class_to_idx)\n",
        "\n",
        "# Optimization\n",
        "n_epochs = 50\n",
        "batch_size=16\n",
        "batch_size_train = 64\n",
        "batch_size_test = 1000\n",
        "learning_rate = 0.01\n",
        "momentum = 0.5\n",
        "log_interval = 10"
      ],
      "execution_count": null,
      "outputs": []
    },
    {
      "cell_type": "markdown",
      "metadata": {
        "id": "NtpgVAO1sMi2"
      },
      "source": [
        "## 2.d. Train your Model"
      ]
    },
    {
      "cell_type": "code",
      "source": [
        "compute_mode = 'gpu'\n",
        "\n",
        "if compute_mode == 'cpu':\n",
        "    device = torch.device('cpu')\n",
        "elif compute_mode == 'gpu':\n",
        "    os.environ[\"CUDA_VISIBLE_DEVICES\"] = '0'    # Set device ID here\n",
        "    device = torch.device('cuda')\n",
        "else:\n",
        "    raise ValueError('Unrecognized compute mode')"
      ],
      "metadata": {
        "id": "u6e0EXJYGFYF"
      },
      "execution_count": null,
      "outputs": []
    },
    {
      "cell_type": "code",
      "source": [
        "gc.collect()\n",
        "\n",
        "train_x = torch.from_numpy(train_data).float().to(device)\n",
        "test_x = torch.from_numpy(test_data).float().to(device)\n",
        "\n",
        "train_y = torch.tensor(train_y, dtype=torch.long).to(device)\n",
        "test_y = torch.tensor(test_y, dtype=torch.long).to(device)\n",
        "\n",
        "trainset = TensorDataset(train_x, train_y)\n",
        "testset = TensorDataset(test_x, test_y)"
      ],
      "metadata": {
        "colab": {
          "base_uri": "https://localhost:8080/"
        },
        "id": "Vi5JK1sFHo6T",
        "outputId": "07cf3758-194e-456c-b684-9f9ed444543f"
      },
      "execution_count": null,
      "outputs": [
        {
          "output_type": "stream",
          "name": "stderr",
          "text": [
            "/usr/local/lib/python3.7/dist-packages/ipykernel_launcher.py:6: UserWarning: To copy construct from a tensor, it is recommended to use sourceTensor.clone().detach() or sourceTensor.clone().detach().requires_grad_(True), rather than torch.tensor(sourceTensor).\n",
            "  \n",
            "/usr/local/lib/python3.7/dist-packages/ipykernel_launcher.py:7: UserWarning: To copy construct from a tensor, it is recommended to use sourceTensor.clone().detach() or sourceTensor.clone().detach().requires_grad_(True), rather than torch.tensor(sourceTensor).\n",
            "  import sys\n"
          ]
        }
      ]
    },
    {
      "cell_type": "code",
      "metadata": {
        "collapsed": true,
        "id": "Co0W2ifGsMi2"
      },
      "source": [
        "network = NetTemplate1(in_dims, h1, h2, h3, out_dims).to(device)\n",
        "\n",
        "optimizer = optim.SGD(network.parameters(), lr=learning_rate,momentum=momentum)\n",
        "#optimzer = optim.AdamW(params, lr=learning_rate, betas=(0.9, 0.999), eps=1e-08, weight_decay=0.01, amsgrad=False) #for models using AdamW as optimiser\n",
        "loss_function = nn.NLLLoss()\n",
        "\n",
        "train_loader = DataLoader(dataset = trainset, batch_size=batch_size, shuffle=True)\n",
        "test_loader = DataLoader(dataset = testset, batch_size=batch_size, shuffle=False)\n"
      ],
      "execution_count": null,
      "outputs": []
    },
    {
      "cell_type": "code",
      "source": [
        "predictions = []\n",
        "targets = []\n",
        "train_losses = []\n",
        "train_counter = []\n",
        "test_losses = []\n",
        "test_counter = [i*len(test_loader.dataset) for i in range(0,n_epochs)]\n",
        "test_accuracies = []\n",
        "\n",
        "\n",
        "def train(epoch):\n",
        "    for batch_idx, (data, target) in enumerate(train_loader):\n",
        "        data, target = data.to(device),target.to(device)\n",
        "        data = data.view(-1, in_dims)\n",
        "        optimizer.zero_grad()\n",
        "        net_out = network(data)\n",
        "        loss = loss_function(net_out, target)\n",
        "        loss.backward()\n",
        "        optimizer.step()\n",
        "        train_losses.append(loss.item())\n",
        "        train_counter.append((batch_idx*64) + ((epoch-1)*len(train_loader.dataset)))\n",
        "        if batch_idx % log_interval == 0:\n",
        "            print('BIGRAM-MLP-Binary-SGD: Train Epoch: {} [{}/{} ({:.0f}%)]\\tLoss: {:.6f}'.format(\n",
        "                epoch, batch_idx * len(data), len(train_loader.dataset),\n",
        "                    100. * batch_idx / len(train_loader), loss.item()))\n",
        "            \n",
        "def test():    \n",
        "    loss = 0\n",
        "    correct = 0\n",
        "    \n",
        "    for data, target in test_loader:\n",
        "        data, target = data.to(device), target.to(device)\n",
        "        data = data.view(-1, in_dims)\n",
        "        net_out = network(data)\n",
        "        loss += loss_function(net_out, target).item()\n",
        "        pred = net_out.data.max(1)[1]\n",
        "        predictions.append(pred.data.to('cpu').numpy())\n",
        "        targets.append(target.data.to('cpu').numpy())\n",
        "        correct += pred.eq(target.data).sum()\n",
        "\n",
        "    loss /= len(test_loader.dataset)\n",
        "    test_accuracies.append(100 * (correct / len(test_loader.dataset)))\n",
        "    test_losses.append(loss)\n",
        "    print('\\n BIGRAM-MLP-Binary-SGD: Test set: Average loss: {:.4f}, Accuracy: {}/{} ({:.0f}%)\\n'.format(\n",
        "            loss, correct, len(test_loader.dataset),\n",
        "            100. * correct / len(test_loader.dataset)))"
      ],
      "metadata": {
        "id": "sKH7BtzRB6kw"
      },
      "execution_count": null,
      "outputs": []
    },
    {
      "cell_type": "code",
      "metadata": {
        "id": "yYipW-8GDREU",
        "colab": {
          "base_uri": "https://localhost:8080/"
        },
        "outputId": "cb4ead74-0e7a-4246-da59-23791060bd4e"
      },
      "source": [
        "for epoch in range(1, n_epochs+1):\n",
        "    train(epoch)\n",
        "    test()\n",
        "    "
      ],
      "execution_count": null,
      "outputs": [
        {
          "output_type": "stream",
          "name": "stderr",
          "text": [
            "/usr/local/lib/python3.7/dist-packages/ipykernel_launcher.py:15: UserWarning: Implicit dimension choice for log_softmax has been deprecated. Change the call to include dim=X as an argument.\n",
            "  from ipykernel import kernelapp as app\n"
          ]
        },
        {
          "output_type": "stream",
          "name": "stdout",
          "text": [
            "BIGRAM-MLP-Binary-SGD: Train Epoch: 1 [0/360 (0%)]\tLoss: 2.288965\n",
            "BIGRAM-MLP-Binary-SGD: Train Epoch: 1 [160/360 (43%)]\tLoss: 2.275971\n",
            "BIGRAM-MLP-Binary-SGD: Train Epoch: 1 [320/360 (87%)]\tLoss: 2.222792\n",
            "\n",
            " BIGRAM-MLP-Binary-SGD: Test set: Average loss: 0.1666, Accuracy: 14/40 (35%)\n",
            "\n",
            "BIGRAM-MLP-Binary-SGD: Train Epoch: 2 [0/360 (0%)]\tLoss: 2.224549\n",
            "BIGRAM-MLP-Binary-SGD: Train Epoch: 2 [160/360 (43%)]\tLoss: 2.211091\n",
            "BIGRAM-MLP-Binary-SGD: Train Epoch: 2 [320/360 (87%)]\tLoss: 2.236853\n",
            "\n",
            " BIGRAM-MLP-Binary-SGD: Test set: Average loss: 0.1620, Accuracy: 14/40 (35%)\n",
            "\n",
            "BIGRAM-MLP-Binary-SGD: Train Epoch: 3 [0/360 (0%)]\tLoss: 2.171165\n",
            "BIGRAM-MLP-Binary-SGD: Train Epoch: 3 [160/360 (43%)]\tLoss: 2.235524\n",
            "BIGRAM-MLP-Binary-SGD: Train Epoch: 3 [320/360 (87%)]\tLoss: 2.149633\n",
            "\n",
            " BIGRAM-MLP-Binary-SGD: Test set: Average loss: 0.1573, Accuracy: 14/40 (35%)\n",
            "\n",
            "BIGRAM-MLP-Binary-SGD: Train Epoch: 4 [0/360 (0%)]\tLoss: 2.154296\n",
            "BIGRAM-MLP-Binary-SGD: Train Epoch: 4 [160/360 (43%)]\tLoss: 2.085789\n",
            "BIGRAM-MLP-Binary-SGD: Train Epoch: 4 [320/360 (87%)]\tLoss: 2.012789\n",
            "\n",
            " BIGRAM-MLP-Binary-SGD: Test set: Average loss: 0.1520, Accuracy: 14/40 (35%)\n",
            "\n",
            "BIGRAM-MLP-Binary-SGD: Train Epoch: 5 [0/360 (0%)]\tLoss: 2.145101\n",
            "BIGRAM-MLP-Binary-SGD: Train Epoch: 5 [160/360 (43%)]\tLoss: 2.025685\n",
            "BIGRAM-MLP-Binary-SGD: Train Epoch: 5 [320/360 (87%)]\tLoss: 2.193282\n",
            "\n",
            " BIGRAM-MLP-Binary-SGD: Test set: Average loss: 0.1462, Accuracy: 14/40 (35%)\n",
            "\n",
            "BIGRAM-MLP-Binary-SGD: Train Epoch: 6 [0/360 (0%)]\tLoss: 2.186268\n",
            "BIGRAM-MLP-Binary-SGD: Train Epoch: 6 [160/360 (43%)]\tLoss: 2.118084\n",
            "BIGRAM-MLP-Binary-SGD: Train Epoch: 6 [320/360 (87%)]\tLoss: 1.832987\n",
            "\n",
            " BIGRAM-MLP-Binary-SGD: Test set: Average loss: 0.1400, Accuracy: 19/40 (48%)\n",
            "\n",
            "BIGRAM-MLP-Binary-SGD: Train Epoch: 7 [0/360 (0%)]\tLoss: 1.828515\n",
            "BIGRAM-MLP-Binary-SGD: Train Epoch: 7 [160/360 (43%)]\tLoss: 1.856034\n",
            "BIGRAM-MLP-Binary-SGD: Train Epoch: 7 [320/360 (87%)]\tLoss: 2.032290\n",
            "\n",
            " BIGRAM-MLP-Binary-SGD: Test set: Average loss: 0.1339, Accuracy: 20/40 (50%)\n",
            "\n",
            "BIGRAM-MLP-Binary-SGD: Train Epoch: 8 [0/360 (0%)]\tLoss: 1.512210\n",
            "BIGRAM-MLP-Binary-SGD: Train Epoch: 8 [160/360 (43%)]\tLoss: 1.600670\n",
            "BIGRAM-MLP-Binary-SGD: Train Epoch: 8 [320/360 (87%)]\tLoss: 1.608413\n",
            "\n",
            " BIGRAM-MLP-Binary-SGD: Test set: Average loss: 0.1280, Accuracy: 20/40 (50%)\n",
            "\n",
            "BIGRAM-MLP-Binary-SGD: Train Epoch: 9 [0/360 (0%)]\tLoss: 1.854942\n",
            "BIGRAM-MLP-Binary-SGD: Train Epoch: 9 [160/360 (43%)]\tLoss: 1.676322\n",
            "BIGRAM-MLP-Binary-SGD: Train Epoch: 9 [320/360 (87%)]\tLoss: 1.444990\n",
            "\n",
            " BIGRAM-MLP-Binary-SGD: Test set: Average loss: 0.1221, Accuracy: 20/40 (50%)\n",
            "\n",
            "BIGRAM-MLP-Binary-SGD: Train Epoch: 10 [0/360 (0%)]\tLoss: 1.809559\n",
            "BIGRAM-MLP-Binary-SGD: Train Epoch: 10 [160/360 (43%)]\tLoss: 1.983765\n",
            "BIGRAM-MLP-Binary-SGD: Train Epoch: 10 [320/360 (87%)]\tLoss: 1.843540\n",
            "\n",
            " BIGRAM-MLP-Binary-SGD: Test set: Average loss: 0.1156, Accuracy: 20/40 (50%)\n",
            "\n",
            "BIGRAM-MLP-Binary-SGD: Train Epoch: 11 [0/360 (0%)]\tLoss: 1.809096\n",
            "BIGRAM-MLP-Binary-SGD: Train Epoch: 11 [160/360 (43%)]\tLoss: 1.865740\n",
            "BIGRAM-MLP-Binary-SGD: Train Epoch: 11 [320/360 (87%)]\tLoss: 1.636263\n",
            "\n",
            " BIGRAM-MLP-Binary-SGD: Test set: Average loss: 0.1101, Accuracy: 20/40 (50%)\n",
            "\n",
            "BIGRAM-MLP-Binary-SGD: Train Epoch: 12 [0/360 (0%)]\tLoss: 1.419712\n",
            "BIGRAM-MLP-Binary-SGD: Train Epoch: 12 [160/360 (43%)]\tLoss: 1.093553\n",
            "BIGRAM-MLP-Binary-SGD: Train Epoch: 12 [320/360 (87%)]\tLoss: 1.655333\n",
            "\n",
            " BIGRAM-MLP-Binary-SGD: Test set: Average loss: 0.1038, Accuracy: 24/40 (60%)\n",
            "\n",
            "BIGRAM-MLP-Binary-SGD: Train Epoch: 13 [0/360 (0%)]\tLoss: 1.323976\n",
            "BIGRAM-MLP-Binary-SGD: Train Epoch: 13 [160/360 (43%)]\tLoss: 1.219160\n",
            "BIGRAM-MLP-Binary-SGD: Train Epoch: 13 [320/360 (87%)]\tLoss: 1.343149\n",
            "\n",
            " BIGRAM-MLP-Binary-SGD: Test set: Average loss: 0.0997, Accuracy: 24/40 (60%)\n",
            "\n",
            "BIGRAM-MLP-Binary-SGD: Train Epoch: 14 [0/360 (0%)]\tLoss: 1.086664\n",
            "BIGRAM-MLP-Binary-SGD: Train Epoch: 14 [160/360 (43%)]\tLoss: 1.622938\n",
            "BIGRAM-MLP-Binary-SGD: Train Epoch: 14 [320/360 (87%)]\tLoss: 1.434181\n",
            "\n",
            " BIGRAM-MLP-Binary-SGD: Test set: Average loss: 0.0929, Accuracy: 24/40 (60%)\n",
            "\n",
            "BIGRAM-MLP-Binary-SGD: Train Epoch: 15 [0/360 (0%)]\tLoss: 1.440659\n",
            "BIGRAM-MLP-Binary-SGD: Train Epoch: 15 [160/360 (43%)]\tLoss: 1.177480\n",
            "BIGRAM-MLP-Binary-SGD: Train Epoch: 15 [320/360 (87%)]\tLoss: 1.742770\n",
            "\n",
            " BIGRAM-MLP-Binary-SGD: Test set: Average loss: 0.0904, Accuracy: 24/40 (60%)\n",
            "\n",
            "BIGRAM-MLP-Binary-SGD: Train Epoch: 16 [0/360 (0%)]\tLoss: 1.177545\n",
            "BIGRAM-MLP-Binary-SGD: Train Epoch: 16 [160/360 (43%)]\tLoss: 1.259587\n",
            "BIGRAM-MLP-Binary-SGD: Train Epoch: 16 [320/360 (87%)]\tLoss: 0.897235\n",
            "\n",
            " BIGRAM-MLP-Binary-SGD: Test set: Average loss: 0.0862, Accuracy: 24/40 (60%)\n",
            "\n",
            "BIGRAM-MLP-Binary-SGD: Train Epoch: 17 [0/360 (0%)]\tLoss: 1.446965\n",
            "BIGRAM-MLP-Binary-SGD: Train Epoch: 17 [160/360 (43%)]\tLoss: 0.794244\n",
            "BIGRAM-MLP-Binary-SGD: Train Epoch: 17 [320/360 (87%)]\tLoss: 1.165253\n",
            "\n",
            " BIGRAM-MLP-Binary-SGD: Test set: Average loss: 0.0819, Accuracy: 24/40 (60%)\n",
            "\n",
            "BIGRAM-MLP-Binary-SGD: Train Epoch: 18 [0/360 (0%)]\tLoss: 0.956615\n",
            "BIGRAM-MLP-Binary-SGD: Train Epoch: 18 [160/360 (43%)]\tLoss: 1.084290\n",
            "BIGRAM-MLP-Binary-SGD: Train Epoch: 18 [320/360 (87%)]\tLoss: 1.095238\n",
            "\n",
            " BIGRAM-MLP-Binary-SGD: Test set: Average loss: 0.0809, Accuracy: 24/40 (60%)\n",
            "\n",
            "BIGRAM-MLP-Binary-SGD: Train Epoch: 19 [0/360 (0%)]\tLoss: 0.931092\n",
            "BIGRAM-MLP-Binary-SGD: Train Epoch: 19 [160/360 (43%)]\tLoss: 1.244163\n",
            "BIGRAM-MLP-Binary-SGD: Train Epoch: 19 [320/360 (87%)]\tLoss: 1.024723\n",
            "\n",
            " BIGRAM-MLP-Binary-SGD: Test set: Average loss: 0.0773, Accuracy: 27/40 (68%)\n",
            "\n",
            "BIGRAM-MLP-Binary-SGD: Train Epoch: 20 [0/360 (0%)]\tLoss: 1.305277\n",
            "BIGRAM-MLP-Binary-SGD: Train Epoch: 20 [160/360 (43%)]\tLoss: 1.173761\n",
            "BIGRAM-MLP-Binary-SGD: Train Epoch: 20 [320/360 (87%)]\tLoss: 1.250224\n",
            "\n",
            " BIGRAM-MLP-Binary-SGD: Test set: Average loss: 0.0727, Accuracy: 28/40 (70%)\n",
            "\n",
            "BIGRAM-MLP-Binary-SGD: Train Epoch: 21 [0/360 (0%)]\tLoss: 1.150767\n",
            "BIGRAM-MLP-Binary-SGD: Train Epoch: 21 [160/360 (43%)]\tLoss: 1.295751\n",
            "BIGRAM-MLP-Binary-SGD: Train Epoch: 21 [320/360 (87%)]\tLoss: 1.202646\n",
            "\n",
            " BIGRAM-MLP-Binary-SGD: Test set: Average loss: 0.0724, Accuracy: 28/40 (70%)\n",
            "\n",
            "BIGRAM-MLP-Binary-SGD: Train Epoch: 22 [0/360 (0%)]\tLoss: 1.226592\n",
            "BIGRAM-MLP-Binary-SGD: Train Epoch: 22 [160/360 (43%)]\tLoss: 1.411211\n",
            "BIGRAM-MLP-Binary-SGD: Train Epoch: 22 [320/360 (87%)]\tLoss: 0.898115\n",
            "\n",
            " BIGRAM-MLP-Binary-SGD: Test set: Average loss: 0.0726, Accuracy: 27/40 (68%)\n",
            "\n",
            "BIGRAM-MLP-Binary-SGD: Train Epoch: 23 [0/360 (0%)]\tLoss: 1.310245\n",
            "BIGRAM-MLP-Binary-SGD: Train Epoch: 23 [160/360 (43%)]\tLoss: 0.677483\n",
            "BIGRAM-MLP-Binary-SGD: Train Epoch: 23 [320/360 (87%)]\tLoss: 0.990454\n",
            "\n",
            " BIGRAM-MLP-Binary-SGD: Test set: Average loss: 0.0675, Accuracy: 27/40 (68%)\n",
            "\n",
            "BIGRAM-MLP-Binary-SGD: Train Epoch: 24 [0/360 (0%)]\tLoss: 1.170449\n",
            "BIGRAM-MLP-Binary-SGD: Train Epoch: 24 [160/360 (43%)]\tLoss: 0.754761\n",
            "BIGRAM-MLP-Binary-SGD: Train Epoch: 24 [320/360 (87%)]\tLoss: 0.817507\n",
            "\n",
            " BIGRAM-MLP-Binary-SGD: Test set: Average loss: 0.0678, Accuracy: 28/40 (70%)\n",
            "\n",
            "BIGRAM-MLP-Binary-SGD: Train Epoch: 25 [0/360 (0%)]\tLoss: 0.805065\n",
            "BIGRAM-MLP-Binary-SGD: Train Epoch: 25 [160/360 (43%)]\tLoss: 0.752278\n",
            "BIGRAM-MLP-Binary-SGD: Train Epoch: 25 [320/360 (87%)]\tLoss: 1.082775\n",
            "\n",
            " BIGRAM-MLP-Binary-SGD: Test set: Average loss: 0.0654, Accuracy: 27/40 (68%)\n",
            "\n",
            "BIGRAM-MLP-Binary-SGD: Train Epoch: 26 [0/360 (0%)]\tLoss: 0.714420\n",
            "BIGRAM-MLP-Binary-SGD: Train Epoch: 26 [160/360 (43%)]\tLoss: 0.700892\n",
            "BIGRAM-MLP-Binary-SGD: Train Epoch: 26 [320/360 (87%)]\tLoss: 0.820009\n",
            "\n",
            " BIGRAM-MLP-Binary-SGD: Test set: Average loss: 0.0643, Accuracy: 27/40 (68%)\n",
            "\n",
            "BIGRAM-MLP-Binary-SGD: Train Epoch: 27 [0/360 (0%)]\tLoss: 0.862469\n",
            "BIGRAM-MLP-Binary-SGD: Train Epoch: 27 [160/360 (43%)]\tLoss: 0.677574\n",
            "BIGRAM-MLP-Binary-SGD: Train Epoch: 27 [320/360 (87%)]\tLoss: 1.059058\n",
            "\n",
            " BIGRAM-MLP-Binary-SGD: Test set: Average loss: 0.0633, Accuracy: 28/40 (70%)\n",
            "\n",
            "BIGRAM-MLP-Binary-SGD: Train Epoch: 28 [0/360 (0%)]\tLoss: 0.669210\n",
            "BIGRAM-MLP-Binary-SGD: Train Epoch: 28 [160/360 (43%)]\tLoss: 0.706541\n",
            "BIGRAM-MLP-Binary-SGD: Train Epoch: 28 [320/360 (87%)]\tLoss: 1.053044\n",
            "\n",
            " BIGRAM-MLP-Binary-SGD: Test set: Average loss: 0.0607, Accuracy: 30/40 (75%)\n",
            "\n",
            "BIGRAM-MLP-Binary-SGD: Train Epoch: 29 [0/360 (0%)]\tLoss: 0.665593\n",
            "BIGRAM-MLP-Binary-SGD: Train Epoch: 29 [160/360 (43%)]\tLoss: 0.804427\n",
            "BIGRAM-MLP-Binary-SGD: Train Epoch: 29 [320/360 (87%)]\tLoss: 1.350638\n",
            "\n",
            " BIGRAM-MLP-Binary-SGD: Test set: Average loss: 0.0644, Accuracy: 28/40 (70%)\n",
            "\n",
            "BIGRAM-MLP-Binary-SGD: Train Epoch: 30 [0/360 (0%)]\tLoss: 1.066888\n",
            "BIGRAM-MLP-Binary-SGD: Train Epoch: 30 [160/360 (43%)]\tLoss: 0.907245\n",
            "BIGRAM-MLP-Binary-SGD: Train Epoch: 30 [320/360 (87%)]\tLoss: 0.996750\n",
            "\n",
            " BIGRAM-MLP-Binary-SGD: Test set: Average loss: 0.0637, Accuracy: 28/40 (70%)\n",
            "\n",
            "BIGRAM-MLP-Binary-SGD: Train Epoch: 31 [0/360 (0%)]\tLoss: 0.955448\n",
            "BIGRAM-MLP-Binary-SGD: Train Epoch: 31 [160/360 (43%)]\tLoss: 0.751373\n",
            "BIGRAM-MLP-Binary-SGD: Train Epoch: 31 [320/360 (87%)]\tLoss: 0.924962\n",
            "\n",
            " BIGRAM-MLP-Binary-SGD: Test set: Average loss: 0.0600, Accuracy: 28/40 (70%)\n",
            "\n",
            "BIGRAM-MLP-Binary-SGD: Train Epoch: 32 [0/360 (0%)]\tLoss: 0.982418\n",
            "BIGRAM-MLP-Binary-SGD: Train Epoch: 32 [160/360 (43%)]\tLoss: 0.932833\n",
            "BIGRAM-MLP-Binary-SGD: Train Epoch: 32 [320/360 (87%)]\tLoss: 0.793836\n",
            "\n",
            " BIGRAM-MLP-Binary-SGD: Test set: Average loss: 0.0636, Accuracy: 29/40 (72%)\n",
            "\n",
            "BIGRAM-MLP-Binary-SGD: Train Epoch: 33 [0/360 (0%)]\tLoss: 1.038621\n",
            "BIGRAM-MLP-Binary-SGD: Train Epoch: 33 [160/360 (43%)]\tLoss: 1.276794\n",
            "BIGRAM-MLP-Binary-SGD: Train Epoch: 33 [320/360 (87%)]\tLoss: 0.850890\n",
            "\n",
            " BIGRAM-MLP-Binary-SGD: Test set: Average loss: 0.0573, Accuracy: 27/40 (68%)\n",
            "\n",
            "BIGRAM-MLP-Binary-SGD: Train Epoch: 34 [0/360 (0%)]\tLoss: 0.790399\n",
            "BIGRAM-MLP-Binary-SGD: Train Epoch: 34 [160/360 (43%)]\tLoss: 0.521191\n",
            "BIGRAM-MLP-Binary-SGD: Train Epoch: 34 [320/360 (87%)]\tLoss: 1.254526\n",
            "\n",
            " BIGRAM-MLP-Binary-SGD: Test set: Average loss: 0.0573, Accuracy: 28/40 (70%)\n",
            "\n",
            "BIGRAM-MLP-Binary-SGD: Train Epoch: 35 [0/360 (0%)]\tLoss: 0.652192\n",
            "BIGRAM-MLP-Binary-SGD: Train Epoch: 35 [160/360 (43%)]\tLoss: 0.900999\n",
            "BIGRAM-MLP-Binary-SGD: Train Epoch: 35 [320/360 (87%)]\tLoss: 0.940092\n",
            "\n",
            " BIGRAM-MLP-Binary-SGD: Test set: Average loss: 0.0570, Accuracy: 31/40 (78%)\n",
            "\n",
            "BIGRAM-MLP-Binary-SGD: Train Epoch: 36 [0/360 (0%)]\tLoss: 0.824668\n",
            "BIGRAM-MLP-Binary-SGD: Train Epoch: 36 [160/360 (43%)]\tLoss: 0.719681\n",
            "BIGRAM-MLP-Binary-SGD: Train Epoch: 36 [320/360 (87%)]\tLoss: 0.386738\n",
            "\n",
            " BIGRAM-MLP-Binary-SGD: Test set: Average loss: 0.0622, Accuracy: 30/40 (75%)\n",
            "\n",
            "BIGRAM-MLP-Binary-SGD: Train Epoch: 37 [0/360 (0%)]\tLoss: 0.762281\n",
            "BIGRAM-MLP-Binary-SGD: Train Epoch: 37 [160/360 (43%)]\tLoss: 0.655580\n",
            "BIGRAM-MLP-Binary-SGD: Train Epoch: 37 [320/360 (87%)]\tLoss: 0.816066\n",
            "\n",
            " BIGRAM-MLP-Binary-SGD: Test set: Average loss: 0.0578, Accuracy: 31/40 (78%)\n",
            "\n",
            "BIGRAM-MLP-Binary-SGD: Train Epoch: 38 [0/360 (0%)]\tLoss: 1.013443\n",
            "BIGRAM-MLP-Binary-SGD: Train Epoch: 38 [160/360 (43%)]\tLoss: 0.399309\n",
            "BIGRAM-MLP-Binary-SGD: Train Epoch: 38 [320/360 (87%)]\tLoss: 0.714902\n",
            "\n",
            " BIGRAM-MLP-Binary-SGD: Test set: Average loss: 0.0523, Accuracy: 33/40 (82%)\n",
            "\n",
            "BIGRAM-MLP-Binary-SGD: Train Epoch: 39 [0/360 (0%)]\tLoss: 0.714342\n",
            "BIGRAM-MLP-Binary-SGD: Train Epoch: 39 [160/360 (43%)]\tLoss: 0.503329\n",
            "BIGRAM-MLP-Binary-SGD: Train Epoch: 39 [320/360 (87%)]\tLoss: 0.911154\n",
            "\n",
            " BIGRAM-MLP-Binary-SGD: Test set: Average loss: 0.0561, Accuracy: 32/40 (80%)\n",
            "\n",
            "BIGRAM-MLP-Binary-SGD: Train Epoch: 40 [0/360 (0%)]\tLoss: 0.786677\n",
            "BIGRAM-MLP-Binary-SGD: Train Epoch: 40 [160/360 (43%)]\tLoss: 0.859033\n",
            "BIGRAM-MLP-Binary-SGD: Train Epoch: 40 [320/360 (87%)]\tLoss: 0.637652\n",
            "\n",
            " BIGRAM-MLP-Binary-SGD: Test set: Average loss: 0.0562, Accuracy: 32/40 (80%)\n",
            "\n",
            "BIGRAM-MLP-Binary-SGD: Train Epoch: 41 [0/360 (0%)]\tLoss: 1.130699\n",
            "BIGRAM-MLP-Binary-SGD: Train Epoch: 41 [160/360 (43%)]\tLoss: 0.379374\n",
            "BIGRAM-MLP-Binary-SGD: Train Epoch: 41 [320/360 (87%)]\tLoss: 0.513435\n",
            "\n",
            " BIGRAM-MLP-Binary-SGD: Test set: Average loss: 0.0600, Accuracy: 30/40 (75%)\n",
            "\n",
            "BIGRAM-MLP-Binary-SGD: Train Epoch: 42 [0/360 (0%)]\tLoss: 0.666836\n",
            "BIGRAM-MLP-Binary-SGD: Train Epoch: 42 [160/360 (43%)]\tLoss: 0.589085\n",
            "BIGRAM-MLP-Binary-SGD: Train Epoch: 42 [320/360 (87%)]\tLoss: 0.733115\n",
            "\n",
            " BIGRAM-MLP-Binary-SGD: Test set: Average loss: 0.0563, Accuracy: 31/40 (78%)\n",
            "\n",
            "BIGRAM-MLP-Binary-SGD: Train Epoch: 43 [0/360 (0%)]\tLoss: 0.799612\n",
            "BIGRAM-MLP-Binary-SGD: Train Epoch: 43 [160/360 (43%)]\tLoss: 0.239570\n",
            "BIGRAM-MLP-Binary-SGD: Train Epoch: 43 [320/360 (87%)]\tLoss: 0.892979\n",
            "\n",
            " BIGRAM-MLP-Binary-SGD: Test set: Average loss: 0.0596, Accuracy: 31/40 (78%)\n",
            "\n",
            "BIGRAM-MLP-Binary-SGD: Train Epoch: 44 [0/360 (0%)]\tLoss: 0.599659\n",
            "BIGRAM-MLP-Binary-SGD: Train Epoch: 44 [160/360 (43%)]\tLoss: 0.703742\n",
            "BIGRAM-MLP-Binary-SGD: Train Epoch: 44 [320/360 (87%)]\tLoss: 0.430587\n",
            "\n",
            " BIGRAM-MLP-Binary-SGD: Test set: Average loss: 0.0606, Accuracy: 29/40 (72%)\n",
            "\n",
            "BIGRAM-MLP-Binary-SGD: Train Epoch: 45 [0/360 (0%)]\tLoss: 0.513570\n",
            "BIGRAM-MLP-Binary-SGD: Train Epoch: 45 [160/360 (43%)]\tLoss: 0.458826\n",
            "BIGRAM-MLP-Binary-SGD: Train Epoch: 45 [320/360 (87%)]\tLoss: 0.552963\n",
            "\n",
            " BIGRAM-MLP-Binary-SGD: Test set: Average loss: 0.0572, Accuracy: 33/40 (82%)\n",
            "\n",
            "BIGRAM-MLP-Binary-SGD: Train Epoch: 46 [0/360 (0%)]\tLoss: 0.664840\n",
            "BIGRAM-MLP-Binary-SGD: Train Epoch: 46 [160/360 (43%)]\tLoss: 0.733628\n",
            "BIGRAM-MLP-Binary-SGD: Train Epoch: 46 [320/360 (87%)]\tLoss: 1.147728\n",
            "\n",
            " BIGRAM-MLP-Binary-SGD: Test set: Average loss: 0.0596, Accuracy: 29/40 (72%)\n",
            "\n",
            "BIGRAM-MLP-Binary-SGD: Train Epoch: 47 [0/360 (0%)]\tLoss: 0.554616\n",
            "BIGRAM-MLP-Binary-SGD: Train Epoch: 47 [160/360 (43%)]\tLoss: 0.727493\n",
            "BIGRAM-MLP-Binary-SGD: Train Epoch: 47 [320/360 (87%)]\tLoss: 0.875832\n",
            "\n",
            " BIGRAM-MLP-Binary-SGD: Test set: Average loss: 0.0590, Accuracy: 30/40 (75%)\n",
            "\n",
            "BIGRAM-MLP-Binary-SGD: Train Epoch: 48 [0/360 (0%)]\tLoss: 0.665202\n",
            "BIGRAM-MLP-Binary-SGD: Train Epoch: 48 [160/360 (43%)]\tLoss: 0.426986\n",
            "BIGRAM-MLP-Binary-SGD: Train Epoch: 48 [320/360 (87%)]\tLoss: 0.471412\n",
            "\n",
            " BIGRAM-MLP-Binary-SGD: Test set: Average loss: 0.0589, Accuracy: 30/40 (75%)\n",
            "\n",
            "BIGRAM-MLP-Binary-SGD: Train Epoch: 49 [0/360 (0%)]\tLoss: 0.793057\n",
            "BIGRAM-MLP-Binary-SGD: Train Epoch: 49 [160/360 (43%)]\tLoss: 0.515556\n",
            "BIGRAM-MLP-Binary-SGD: Train Epoch: 49 [320/360 (87%)]\tLoss: 0.508227\n",
            "\n",
            " BIGRAM-MLP-Binary-SGD: Test set: Average loss: 0.0636, Accuracy: 28/40 (70%)\n",
            "\n",
            "BIGRAM-MLP-Binary-SGD: Train Epoch: 50 [0/360 (0%)]\tLoss: 0.573429\n",
            "BIGRAM-MLP-Binary-SGD: Train Epoch: 50 [160/360 (43%)]\tLoss: 0.464337\n",
            "BIGRAM-MLP-Binary-SGD: Train Epoch: 50 [320/360 (87%)]\tLoss: 0.566752\n",
            "\n",
            " BIGRAM-MLP-Binary-SGD: Test set: Average loss: 0.0524, Accuracy: 31/40 (78%)\n",
            "\n"
          ]
        }
      ]
    },
    {
      "cell_type": "markdown",
      "metadata": {
        "id": "Z5w-7O5jsMi2"
      },
      "source": [
        "## 2.e. Evaluate model"
      ]
    },
    {
      "cell_type": "code",
      "source": [
        "plt.plot(train_counter, train_losses, color='blue')\n",
        "plt.plot(test_counter, test_losses, color='red')\n",
        "plt.legend(['Loss Per Epoch -BIGRAM-MLP-Binary-SGD:,', 'Test Loss'], loc='upper right')\n",
        "plt.xlabel('#Training Data Processed')\n",
        "plt.ylabel('Negative Log Likelihood Loss')\n",
        "plt.show()\n",
        "\n",
        "precision, recall, f1_scores = evaluate_preds(predictions, targets)\n",
        "visualize_evaluation(class_to_idx, precision, recall, f1_scores)"
      ],
      "metadata": {
        "colab": {
          "base_uri": "https://localhost:8080/",
          "height": 688
        },
        "id": "jb4emYxRCpNP",
        "outputId": "94264f6d-b44d-4050-e692-c466b0813382"
      },
      "execution_count": null,
      "outputs": [
        {
          "output_type": "display_data",
          "data": {
            "image/png": "[encoded data removed]",
            "text/plain": [
              "<Figure size 720x576 with 1 Axes>"
            ]
          },
          "metadata": {
            "needs_background": "light"
          }
        },
        {
          "output_type": "stream",
          "name": "stdout",
          "text": [
            "  Labels/Malwares   Precision     Recall   F1 Score\n",
            "0           Agent    0.000000   0.000000   0.000000\n",
            "1         Allaple  100.000000  30.666667  46.938776\n",
            "2          AutoIt  100.000000  78.000000  87.640449\n",
            "3           Basun   50.000000  90.000000  64.285714\n",
            "4    NothingFound   55.189873  62.285714  58.523490\n",
            "5         Patched    0.000000   0.000000   0.000000\n",
            "6         Swizzor   75.862069  44.000000  55.696203\n",
            "7           Texel   70.727848  81.272727  75.634518\n",
            "8              VB    0.000000   0.000000   0.000000\n",
            "9           Virut   76.800000  48.000000  59.076923\n"
          ]
        }
      ]
    },
    {
      "cell_type": "markdown",
      "metadata": {
        "id": "U_GE1BQjsMi3"
      },
      "source": [
        "## 2.f. Save Model + Data"
      ]
    },
    {
      "cell_type": "code",
      "source": [
        "expt_name = 'BIGRAM-MLP-Binary-SGD:'\n",
        "\n",
        "model_out_path = '{}.checkpoint.pth'.format(expt_name)\n",
        "save_model(network, model_out_path)\n",
        "\n",
        "eval_data = {\n",
        "    'epoch': n_epochs,\n",
        "    'train_loss': train_losses,\n",
        "    'test_loss': test_losses,\n",
        "    'train_acc': [],\n",
        "    'test_acc': test_accuracies\n",
        "}\n",
        "eval_out_path = '{}.eval.pickle'.format(expt_name)\n",
        "save_data(eval_data, eval_out_path)"
      ],
      "metadata": {
        "id": "XF0yaHf4C1wE"
      },
      "execution_count": null,
      "outputs": []
    },
    {
      "cell_type": "markdown",
      "metadata": {
        "id": "uLD6dur1sMi3"
      },
      "source": [
        "# 3. Analysis"
      ]
    },
    {
      "cell_type": "markdown",
      "metadata": {
        "id": "1QRKxLsPsMi3"
      },
      "source": [
        "## 3.a. Summary: Main Results\n",
        "\n",
        "We tried different configurations to compute the test loss and accuracy which are summarised as follows:\n",
        "\n",
        "S.no | Model-Name  | Vectorizer | Network | Optimizer | Test Loss | Accuracy  \n",
        "-----|-------------|------------|---------|-----------|----------|----------\n",
        "1    |    Unigram-Model-1  |  Count | MLP | SGD |  0.059 |  75% \n",
        "2    |    Unigram-Model-2  |  Binary | MLP | SGD | 0.059 |  75%\n",
        "3    |    Bigram-Model-1  |  Count | MLP | SGD |  0.051 |  76% \n",
        "4    |    Bigram-Model-2  |  Binary | MLP | SGD | 0.052 |  78%\n",
        "5    |    Trigram-Model-1  |  Count | MLP | SGD |  0.055 |  78% \n",
        "6    |    Trigram-Model-2  |  Binary | MLP | SGD | 0.053 |  79%\n",
        "7    |    Unigram-Model-3  |  Count | MLP | ADAMW |  0.057 |  76% \n",
        "8    |    Unigram-Model-4  |  Binary | MLP | ADAMW | 0.052 |  72%\n",
        "9    |    Bigram-Model-3  |  Count | MLP | ADAMW |  0.047 |  81% \n",
        "10    |    Bigram-Model-4  |  Binary | MLP | ADAMW | 0.049 |  79%\n",
        "11    |    Trigram-Model-3  |  Count | MLP | ADAMW |  0.048 |  80% \n",
        "12    |    Trigram-Model-4  |  Binary | MLP | ADAMW | 0.055 |  78%\n",
        "\n",
        "\n",
        "Due to limitations of computational power, we restricted to using 500 samples for the testing and training purposes and used a 90-10% split for the training and testing respectively (Thus we see a shorter testing loss graph.\n",
        "\n",
        "We created various models by choosing various types of n-grams, vectoriser and \n",
        "moreover, we also played around with various optimisers like Stochastic Gradient Descent(SGD) with momentum and ADAMW which is a newer version of ADAM which is known for improving generalisation loss and test accuracy.\n",
        "\n",
        "\n",
        "\n"
      ]
    },
    {
      "cell_type": "markdown",
      "metadata": {
        "collapsed": true,
        "id": "dNKqJAoasMi4"
      },
      "source": [
        "## 3.b. Discussion\n",
        "\n",
        "Enter your final summary here.\n",
        "\n",
        "For instance, you can address:\n",
        "- What was the performance you obtained with the simplest approach?\n",
        "- Which vectorized input representations helped more than the others?\n",
        "- Which malwares are difficult to detect and why?\n",
        "- Which approach do you recommend to perform malware classification?"
      ]
    },
    {
      "cell_type": "markdown",
      "source": [
        "\n",
        "\n",
        "*  The simplest model was Unigram with Binary vectorizer which gave us an accuracy of 75% and 72% with SGD and ADAMW optimizer respectively.\n",
        "*   We used two types of vectorizer, the first vectorizer is of binary type which gives an output of 1/0 based on if a word is present in the input and the the other vectoriser, count type not only just considers the presence but also gives the frequency of occurance. \n",
        "    \n",
        "    Based on the accuracy of various models, it is difficult to say which one performed better as the performance using both the vectorizer is comparable.\n",
        "\n",
        "*   The malwares that are difficult to detect are 'Agent', 'Patched' and 'VB' because in our opinion, they might need higher magnitude of n-grams to make the classification, which in our case unigram, bigrams and trigrams failed to achieve.\n",
        "\n",
        "*   In our opinion, we feel a MLP was the best choice for the malware classification as it doesn't require in-depth knowledge of the database and alongside a good optimizer like SGD+momentum or ADAM or others, the accuracy achieved is high. But while using MLP we also need to set the parameters by careful consideration as they play a major role for getting a good test accuracy.\n",
        "\n",
        "\n",
        "\n",
        "\n"
      ],
      "metadata": {
        "id": "-p1OoREIQIQU"
      }
    }
  ]
}